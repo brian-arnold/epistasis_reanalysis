{
 "cells": [
  {
   "cell_type": "code",
   "execution_count": 1,
   "metadata": {},
   "outputs": [],
   "source": [
    "import pandas as pd\n",
    "import seaborn as sns\n",
    "import numpy as np\n",
    "from collections import defaultdict\n",
    "import math\n",
    "import matplotlib.pyplot as plt\n",
    "from bisect import bisect_left\n",
    "import statsmodels.api as sm\n",
    "from scipy.stats import hypergeom\n",
    "\n",
    "# personal modules\n",
    "import databases as db\n",
    "import kuzmin_data as data\n"
   ]
  },
  {
   "cell_type": "markdown",
   "metadata": {},
   "source": [
    "From the supplement of the Kuzmin et al 2020 paper: \"The scoring of 537,911 double and 256,861 triple mutants identified 4,650 negative and 2,547 positive digenic interactions and 2,466 negative and 2,091 positive trigenic interactions.\""
   ]
  },
  {
   "cell_type": "code",
   "execution_count": 2,
   "metadata": {},
   "outputs": [],
   "source": [
    "kuzmin_2020_data_dir = \"/Users/bjarnold/Princeton_DataX/Epistasis/higher_order_reanalysis/yeast_screens/KuzminEtAl2020\"\n",
    "kuzmin_2020_s1, kuzmin_2020_s1_digenic, kuzmin_2020_s1_trigenic = data.load_kuzmin_2020_s1(kuzmin_2020_data_dir)\n",
    "kuzmin_2020_s3, kuzmin_2020_s3_digenic = data.load_kuzmin_2020_s3(kuzmin_2020_data_dir)\n",
    "kuzmin_2020_s5, kuzmin_2020_s5_singMut, kuzmin_2020_s5_dblMut = data.load_kuzmin_2020_s5(kuzmin_2020_data_dir)\n",
    "kuzmin_2020_s2 = data.load_kuzmin_2020_s2(kuzmin_2020_data_dir)\n"
   ]
  },
  {
   "cell_type": "code",
   "execution_count": 2,
   "metadata": {},
   "outputs": [
    {
     "name": "stdout",
     "output_type": "stream",
     "text": [
      "digenic     537911\n",
      "trigenic    256861\n",
      "Name: combined_mutant_type, dtype: int64\n",
      "digenic     7197\n",
      "trigenic    4557\n",
      "Name: combined_mutant_type, dtype: int64\n",
      "summing total digenic from Kuzmin 2020: 7197\n",
      "summing total trigenic from Kuzmin 2020: 4557\n"
     ]
    }
   ],
   "source": [
    "kuzmin_2020_data_dir = \"/Users/bjarnold/Princeton_DataX/Epistasis/higher_order_reanalysis/yeast_screens/KuzminEtAl2020\"\n",
    "kuzmin_2020_s1 = pd.read_csv(f\"{kuzmin_2020_data_dir}/aaz5667-Table-S1.txt\", sep=\"\\t\")\n",
    "kuzmin_2020_s2 = pd.read_csv(f\"{kuzmin_2020_data_dir}/aaz5667-Table-S2.txt\", sep=\"\\t\")\n",
    "kuzmin_2020_s3 = pd.read_csv(f\"{kuzmin_2020_data_dir}/aaz5667-Table-S3.txt\", sep=\"\\t\")\n",
    "kuzmin_2020_s5 = pd.read_csv(f\"{kuzmin_2020_data_dir}/aaz5667-Table-S5.txt\", sep=\"\\t\")\n",
    "\n",
    "\n",
    "kuzmin_2020_s1 = kuzmin_2020_s1.rename(columns = {\"Query strain ID\" : \"query_strain_id\",\n",
    "                        \"Query allele name\": \"query_allele_name\",\n",
    "                        \"Array strain ID\": \"array_strain_id\",\n",
    "                        \"Array allele name\": \"array_allele_name\",\n",
    "                        \"Combined mutant type\": \"combined_mutant_type\",\n",
    "                        \"Raw genetic interaction score (epsilon)\": \"raw_interaction_score_epsilon\",\n",
    "                        \"Adjusted genetic interaction score (epsilon or tau)\": \"adjusted_interaction_score_epsilon_or_tau\",\n",
    "                        \"P-value\": \"pval\",\n",
    "                        \"Query single/double mutant fitness\": \"query_single_double_mutant_fitness\",\n",
    "                        \"Array single mutant fitness\": \"array_single_mutant_fitness\",\n",
    "                        \"Double/triple mutant fitness\": \"double_triple_mutant_fitness\",\n",
    "                        \"Double/triple mutant fitness standard deviation\": \"double_triple_mutant_fitness_std\"})\n",
    "\n",
    "\n",
    "kuzmin_2020_s1.query_allele_name = kuzmin_2020_s1.query_allele_name.str.replace(\"_\",\"\")\n",
    "kuzmin_2020_s1.array_allele_name = kuzmin_2020_s1.array_allele_name.str.replace(\"_\",\"\")\n",
    "\n",
    "kuzmin_2020_s1[['query1_allele_name', 'query2_allele_name']] = kuzmin_2020_s1.query_allele_name.str.split(\"+\", expand=True)\n",
    "kuzmin_2020_s1['alleles'] = kuzmin_2020_s1[['query1_allele_name', 'query2_allele_name', 'array_allele_name']].agg(','.join, axis=1)\n",
    "\n",
    "kuzmin_2020_s1_trigenic = kuzmin_2020_s1[kuzmin_2020_s1.combined_mutant_type == 'trigenic'].drop(columns=['combined_mutant_type'])\n",
    "kuzmin_2020_s1_trigenic = kuzmin_2020_s1_trigenic.reset_index(drop=True)\n",
    "kuzmin_2020_s1_digenic = kuzmin_2020_s1[kuzmin_2020_s1.combined_mutant_type == 'digenic'].drop(columns=['combined_mutant_type'])\n",
    "# ho will either be the 1st or second query allele, never the array allele\n",
    "kuzmin_2020_s1_digenic.alleles = kuzmin_2020_s1_digenic.alleles.str.replace(\"ho,\",\"\")\n",
    "kuzmin_2020_s1_digenic = kuzmin_2020_s1_digenic.reset_index(drop=True)\n",
    "\n",
    "\n",
    "kuzmin_2020_s2 = kuzmin_2020_s2.rename(columns = {\"Query strain ID\" : \"query_strain_id\",\n",
    "                        \"Query allele name\": \"query_allele_name\",\n",
    "                        \"Array strain ID\": \"array_strain_id\",\n",
    "                        \"Array allele name\": \"array_allele_name\",\n",
    "                        \"Combined mutant type\": \"combined_mutant_type\",\n",
    "                        \"Adjusted genetic interaction score (epsilon or tau)\": \"adjusted_interaction_score_epsilon_or_tau\",\n",
    "                        \"P-value\": \"pval\",\n",
    "                        \"Digenic, Modified trigenic, or Novel trigenic\": \"digenic_modifiedTrigenic_novelTrigenic\"})\n",
    "\n",
    "kuzmin_2020_s2[['query1_allele_name', 'query2_allele_name']] = kuzmin_2020_s2.query_allele_name.str.split(\"+\", expand=True)\n",
    "kuzmin_2020_s2['three_alleles'] = kuzmin_2020_s2[['query1_allele_name', 'query2_allele_name', 'array_allele_name']].agg(','.join, axis=1)\n",
    "kuzmin_2020_s2.three_alleles = kuzmin_2020_s2.three_alleles.str.replace(\"_\",\"\")\n",
    "\n",
    "\n",
    "# note on s3: query allele fitness for digenic crosses are all NaN, only array allele fitness available\n",
    "kuzmin_2020_s3 = kuzmin_2020_s3.rename(columns = {\"Query strain ID\" : \"query_strain_id\",\n",
    "                        \"Query allele name\": \"query_allele_name\",\n",
    "                        \"Array strain ID\": \"array_strain_id\",\n",
    "                        \"Array allele name\": \"array_allele_name\",\n",
    "                        \"Combined mutant type\": \"combined_mutant_type\",\n",
    "                        \"Raw genetic interaction score (epsilon)\": \"raw_interaction_score_epsilon\",\n",
    "                        \"Adjusted genetic interaction score (epsilon or tau)\": \"adjusted_interaction_score_epsilon_or_tau\",\n",
    "                        \"P-value\": \"pval\",\n",
    "                        \"Query single/double mutant fitness\": \"query_single_double_mutant_fitness\",\n",
    "                        \"Array single mutant fitness\": \"array_single_mutant_fitness\",\n",
    "                        \"Double/triple mutant fitness\": \"double_triple_mutant_fitness\",\n",
    "                        \"Double/triple mutant fitness standard deviation\": \"double_triple_mutant_fitness_std\"})\n",
    "\n",
    "kuzmin_2020_s3.query_allele_name = kuzmin_2020_s3.query_allele_name.str.replace(\"_\",\"\")\n",
    "kuzmin_2020_s3.array_allele_name = kuzmin_2020_s3.array_allele_name.str.replace(\"_\",\"\")\n",
    "\n",
    "kuzmin_2020_s3_digenic = kuzmin_2020_s3[kuzmin_2020_s3.combined_mutant_type == \"digenic\"]\n",
    "\n",
    "# S5 table with single and double mutant fitnesses\n",
    "kuzmin_2020_s5 = kuzmin_2020_s5.rename(columns = {\"Allele1\" : \"allele1\",\n",
    "                                            \"Allele2\" : \"allele2\",\n",
    "                                            \"Mutant type\" : \"mutant_type\",\n",
    "                                            \"Fitness\" : \"fitness\",\n",
    "                                            \"St.dev.\" : \"std\"})\n",
    "\n",
    "kuzmin_2020_s5.allele1 = kuzmin_2020_s5.allele1.str.replace(\"_\",\"\")\n",
    "kuzmin_2020_s5.allele2 = kuzmin_2020_s5.allele2.str.replace(\"_\",\"\")\n",
    "kuzmin_2020_s5['alleles'] = kuzmin_2020_s5[['allele1', 'allele2']].agg(','.join, axis=1)\n",
    "kuzmin_2020_s5.alleles = kuzmin_2020_s5.alleles.str.replace(\"ho,\",\"\")\n",
    "kuzmin_2020_s5.alleles = kuzmin_2020_s5.alleles.str.replace(\"ho\",\"\")\n",
    "\n",
    "kuzmin_2020_s5_dblMut = kuzmin_2020_s5[kuzmin_2020_s5.mutant_type == \"Double mutant\"]\n",
    "kuzmin_2020_s5_singMut = kuzmin_2020_s5[kuzmin_2020_s5.mutant_type == \"Single mutant\"]\n",
    "\n",
    "print(kuzmin_2020_s1.combined_mutant_type.value_counts())\n",
    "print(kuzmin_2020_s2.combined_mutant_type.value_counts())\n",
    "print(\"summing total digenic from Kuzmin 2020:\", 4650+2547)\n",
    "print(\"summing total trigenic from Kuzmin 2020:\", 2466+2091)\n"
   ]
  },
  {
   "cell_type": "code",
   "execution_count": 3,
   "metadata": {},
   "outputs": [],
   "source": [
    "# create dictionaries of fitness/interaction values for quick lookup tables\n",
    "# these will be used to recompute tau on cumulant and multiplicative scale\n",
    "\n",
    "kuzmin_2020_s1_dblMutFit = dict(zip(kuzmin_2020_s1_digenic.alleles, kuzmin_2020_s1_digenic.double_triple_mutant_fitness))\n",
    "kuzmin_2020_s1_epsilon = dict(zip(kuzmin_2020_s1_digenic.alleles, kuzmin_2020_s1_digenic.raw_interaction_score_epsilon))\n",
    "kuzmin_2020_s1_singMutFit = dict(zip(kuzmin_2020_s1.array_allele_name, kuzmin_2020_s1.array_single_mutant_fitness))\n",
    "\n",
    "kuzmin_2020_s3_singMutFit = dict(zip(kuzmin_2020_s3.array_allele_name, kuzmin_2020_s3.array_single_mutant_fitness))\n",
    "\n",
    "kuzmin_2020_s5_dblMutFit = dict(zip(kuzmin_2020_s5_dblMut.alleles, kuzmin_2020_s5_dblMut.fitness))\n",
    "kuzmin_2020_s5_singMutFit = dict(zip(kuzmin_2020_s5_singMut.alleles, kuzmin_2020_s5_singMut.fitness))\n"
   ]
  },
  {
   "cell_type": "code",
   "execution_count": 5,
   "metadata": {},
   "outputs": [
    {
     "name": "stdout",
     "output_type": "stream",
     "text": [
      "537911\n",
      "537911\n"
     ]
    }
   ],
   "source": [
    "print(len(kuzmin_2020_s1_digenic))\n",
    "print(len(kuzmin_2020_s1_digenic.alleles.unique()))"
   ]
  },
  {
   "cell_type": "markdown",
   "metadata": {},
   "source": [
    "**From the main text**:\n",
    "\n",
    "Using colony size as a proxy for cell fitness, we measured the growth pheno- types of the set of 240 double-mutant query strains and the corresponding 480 single mu- tants (table S5) (42), which correlated well with previous large-scale measurements of single-mutant fitness (Pearson correlation co- efficient r =0.51, P =3×10−30)\n",
    "\n",
    "**From the supplement**:\n",
    "\n",
    "The mean single mutant fitness estimates of each array strain were obtained from a previous study (37).\n",
    "\n",
    "**Conclusion**:\n",
    "\n",
    "Double mutants:\n",
    "\n",
    "- take ij mutants from Kuzmin 2020 S5\n",
    "\n",
    "- take ik and jk mutants from Kuzmin 2020 S1\n",
    "\n",
    "Single mutants:\n",
    "\n",
    "- take i from Kuzmin 2020 S3?????\n",
    "\n",
    "- take j from Kuzmin 2020 S5\n",
    "\n",
    "- take k from Kuzmin 2020 S1\n"
   ]
  },
  {
   "cell_type": "markdown",
   "metadata": {},
   "source": [
    "Consider three genes i, j, and k. Based on the experimental design of Kuzmin et al, they compute digenic interaction effects between genes i and k (e_ik) and between genes j and k (e_jk). Then, they cross the double mutant ij with single mutant k. This cross introduces 3 interaction effects: 2 digenic (e_ik and e_jk) and 1 trigenic (t_ijk). They compute the trigenic effect by subtracting out the two previously calculated digenic effects. Note that e_ij isn't calculated here and is irrelevant.\n",
    "\n",
    "For each triple mutant ijk, let's confirm that double mutants ik and jk exist:"
   ]
  },
  {
   "cell_type": "code",
   "execution_count": 6,
   "metadata": {},
   "outputs": [],
   "source": [
    "\n",
    "f_ij, f_ik, f_jk = defaultdict(), defaultdict(), defaultdict()\n",
    "f_i, f_j, f_k = defaultdict(), defaultdict(), defaultdict()\n",
    "e_ik_kuz, e_jk_kuz = defaultdict(), defaultdict()\n",
    "\n",
    "for i, row in kuzmin_2020_s1_trigenic.iterrows():\n",
    "    #if i <= 100:\n",
    "        alleles = row['alleles'].split(\",\")\n",
    "        ij = alleles[0] + \",\" + alleles[1]\n",
    "        ji = alleles[1] + \",\" + alleles[0]\n",
    "\n",
    "        ik = alleles[0] + \",\" + alleles[2]\n",
    "        ki = alleles[2] + \",\" + alleles[0]\n",
    "\n",
    "        jk = alleles[1] + \",\" + alleles[2]\n",
    "        kj = alleles[2] + \",\" + alleles[1]\n",
    "\n",
    "        i,j,k = alleles[0], alleles[1], alleles[2]\n",
    "       \n",
    "        try:\n",
    "            f_ij[row['alleles']] = kuzmin_2020_s5_dblMutFit[ij]\n",
    "        except KeyError:\n",
    "            try:\n",
    "                f_ij[row['alleles']] = kuzmin_2020_s5_dblMutFit[ji]\n",
    "            except:\n",
    "                f_ij[row['alleles']] = float('nan')\n",
    "        try:\n",
    "            f_ik[row['alleles']] = kuzmin_2020_s1_dblMutFit[ik]\n",
    "        except KeyError:\n",
    "            try:\n",
    "                f_ik[row['alleles']] = kuzmin_2020_s1_dblMutFit[ki]\n",
    "            except:\n",
    "                f_ik[row['alleles']] = float('nan')\n",
    "        try:\n",
    "            f_jk[row['alleles']] = kuzmin_2020_s1_dblMutFit[jk]\n",
    "        except KeyError:\n",
    "            try:\n",
    "                f_jk[row['alleles']] = kuzmin_2020_s1_dblMutFit[kj]\n",
    "            except:\n",
    "                f_jk[row['alleles']] = float('nan')\n",
    "        \n",
    "        \n",
    "        # get single mutant fitnesses\n",
    "        try:\n",
    "            f_i[row['alleles']] = kuzmin_2020_s3_singMutFit[i]\n",
    "        except KeyError:\n",
    "            f_i[row['alleles']] = float('nan')\n",
    "        try:\n",
    "            f_j[row['alleles']] = kuzmin_2020_s5_singMutFit[j]\n",
    "        except KeyError:\n",
    "            f_j[row['alleles']] = float('nan')  \n",
    "        try:\n",
    "            f_k[row['alleles']] = kuzmin_2020_s1_singMutFit[k]\n",
    "        except KeyError:\n",
    "            f_k[row['alleles']] = float('nan')      \n",
    "\n",
    "       \n",
    "       # get pairwise epistasis\n",
    "        try:\n",
    "            e_ik_kuz[row['alleles']] = kuzmin_2020_s1_epsilon[ik]\n",
    "        except KeyError:\n",
    "            try:\n",
    "                e_ik_kuz[row['alleles']] = kuzmin_2020_s1_epsilon[ki]\n",
    "            except:\n",
    "                e_ik_kuz[row['alleles']] = float('nan')\n",
    "\n",
    "        try:\n",
    "            e_jk_kuz[row['alleles']] = kuzmin_2020_s1_epsilon[jk]\n",
    "        except KeyError:\n",
    "            try:\n",
    "                e_jk_kuz[row['alleles']] = kuzmin_2020_s1_epsilon[kj]\n",
    "            except:\n",
    "                e_jk_kuz[row['alleles']] = float('nan')\n",
    "\n",
    "kuzmin_2020_s1_trigenic['f_ij'] = kuzmin_2020_s1_trigenic['alleles'].map(f_ij)\n",
    "kuzmin_2020_s1_trigenic['f_ik'] = kuzmin_2020_s1_trigenic['alleles'].map(f_ik)\n",
    "kuzmin_2020_s1_trigenic['f_jk'] = kuzmin_2020_s1_trigenic['alleles'].map(f_jk)\n",
    "\n",
    "kuzmin_2020_s1_trigenic['f_i'] = kuzmin_2020_s1_trigenic['alleles'].map(f_i)\n",
    "kuzmin_2020_s1_trigenic['f_j'] = kuzmin_2020_s1_trigenic['alleles'].map(f_j)\n",
    "kuzmin_2020_s1_trigenic['f_k'] = kuzmin_2020_s1_trigenic['alleles'].map(f_k)\n",
    "\n",
    "kuzmin_2020_s1_trigenic['e_ik_kuz'] = kuzmin_2020_s1_trigenic['alleles'].map(e_ik_kuz)\n",
    "kuzmin_2020_s1_trigenic['e_jk_kuz'] = kuzmin_2020_s1_trigenic['alleles'].map(e_jk_kuz)\n",
    "\n"
   ]
  },
  {
   "cell_type": "code",
   "execution_count": 7,
   "metadata": {},
   "outputs": [
    {
     "name": "stdout",
     "output_type": "stream",
     "text": [
      "215617\n",
      "256850\n",
      "256773\n",
      "226427\n",
      "254763\n",
      "256861\n",
      "\n",
      "256850\n",
      "256773\n",
      "189340\n",
      "189340\n",
      "256861\n",
      "0.7371301988234882\n"
     ]
    }
   ],
   "source": [
    "\n",
    "\n",
    "print(np.sum(~np.isnan(kuzmin_2020_s1_trigenic.f_ij)))\n",
    "print(np.sum(~np.isnan(kuzmin_2020_s1_trigenic.f_ik)))\n",
    "print(np.sum(~np.isnan(kuzmin_2020_s1_trigenic.f_jk)))\n",
    "print(np.sum(~np.isnan(kuzmin_2020_s1_trigenic.f_i)))\n",
    "print(np.sum(~np.isnan(kuzmin_2020_s1_trigenic.f_j)))\n",
    "print(np.sum(~np.isnan(kuzmin_2020_s1_trigenic.f_k)))\n",
    "print()\n",
    "print(np.sum(~np.isnan(kuzmin_2020_s1_trigenic.e_ik_kuz)))\n",
    "print(np.sum(~np.isnan(kuzmin_2020_s1_trigenic.e_jk_kuz)))\n",
    "\n",
    "#print(len(kuzmin_2020_s1_trigenic.f_ik))\n",
    "print(len(kuzmin_2020_s1_trigenic.dropna(subset=['f_i', 'f_j', 'f_k', 'f_ij', 'f_ik', 'f_jk', 'e_ik_kuz', 'e_jk_kuz'])))\n",
    "print(len(kuzmin_2020_s1_trigenic.dropna(subset=['f_i', 'f_j', 'f_k', 'f_ij', 'f_ik', 'f_jk'])))\n",
    "print(len(kuzmin_2020_s1_trigenic))\n",
    "print(len(kuzmin_2020_s1_trigenic.dropna(subset=['f_i', 'f_j', 'f_k', 'f_ij', 'f_ik', 'f_jk']))/len(kuzmin_2020_s1_trigenic))"
   ]
  },
  {
   "cell_type": "code",
   "execution_count": 8,
   "metadata": {},
   "outputs": [
    {
     "name": "stdout",
     "output_type": "stream",
     "text": [
      "0.9891940424632936\n",
      "187294\n"
     ]
    },
    {
     "data": {
      "text/html": [
       "<div>\n",
       "<style scoped>\n",
       "    .dataframe tbody tr th:only-of-type {\n",
       "        vertical-align: middle;\n",
       "    }\n",
       "\n",
       "    .dataframe tbody tr th {\n",
       "        vertical-align: top;\n",
       "    }\n",
       "\n",
       "    .dataframe thead th {\n",
       "        text-align: right;\n",
       "    }\n",
       "</style>\n",
       "<table border=\"1\" class=\"dataframe\">\n",
       "  <thead>\n",
       "    <tr style=\"text-align: right;\">\n",
       "      <th></th>\n",
       "      <th>tau_kuzmin_orig</th>\n",
       "      <th>adjusted_interaction_score_epsilon_or_tau</th>\n",
       "    </tr>\n",
       "  </thead>\n",
       "  <tbody>\n",
       "    <tr>\n",
       "      <th>tau_kuzmin_orig</th>\n",
       "      <td>1.000000</td>\n",
       "      <td>0.997447</td>\n",
       "    </tr>\n",
       "    <tr>\n",
       "      <th>adjusted_interaction_score_epsilon_or_tau</th>\n",
       "      <td>0.997447</td>\n",
       "      <td>1.000000</td>\n",
       "    </tr>\n",
       "  </tbody>\n",
       "</table>\n",
       "</div>"
      ],
      "text/plain": [
       "                                           tau_kuzmin_orig  \\\n",
       "tau_kuzmin_orig                                   1.000000   \n",
       "adjusted_interaction_score_epsilon_or_tau         0.997447   \n",
       "\n",
       "                                           adjusted_interaction_score_epsilon_or_tau  \n",
       "tau_kuzmin_orig                                                             0.997447  \n",
       "adjusted_interaction_score_epsilon_or_tau                                   1.000000  "
      ]
     },
     "execution_count": 8,
     "metadata": {},
     "output_type": "execute_result"
    },
    {
     "data": {
      "image/png": "[encoded data removed]",
      "text/plain": [
       "<Figure size 1080x360 with 2 Axes>"
      ]
     },
     "metadata": {
      "needs_background": "light"
     },
     "output_type": "display_data"
    }
   ],
   "source": [
    "# recalculate tau using the formula in the supplement of Kuzmin 2018\n",
    "\n",
    "kuzmin_2020_s1_trigenic = kuzmin_2020_s1_trigenic.dropna(subset=['f_i', 'f_j', 'f_k', 'f_ij', 'f_ik', 'f_jk', 'e_ik_kuz', 'e_jk_kuz'])\n",
    "threshold = 0.1\n",
    "\n",
    "df = kuzmin_2020_s1_trigenic\n",
    "df['tau_kuzmin_orig'] = df.double_triple_mutant_fitness - df.f_ij*df.f_k - df.e_ik_kuz*df.f_j - df.e_jk_kuz*df.f_i\n",
    "# filter out results that aren't reproducible according to the original equation\n",
    "print(len(df[abs(df.tau_kuzmin_orig - df.adjusted_interaction_score_epsilon_or_tau) <= threshold])/len(df))\n",
    "df = df[abs(df.tau_kuzmin_orig - df.adjusted_interaction_score_epsilon_or_tau) <= threshold]\n",
    "print(len(df))\n",
    "\n",
    "fig, axs = plt.subplots(ncols=2, figsize=(15,5))\n",
    "\n",
    "p = sns.kdeplot(df['adjusted_interaction_score_epsilon_or_tau'], ax=axs[0], color=\"blue\")\n",
    "p = sns.kdeplot(df['tau_kuzmin_orig'], ax=axs[0], color=\"red\")\n",
    "p.set(xlabel='tau (reported blue, computed red)')\n",
    "\n",
    "p = sns.regplot(x=df['tau_kuzmin_orig'],\n",
    "            y=df['adjusted_interaction_score_epsilon_or_tau'],\n",
    "            scatter_kws={'alpha':0.01},\n",
    "            line_kws={'color': 'red'},\n",
    "            ax=axs[1])\n",
    "p.set(xlabel='tau_recalculated', ylabel='tau_reported')\n",
    "\n",
    "df[['tau_kuzmin_orig', 'adjusted_interaction_score_epsilon_or_tau']].corr(method=\"pearson\")\n"
   ]
  },
  {
   "cell_type": "code",
   "execution_count": 9,
   "metadata": {},
   "outputs": [
    {
     "name": "stderr",
     "output_type": "stream",
     "text": [
      "/Users/bjarnold/miniconda/envs/datascience/lib/python3.8/site-packages/pandas/core/indexing.py:845: SettingWithCopyWarning: \n",
      "A value is trying to be set on a copy of a slice from a DataFrame.\n",
      "Try using .loc[row_indexer,col_indexer] = value instead\n",
      "\n",
      "See the caveats in the documentation: https://pandas.pydata.org/pandas-docs/stable/user_guide/indexing.html#returning-a-view-versus-a-copy\n",
      "  self.obj[key] = _infer_fill_value(value)\n",
      "/Users/bjarnold/miniconda/envs/datascience/lib/python3.8/site-packages/pandas/core/indexing.py:966: SettingWithCopyWarning: \n",
      "A value is trying to be set on a copy of a slice from a DataFrame.\n",
      "Try using .loc[row_indexer,col_indexer] = value instead\n",
      "\n",
      "See the caveats in the documentation: https://pandas.pydata.org/pandas-docs/stable/user_guide/indexing.html#returning-a-view-versus-a-copy\n",
      "  self.obj[item] = s\n"
     ]
    }
   ],
   "source": [
    "# recalculate tau using isserlis formula\n",
    "# encountered issue b/c f_jk != (f_j*f_k + e_jk)\n",
    "\n",
    "# subsituting in f_jk for (f_j*f_k + e_jk) and f_ik for (f_i*f_k + e_ik)\n",
    "df.loc[:, 'tau_isserlis'] = df.double_triple_mutant_fitness + 2*df.f_i*df.f_j*df.f_k - df.f_i*df.f_jk - df.f_j*df.f_ik - df.f_k*df.f_ij\n",
    "\n",
    "# calculate multiplicative results\n",
    "# compare these with tau_isserlis\n",
    "df.loc[:,'e_ik_mult'] = df.f_ik/(df.f_i*df.f_k)\n",
    "df.loc[:,'e_jk_mult'] = df.f_jk/(df.f_j*df.f_k)\n",
    "#df.loc[:,'tau_multiplicative'] = df.double_triple_mutant_fitness/(df.f_ij*df.f_k*df.e_ik_mult*df.e_jk_mult) \n",
    "df.loc[:,'tau_multiplicative'] = (df.double_triple_mutant_fitness*df.f_i*df.f_j*df.f_k)/(df.f_ij*df.f_ik*df.f_jk) \n",
    "\n",
    "###########################################################################\n",
    "\n",
    "# subsituting in (f_j*f_k + e_jk) for f_jk and (f_i*f_k + e_ik) for f_ik\n",
    "# gives results that are similar to original, see sanityChecks notebook\n",
    "df.loc[:, 'f_ik_2'] = df.f_i*df.f_k + df.e_ik_kuz\n",
    "df.loc[:, 'f_jk_2'] = df.f_j*df.f_k + df.e_jk_kuz\n",
    "\n",
    "df.loc[df['f_ik_2'] < 0, ['f_ik_2']] = np.nan\n",
    "df.loc[df['f_jk_2'] < 0, ['f_jk_2']] = np.nan\n",
    "\n",
    "df.loc[:,'e_ik_mult2'] = df.f_ik_2/(df.f_i*df.f_k)\n",
    "df.loc[:,'e_jk_mult2'] = df.f_jk_2/(df.f_j*df.f_k)\n",
    "\n",
    "df.loc[:, 'tau_isserlis2'] = df.double_triple_mutant_fitness + 2*df.f_i*df.f_j*df.f_k - df.f_i*df.f_jk_2 - df.f_j*df.f_ik_2 - df.f_k*df.f_ij\n",
    "\n",
    "# calculate multiplicative results using the custom dbl mutant fitnesses that gave results consistent with those reported (above)\n",
    "# compare these with tau_isserlis2\n",
    "#df.loc[:,'tau_multiplicative2'] = df.double_triple_mutant_fitness/(df.f_ij*df.f_k*df.e_ik_mult2*df.e_jk_mult2) \n",
    "df.loc[:,'tau_multiplicative2'] = (df.double_triple_mutant_fitness*df.f_i*df.f_j*df.f_k)/(df.f_ij*df.f_ik_2*df.f_jk_2) \n"
   ]
  },
  {
   "cell_type": "code",
   "execution_count": 10,
   "metadata": {},
   "outputs": [
    {
     "name": "stderr",
     "output_type": "stream",
     "text": [
      "/Users/bjarnold/miniconda/envs/datascience/lib/python3.8/site-packages/IPython/core/interactiveshell.py:3337: DtypeWarning: Columns (1,2,18) have mixed types.Specify dtype option on import or set low_memory=False.\n",
      "  if (await self.run_code(code, result,  async_=asy)):\n",
      "<ipython-input-10-e90b0986ad64>:29: SettingWithCopyWarning: \n",
      "A value is trying to be set on a copy of a slice from a DataFrame.\n",
      "Try using .loc[row_indexer,col_indexer] = value instead\n",
      "\n",
      "See the caveats in the documentation: https://pandas.pydata.org/pandas-docs/stable/user_guide/indexing.html#returning-a-view-versus-a-copy\n",
      "  df['num_physical_interactions'] = df['alleles'].map(num_physical_interactions)\n",
      "<ipython-input-10-e90b0986ad64>:30: SettingWithCopyWarning: \n",
      "A value is trying to be set on a copy of a slice from a DataFrame.\n",
      "Try using .loc[row_indexer,col_indexer] = value instead\n",
      "\n",
      "See the caveats in the documentation: https://pandas.pydata.org/pandas-docs/stable/user_guide/indexing.html#returning-a-view-versus-a-copy\n",
      "  df['oneplus_physical_interactions'] = df['alleles'].map(oneplus_physical_interactions)\n",
      "<ipython-input-10-e90b0986ad64>:31: SettingWithCopyWarning: \n",
      "A value is trying to be set on a copy of a slice from a DataFrame.\n",
      "Try using .loc[row_indexer,col_indexer] = value instead\n",
      "\n",
      "See the caveats in the documentation: https://pandas.pydata.org/pandas-docs/stable/user_guide/indexing.html#returning-a-view-versus-a-copy\n",
      "  df['twoplus_physical_interactions'] = df['alleles'].map(twoplus_physical_interactions)\n"
     ]
    },
    {
     "data": {
      "text/plain": [
       "0    143299\n",
       "1     43063\n",
       "2       830\n",
       "3       102\n",
       "Name: num_physical_interactions, dtype: int64"
      ]
     },
     "execution_count": 10,
     "metadata": {},
     "output_type": "execute_result"
    }
   ],
   "source": [
    "# gene_physical_pairwise_interactions contains a set of sorted 2-tuples of genes particupating in pairwise protein interactions\n",
    "\n",
    "gene_physical_pairwise_interactions = db.get_physical_interactions_yeastGenomeDotOrg()\n",
    "\n",
    "# BIOGRID contains physical interactions measured from a variety of assays including co-localization\n",
    "gene_physical_pairwise_interactions = db.get_physical_interactions_BIOGRID()\n",
    "\n",
    "num_physical_interactions = {}\n",
    "oneplus_physical_interactions = {}\n",
    "twoplus_physical_interactions = {}\n",
    "\n",
    "for i,r in df.iterrows():\n",
    "    # alleles in gene_physical_pairwise_interactions are sorted\n",
    "    alleles = sorted(r['alleles'].split(\",\"))\n",
    "    alleles = [db.gene_stem_name(i.upper()) for i in alleles]\n",
    "    allele_pairs = [tuple([alleles[0],alleles[1]]), \n",
    "                    tuple([alleles[0],alleles[2]]), \n",
    "                    tuple([alleles[1],alleles[2]])]\n",
    "    num_physical_interactions[r['alleles']] = 0\n",
    "    oneplus_physical_interactions[r['alleles']] = 0\n",
    "    twoplus_physical_interactions[r['alleles']] = 0\n",
    "    for p in allele_pairs:\n",
    "        if p in gene_physical_pairwise_interactions:\n",
    "            num_physical_interactions[r['alleles']] += 1\n",
    "            oneplus_physical_interactions[r['alleles']] = 1\n",
    "        if num_physical_interactions[r['alleles']] >= 2:\n",
    "            twoplus_physical_interactions[r['alleles']] = 1\n",
    "\n",
    "df['num_physical_interactions'] = df['alleles'].map(num_physical_interactions)\n",
    "df['oneplus_physical_interactions'] = df['alleles'].map(oneplus_physical_interactions)\n",
    "df['twoplus_physical_interactions'] = df['alleles'].map(twoplus_physical_interactions)\n",
    "df['num_physical_interactions'].value_counts()\n"
   ]
  },
  {
   "cell_type": "code",
   "execution_count": 11,
   "metadata": {},
   "outputs": [
    {
     "data": {
      "text/html": [
       "<div>\n",
       "<style scoped>\n",
       "    .dataframe tbody tr th:only-of-type {\n",
       "        vertical-align: middle;\n",
       "    }\n",
       "\n",
       "    .dataframe tbody tr th {\n",
       "        vertical-align: top;\n",
       "    }\n",
       "\n",
       "    .dataframe thead th {\n",
       "        text-align: right;\n",
       "    }\n",
       "</style>\n",
       "<table border=\"1\" class=\"dataframe\">\n",
       "  <thead>\n",
       "    <tr style=\"text-align: right;\">\n",
       "      <th></th>\n",
       "      <th>tau_isserlis2</th>\n",
       "      <th>adjusted_interaction_score_epsilon_or_tau</th>\n",
       "    </tr>\n",
       "  </thead>\n",
       "  <tbody>\n",
       "    <tr>\n",
       "      <th>tau_isserlis2</th>\n",
       "      <td>1.000000</td>\n",
       "      <td>0.997449</td>\n",
       "    </tr>\n",
       "    <tr>\n",
       "      <th>adjusted_interaction_score_epsilon_or_tau</th>\n",
       "      <td>0.997449</td>\n",
       "      <td>1.000000</td>\n",
       "    </tr>\n",
       "  </tbody>\n",
       "</table>\n",
       "</div>"
      ],
      "text/plain": [
       "                                           tau_isserlis2  \\\n",
       "tau_isserlis2                                   1.000000   \n",
       "adjusted_interaction_score_epsilon_or_tau       0.997449   \n",
       "\n",
       "                                           adjusted_interaction_score_epsilon_or_tau  \n",
       "tau_isserlis2                                                               0.997449  \n",
       "adjusted_interaction_score_epsilon_or_tau                                   1.000000  "
      ]
     },
     "execution_count": 11,
     "metadata": {},
     "output_type": "execute_result"
    },
    {
     "data": {
      "image/png": "[encoded data removed]",
      "text/plain": [
       "<Figure size 1080x360 with 2 Axes>"
      ]
     },
     "metadata": {
      "needs_background": "light"
     },
     "output_type": "display_data"
    }
   ],
   "source": [
    "tau = \"tau_isserlis2\"\n",
    "\n",
    "fig, axs = plt.subplots(ncols=2, figsize=(15,5))\n",
    "\n",
    "p = sns.kdeplot(df['adjusted_interaction_score_epsilon_or_tau'], ax=axs[0], color=\"blue\")\n",
    "p = sns.kdeplot(df[tau], ax=axs[0], color=\"red\")\n",
    "p.set(xlabel='tau (reported blue, computed red)')\n",
    "\n",
    "p = sns.regplot(x=df[tau],\n",
    "            y=df['adjusted_interaction_score_epsilon_or_tau'],\n",
    "            scatter_kws={'alpha':0.01},\n",
    "            line_kws={'color': 'red'},\n",
    "            ax=axs[1])\n",
    "p.set(xlabel='tau_recalculated', ylabel='tau_reported')\n",
    "axs[1].axline([-0.75, -0.75], [1, 1], linestyle=\"--\", color=\"black\")\n",
    "\n",
    "df[[tau, 'adjusted_interaction_score_epsilon_or_tau']].corr(method=\"pearson\")"
   ]
  },
  {
   "cell_type": "code",
   "execution_count": 12,
   "metadata": {},
   "outputs": [
    {
     "name": "stdout",
     "output_type": "stream",
     "text": [
      "reported mean 0.00447713709996049\n",
      "multiplicative mean 0.9699022075451835\n",
      "multiplicative mean, diff dbl mut vals 1.0130213672767956\n",
      "###\n",
      "reported std 0.05943114514300463\n",
      "multiplicative std 0.17337197100465504\n",
      "multiplicative std, diff dbl mutant vals 0.40274533538636875\n"
     ]
    }
   ],
   "source": [
    "print(\"reported mean\", np.nanmean(df.adjusted_interaction_score_epsilon_or_tau))\n",
    "print(\"multiplicative mean\", np.nanmean(df.tau_multiplicative))\n",
    "print(\"multiplicative mean, diff dbl mut vals\", np.nanmean(df.tau_multiplicative2))\n",
    "\n",
    "print(\"###\")\n",
    "print(\"reported std\", np.nanstd(df.adjusted_interaction_score_epsilon_or_tau))\n",
    "print(\"multiplicative std\", np.nanstd(df.tau_multiplicative))\n",
    "print(\"multiplicative std, diff dbl mutant vals\", np.nanstd(df.tau_multiplicative2))\n"
   ]
  },
  {
   "cell_type": "code",
   "execution_count": 13,
   "metadata": {},
   "outputs": [],
   "source": [
    "use_reported_double_mutant_fitnesses = False\n",
    "\n",
    "if use_reported_double_mutant_fitnesses:\n",
    "    multiplicative = \"tau_multiplicative\"\n",
    "    isserlis = \"tau_isserlis\"\n",
    "else:\n",
    "    multiplicative = \"tau_multiplicative2\"\n",
    "    isserlis = \"tau_isserlis2\""
   ]
  },
  {
   "cell_type": "code",
   "execution_count": 14,
   "metadata": {},
   "outputs": [
    {
     "name": "stdout",
     "output_type": "stream",
     "text": [
      "quantiles of the significant values they used 0.0505675568891689 0.9305530342669813\n",
      "confirming (should be -0.08): -0.07998675851335334\n",
      "confirming (should be 0.08): 0.07998704170448599\n",
      "corresponding cutoffs for multiplicative model:  0.9051323011432824 1.1071547776828774\n",
      "corresponding cutoffs for isserlis model:  -0.07906997897906282 0.07887639643511797\n"
     ]
    }
   ],
   "source": [
    "tau_reported_neg_sig_quant = np.mean( np.array(df.adjusted_interaction_score_epsilon_or_tau) < -0.08)\n",
    "tau_reported_pos_sig_quant = 1 - np.mean( np.array(df.adjusted_interaction_score_epsilon_or_tau) > 0.08)\n",
    "\n",
    "print(\"quantiles of the significant values they used\",  tau_reported_neg_sig_quant, tau_reported_pos_sig_quant )\n",
    "print(\"confirming (should be -0.08):\", np.quantile(df.adjusted_interaction_score_epsilon_or_tau, tau_reported_neg_sig_quant))\n",
    "print(\"confirming (should be 0.08):\", np.quantile(df.adjusted_interaction_score_epsilon_or_tau, tau_reported_pos_sig_quant))\n",
    "\n",
    "tau_mult_neg_sig_val = np.nanquantile(df[multiplicative], tau_reported_neg_sig_quant)\n",
    "tau_mult_pos_sig_val = np.nanquantile(df[multiplicative], tau_reported_pos_sig_quant)\n",
    "\n",
    "tau_iss_neg_sig_val = np.nanquantile(df[isserlis], tau_reported_neg_sig_quant)\n",
    "tau_iss_pos_sig_val = np.nanquantile(df[isserlis], tau_reported_pos_sig_quant)\n",
    "\n",
    "print( \"corresponding cutoffs for multiplicative model: \", tau_mult_neg_sig_val, tau_mult_pos_sig_val)\n",
    "print( \"corresponding cutoffs for isserlis model: \", tau_iss_neg_sig_val, tau_iss_pos_sig_val)\n",
    "\n"
   ]
  },
  {
   "cell_type": "code",
   "execution_count": 15,
   "metadata": {},
   "outputs": [
    {
     "name": "stderr",
     "output_type": "stream",
     "text": [
      "/Users/bjarnold/miniconda/envs/datascience/lib/python3.8/site-packages/pandas/core/series.py:679: RuntimeWarning: invalid value encountered in log10\n",
      "  result = getattr(ufunc, method)(*inputs, **kwargs)\n"
     ]
    },
    {
     "name": "stdout",
     "output_type": "stream",
     "text": [
      "                     tau_multiplicative2  tau_isserlis2\n",
      "tau_multiplicative2             1.000000       0.985584\n",
      "tau_isserlis2                   0.985584       1.000000\n",
      "                     tau_multiplicative2  tau_isserlis2\n",
      "tau_multiplicative2             1.000000       0.919664\n",
      "tau_isserlis2                   0.919664       1.000000\n",
      "                     tau_multiplicative2  tau_isserlis2\n",
      "tau_multiplicative2             1.000000       0.250573\n",
      "tau_isserlis2                   0.250573       1.000000\n"
     ]
    },
    {
     "data": {
      "image/png": "[encoded data removed]",
      "text/plain": [
       "<Figure size 1080x360 with 2 Axes>"
      ]
     },
     "metadata": {
      "needs_background": "light"
     },
     "output_type": "display_data"
    }
   ],
   "source": [
    "fig, axs = plt.subplots(ncols=2, figsize=(15,5))\n",
    "\n",
    "bw_param =10\n",
    "p = sns.kdeplot(df[multiplicative], ax = axs[0], color=\"red\", log_scale=True)\n",
    "p = sns.kdeplot(df[isserlis]+1, ax = axs[0], color=\"blue\")\n",
    "axs[0].set_xlim(0.5,2)\n",
    "\n",
    "p = sns.scatterplot(x=df[isserlis],\n",
    "            y=df[multiplicative],\n",
    "            alpha=0.2,\n",
    "            linewidth=0,\n",
    "            ax=axs[1])\n",
    "p.set(xlabel='tau_isserlis', ylabel='tau_multiplicative')\n",
    "axs[1].set_xlim(-1,1)\n",
    "axs[1].set_yscale('log')\n",
    "axs[1].set_ylim(0.02,8)\n",
    "axs[1].axhline(tau_mult_neg_sig_val, color=\"red\", linestyle=\"--\", linewidth=0.5)\n",
    "axs[1].axhline(tau_mult_pos_sig_val, color=\"red\", linestyle=\"--\", linewidth=0.5)\n",
    "axs[1].axvline(-0.08, color=\"red\", linestyle=\"--\", linewidth=0.5)\n",
    "axs[1].axvline(0.08, color=\"red\", linestyle=\"--\", linewidth=0.5)\n",
    "\n",
    "\"\"\"p = sns.scatterplot(x=np.sort(df[isserlis])+1,\n",
    "                    y=np.sort(df[multiplicative]),\n",
    "                    ax = axs[2])\n",
    "p.set(xlabel='tau_isserlis', ylabel='tau_multiplicative')\n",
    "axs[2].set(xscale=\"log\", yscale=\"log\")                    \n",
    "axs[2].set_ylim(0.01,100)\"\"\"\n",
    "\n",
    "print(df[[multiplicative, isserlis]].corr(method=\"spearman\"))\n",
    "print(df[[multiplicative, isserlis]].corr(method=\"kendall\"))\n",
    "print(df[[multiplicative, isserlis]].corr(method=\"pearson\"))\n"
   ]
  },
  {
   "cell_type": "code",
   "execution_count": 16,
   "metadata": {},
   "outputs": [
    {
     "data": {
      "text/plain": [
       "<matplotlib.lines.Line2D at 0x7f9008b61220>"
      ]
     },
     "execution_count": 16,
     "metadata": {},
     "output_type": "execute_result"
    },
    {
     "data": {
      "image/png": "[encoded data removed]",
      "text/plain": [
       "<Figure size 432x288 with 1 Axes>"
      ]
     },
     "metadata": {
      "needs_background": "light"
     },
     "output_type": "display_data"
    }
   ],
   "source": [
    "p = sns.scatterplot(x=df[isserlis][df.pval < 0.05],\n",
    "            y=df[multiplicative][df.pval < 0.05],\n",
    "            alpha=0.1,\n",
    "            linewidth=0)\n",
    "p.set(xlabel='tau_isserlis', ylabel='tau_multiplicative')\n",
    "p.set_xlim(-1,1)\n",
    "p.set_yscale('log')\n",
    "p.set_ylim(0.02,8)\n",
    "p.axhline(tau_mult_neg_sig_val, color=\"red\", linestyle=\"--\", linewidth=0.5)\n",
    "p.axhline(tau_mult_pos_sig_val, color=\"red\", linestyle=\"--\", linewidth=0.5)\n",
    "p.axvline(-0.08, color=\"red\", linestyle=\"--\", linewidth=0.5)\n",
    "p.axvline(0.08, color=\"red\", linestyle=\"--\", linewidth=0.5)"
   ]
  },
  {
   "cell_type": "code",
   "execution_count": 17,
   "metadata": {},
   "outputs": [
    {
     "name": "stdout",
     "output_type": "stream",
     "text": [
      "positive and negative interactions in original data\n",
      "pos:  1328\n",
      "neg:  1618\n",
      "positive and negative interactions on multiplciative scale\n",
      "pos:  1456\n",
      "neg:  2003\n",
      "positive and negative interactions on isserlis scale\n",
      "pos:  1286\n",
      "neg:  1614\n"
     ]
    }
   ],
   "source": [
    "# how many significant trigenic results on multiplicative and isserlis scale\n",
    "\n",
    "df_sig = df[df.pval < 0.05]\n",
    "\n",
    "df_pos_sig_reported = df_sig[df_sig.adjusted_interaction_score_epsilon_or_tau > 0.08]\n",
    "df_neg_sig_reported = df_sig[df_sig.adjusted_interaction_score_epsilon_or_tau < -0.08]\n",
    "\n",
    "df_pos_sig_mult = df_sig[df_sig[multiplicative] > tau_mult_pos_sig_val]\n",
    "df_neg_sig_mult = df_sig[df_sig[multiplicative] < tau_mult_neg_sig_val]\n",
    "\n",
    "# NOTE: if you use the reported dbl mutant values which may not have been corrected for batch effects, then \n",
    "# then there is a huge negative skew of trigenic scores, such that using the same significance cutoff of +/- 0.08\n",
    "# leads to many falsely significant negative trigenic scores\n",
    "#df_pos_sig_iss = df_sig[df_sig[isserlis] > tau_iss_pos_sig_val]\n",
    "#df_neg_sig_iss = df_sig[df_sig[isserlis] < tau_iss_neg_sig_val]\n",
    "df_pos_sig_iss = df_sig[df_sig[isserlis] > 0.08]\n",
    "df_neg_sig_iss = df_sig[df_sig[isserlis] < -0.08]\n",
    "\n",
    "print(\"positive and negative interactions in original data\")\n",
    "print(\"pos: \", len(df_pos_sig_reported))\n",
    "print(\"neg: \", len(df_neg_sig_reported))\n",
    "\n",
    "print(\"positive and negative interactions on multiplciative scale\")\n",
    "print(\"pos: \",len(df_pos_sig_mult))\n",
    "print(\"neg: \",len(df_neg_sig_mult))\n",
    "\n",
    "print(\"positive and negative interactions on isserlis scale\")\n",
    "print(\"pos: \",len(df_pos_sig_iss))\n",
    "print(\"neg: \",len(df_neg_sig_iss))\n"
   ]
  },
  {
   "cell_type": "code",
   "execution_count": 18,
   "metadata": {},
   "outputs": [
    {
     "data": {
      "text/html": [
       "<div>\n",
       "<style scoped>\n",
       "    .dataframe tbody tr th:only-of-type {\n",
       "        vertical-align: middle;\n",
       "    }\n",
       "\n",
       "    .dataframe tbody tr th {\n",
       "        vertical-align: top;\n",
       "    }\n",
       "\n",
       "    .dataframe thead th {\n",
       "        text-align: right;\n",
       "    }\n",
       "</style>\n",
       "<table border=\"1\" class=\"dataframe\">\n",
       "  <thead>\n",
       "    <tr style=\"text-align: right;\">\n",
       "      <th></th>\n",
       "      <th>number</th>\n",
       "      <th>frac</th>\n",
       "    </tr>\n",
       "  </thead>\n",
       "  <tbody>\n",
       "    <tr>\n",
       "      <th>both positive</th>\n",
       "      <td>1197</td>\n",
       "      <td>0.756637</td>\n",
       "    </tr>\n",
       "    <tr>\n",
       "      <th>only reported positive</th>\n",
       "      <td>126</td>\n",
       "      <td>0.079646</td>\n",
       "    </tr>\n",
       "    <tr>\n",
       "      <th>only mult positive</th>\n",
       "      <td>259</td>\n",
       "      <td>0.163717</td>\n",
       "    </tr>\n",
       "    <tr>\n",
       "      <th>both negative</th>\n",
       "      <td>1527</td>\n",
       "      <td>0.729226</td>\n",
       "    </tr>\n",
       "    <tr>\n",
       "      <th>only reported negative</th>\n",
       "      <td>91</td>\n",
       "      <td>0.043457</td>\n",
       "    </tr>\n",
       "    <tr>\n",
       "      <th>only mult negative</th>\n",
       "      <td>476</td>\n",
       "      <td>0.227316</td>\n",
       "    </tr>\n",
       "  </tbody>\n",
       "</table>\n",
       "</div>"
      ],
      "text/plain": [
       "                        number      frac\n",
       "both positive             1197  0.756637\n",
       "only reported positive     126  0.079646\n",
       "only mult positive         259  0.163717\n",
       "both negative             1527  0.729226\n",
       "only reported negative      91  0.043457\n",
       "only mult negative         476  0.227316"
      ]
     },
     "execution_count": 18,
     "metadata": {},
     "output_type": "execute_result"
    }
   ],
   "source": [
    "# IF YOU USE THE REPORTED DOUBLE MUTANT VALUES, SCORES RECALCULATED WITH MULTIPLICATIVE OR ISSERLIS FORMULA \n",
    "# WILL DIFFER FROM THE REPORTED VALUES\n",
    "# in this case, use method_ground_truth = \"isserlis\" and method_to_compare = \"multiplicative\"\n",
    "# otherwise, if you calculate double mutant fitness as f_i*f_j + e_ij, you can compare isserlis or multiplciative with reported\n",
    "\n",
    "\"\"\"\n",
    "method_ground_truth = \"reported\" # isserlis or reported significant values\n",
    "method_to_compare = \"multiplicative\" # compare isserlis or multiplicative with reported significant values\n",
    "\n",
    "assert method_to_compare == \"isserlis\" or method_to_compare == \"multiplicative\"\n",
    "assert method_ground_truth == \"isserlis\" or method_ground_truth == \"reported\"\n",
    "\n",
    "if method_to_compare == \"isserlis\":\n",
    "    tmp_pos = df_pos_sig_reported.merge(df_pos_sig_iss, how=\"outer\", on=\"alleles\")\n",
    "    tmp_neg = df_neg_sig_reported.merge(df_neg_sig_iss, how=\"outer\", on=\"alleles\")\n",
    "elif method_to_compare == \"multiplicative\":\n",
    "    if method_ground_truth == \"reported\":\n",
    "        tmp_pos = df_pos_sig_reported.merge(df_pos_sig_mult, how=\"outer\", on=\"alleles\")\n",
    "        tmp_neg = df_neg_sig_reported.merge(df_neg_sig_mult, how=\"outer\", on=\"alleles\")\n",
    "    else:\n",
    "        tmp_pos = df_pos_sig_iss.merge(df_pos_sig_mult, how=\"outer\", on=\"alleles\")\n",
    "        tmp_neg = df_neg_sig_iss.merge(df_neg_sig_mult, how=\"outer\", on=\"alleles\")\n",
    "\"\"\"\n",
    "\n",
    "def outlier_comparison(df_sig):\n",
    "    results = defaultdict(int)\n",
    "    results_frac = defaultdict(float)\n",
    "\n",
    "    cond = (df_sig.adjusted_interaction_score_epsilon_or_tau > 0.08) & (df_sig[multiplicative] > tau_mult_pos_sig_val)\n",
    "    results['both positive'] = len(df_sig[cond])\n",
    "    cond = (df_sig.adjusted_interaction_score_epsilon_or_tau > 0.08) & (df_sig[multiplicative] < tau_mult_pos_sig_val)\n",
    "    results['only reported positive'] = len(df_sig[cond])\n",
    "    cond = (df_sig.adjusted_interaction_score_epsilon_or_tau < 0.08) & (df_sig[multiplicative] > tau_mult_pos_sig_val)\n",
    "    results[f'only mult positive'] =  len(df_sig[cond])\n",
    "\n",
    "    cond = (df_sig.adjusted_interaction_score_epsilon_or_tau < -0.08) & (df_sig[multiplicative] < tau_mult_neg_sig_val)\n",
    "    results['both negative'] = len(df_sig[cond])\n",
    "    cond = (df_sig.adjusted_interaction_score_epsilon_or_tau < -0.08) & (df_sig[multiplicative] > tau_mult_neg_sig_val)\n",
    "    results['only reported negative'] = len(df_sig[cond])\n",
    "    cond = (df_sig.adjusted_interaction_score_epsilon_or_tau > -0.08) & (df_sig[multiplicative] < tau_mult_neg_sig_val)\n",
    "    results[f'only mult negative'] = len(df_sig[cond])\n",
    "\n",
    "    pos_denom = results['both positive'] + results['only reported positive'] + results[f'only mult positive']\n",
    "    neg_denom = results['both negative'] + results['only reported negative'] + results[f'only mult negative']\n",
    "\n",
    "    results_frac['both positive'] = results['both positive']/pos_denom\n",
    "    results_frac['only reported positive'] = results['only reported positive']/pos_denom\n",
    "    results_frac[f'only mult positive'] = results[f'only mult positive']/pos_denom\n",
    "\n",
    "    results_frac['both negative'] = results['both negative']/neg_denom\n",
    "    results_frac['only reported negative'] = results['only reported negative']/neg_denom\n",
    "    results_frac[f'only mult negative'] = results[f'only mult negative']/neg_denom\n",
    "\n",
    "    return results, results_frac\n",
    "\n",
    "results, results_frac = outlier_comparison(df_sig)\n",
    "\n",
    "tmp = pd.DataFrame.from_dict(results, orient='index')\n",
    "tmp = tmp.rename(columns = {0:\"number\"})\n",
    "tmp['frac'] = tmp.index.map(results_frac)\n",
    "tmp"
   ]
  },
  {
   "cell_type": "code",
   "execution_count": 19,
   "metadata": {},
   "outputs": [],
   "source": [
    "def fraction_physical_twoplus(df):\n",
    "    \"\"\"\n",
    "    Returns a dict of the number of gene triplets with 2+ physical interactions along with the total number of triplets\n",
    "    \"\"\"\n",
    "    d = {}\n",
    "    d['tot'] = len(df.twoplus_physical_interactions)\n",
    "    d['int'] = np.sum(df.twoplus_physical_interactions)\n",
    "    d['frac'] = d['int']/d['tot']\n",
    "    return d\n",
    "\n",
    "def compare_outlier_enrichment(sign, func):\n",
    "    \"\"\"\n",
    "    This function then passes a subselection of outliers to some external function,\n",
    "    categorizing outliers as significant for both cumulant and multiplicative scale, only cumulant (reported), or only multiplicative.\n",
    "    The selection of data depends on whether you're interested in negative or positive outliers.\n",
    "    \"\"\"\n",
    "    if sign == \"positive\":\n",
    "        both = func(df_sig[(df_sig.adjusted_interaction_score_epsilon_or_tau > 0.08) & (df_sig[multiplicative] > tau_mult_pos_sig_val)])\n",
    "        only_reported = func(df_sig[(df_sig.adjusted_interaction_score_epsilon_or_tau > 0.08) & (df_sig[multiplicative] < tau_mult_pos_sig_val)])\n",
    "        only_mult = func(df_sig[(df_sig.adjusted_interaction_score_epsilon_or_tau < 0.08) & (df_sig[multiplicative] > tau_mult_pos_sig_val)])\n",
    "    elif sign == \"negative\":\n",
    "        both = func(df_sig[(df_sig.adjusted_interaction_score_epsilon_or_tau < -0.08) & (df_sig[multiplicative] < tau_mult_neg_sig_val)])\n",
    "        only_reported = func(df_sig[(df_sig.adjusted_interaction_score_epsilon_or_tau < -0.08) & (df_sig[multiplicative] > tau_mult_neg_sig_val)])\n",
    "        only_mult = func(df_sig[(df_sig.adjusted_interaction_score_epsilon_or_tau > -0.08) & (df_sig[multiplicative] < tau_mult_neg_sig_val)])   \n",
    "\n",
    "    return both, only_reported, only_mult\n",
    "\n",
    "def mk_barplot(genome_wide, both, only_reported, only_mult, i):\n",
    "    bars = ('genome_wide', 'both', 'only_reported', 'only_mult')\n",
    "    x_pos = np.arange(len(bars))\n",
    "    height = [genome_wide, both, only_reported, only_mult]\n",
    "    axs[i].bar(x_pos, height)\n",
    "    axs[i].xaxis.set_ticks([])\n",
    "   \n",
    "\n"
   ]
  },
  {
   "cell_type": "code",
   "execution_count": 20,
   "metadata": {},
   "outputs": [
    {
     "data": {
      "text/plain": [
       "([<matplotlib.axis.XTick at 0x7f9008e28b80>,\n",
       "  <matplotlib.axis.XTick at 0x7f9008e28b50>,\n",
       "  <matplotlib.axis.XTick at 0x7f9008974550>,\n",
       "  <matplotlib.axis.XTick at 0x7f900859bbe0>],\n",
       " [Text(0, 0, 'genome_wide'),\n",
       "  Text(1, 0, 'both'),\n",
       "  Text(2, 0, 'only_reported'),\n",
       "  Text(3, 0, 'only_mult')])"
      ]
     },
     "execution_count": 20,
     "metadata": {},
     "output_type": "execute_result"
    },
    {
     "data": {
      "image/png": "[encoded data removed]",
      "text/plain": [
       "<Figure size 360x720 with 2 Axes>"
      ]
     },
     "metadata": {
      "needs_background": "light"
     },
     "output_type": "display_data"
    }
   ],
   "source": [
    "fig, axs = plt.subplots(nrows=2, figsize=(5,10))\n",
    "\n",
    "genome_wide = fraction_physical_twoplus(df)\n",
    "\n",
    "both, only_reported, only_mult = compare_outlier_enrichment(\"negative\", fraction_physical_twoplus)\n",
    "mk_barplot(genome_wide['frac'], both['frac'], only_reported['frac'], only_mult['frac'], 0)\n",
    "\n",
    "both, only_reported, only_mult = compare_outlier_enrichment(\"positive\", fraction_physical_twoplus)\n",
    "mk_barplot(genome_wide['frac'], both['frac'], only_reported['frac'], only_mult['frac'], 1)\n",
    "\n",
    "bars = ('genome_wide', 'both', 'only_reported', 'only_mult')\n",
    "x_pos = np.arange(len(bars))\n",
    "plt.xticks(x_pos, bars)\n"
   ]
  },
  {
   "cell_type": "markdown",
   "metadata": {},
   "source": [
    "Hypergeometric distribution parameters according to Wikipedia (with scipy.stats hypergeom parameters in parentheses)\n",
    "\n",
    "N (M) is the population size,\n",
    "\n",
    "K (n) is the number of success states in the population,\n",
    "\n",
    "n (N) is the number of draws (i.e. quantity drawn in each trial),\n",
    "\n",
    "k (k) is the number of observed successes,\n",
    "\n",
    "hypergeom.cdf(k, M, n, N, loc=0)"
   ]
  },
  {
   "cell_type": "code",
   "execution_count": 21,
   "metadata": {},
   "outputs": [
    {
     "name": "stdout",
     "output_type": "stream",
     "text": [
      "(3.987612577716071e-05, 0.3649604315187549, 6.480995874413864e-06)\n",
      "(0.00014385441992037507, 4.432209096805195e-05, 0.04145206201679885)\n"
     ]
    }
   ],
   "source": [
    "def get_hypergeom_params(sample, population):\n",
    "    \"\"\"\n",
    "    Returns parameters for hypergeom.cdf in a list [k, M, n, N]\n",
    "    \"\"\"\n",
    "    return [sample['int'], population['tot'], population['int'], sample['tot']]\n",
    "\n",
    "def perform_hypergeom_test(sign, func):\n",
    "    \"\"\"\n",
    "    This function automates using hypergeom.cdf for both positive and negative outliers, specified by 'sign' parameter.\n",
    "    The 'func' parameter is used to categories gene triplets by physical interactions or GO categories\n",
    "    \"\"\"\n",
    "    genome_wide = func(df)\n",
    "    both, only_reported, only_mult = compare_outlier_enrichment(sign, func)\n",
    "    # since we are looking for positive enrichments above population baseline, take 1 - CDF(x)\n",
    "    both_htest = 1-hypergeom.cdf(*get_hypergeom_params(both, genome_wide))\n",
    "    only_reported_htest = 1-hypergeom.cdf(*get_hypergeom_params(only_reported, genome_wide))\n",
    "    only_mult_htest = 1-hypergeom.cdf(*get_hypergeom_params(only_mult, genome_wide))\n",
    "\n",
    "    return both_htest, only_reported_htest, only_mult_htest\n",
    "\n",
    "\n",
    "print(perform_hypergeom_test(\"negative\", fraction_physical_twoplus))\n",
    "print(perform_hypergeom_test(\"positive\", fraction_physical_twoplus))"
   ]
  },
  {
   "cell_type": "code",
   "execution_count": 22,
   "metadata": {},
   "outputs": [],
   "source": [
    "# gene_2_go is a dict of lists where keys are gene names, values are lists of GO categories\n",
    "gene_2_go = db.get_go_info()\n",
    "\n",
    "def alleles_2_go_enrichment(df):\n",
    "    \"\"\"\n",
    "    This function calculates number of instances in which all three genes belong to the same GO category,\n",
    "    specified as 'int' key (short for interaction) of a dict\n",
    "    \"\"\"\n",
    "    d = {}\n",
    "    #go_hit_2plus = 0\n",
    "    go_hit_3x = 0\n",
    "    for i,r in df.iterrows():\n",
    "        alleles = sorted(r['alleles'].split(\",\"))\n",
    "        alleles = [db.gene_stem_name(i.upper()) for i in alleles]\n",
    "\n",
    "        go_counts = defaultdict(int)\n",
    "        for a in alleles:\n",
    "            if a in gene_2_go:\n",
    "                # many genes are involved in many GO categories; iterate through these\n",
    "                for g in gene_2_go[a]:\n",
    "                    go_counts[g] += 1\n",
    "    \n",
    "        counts = np.array([i[1] for i in go_counts.items()])\n",
    "        #print(np.max(counts))\n",
    "        if len(counts) > 0:\n",
    "            assert np.max(counts) <= 3\n",
    "        #if np.sum(np.any(counts > 1)):\n",
    "        #    go_hit_2plus += 1\n",
    "        if np.sum(np.any(counts == 3)):\n",
    "            go_hit_3x += 1\n",
    "\n",
    "    d['tot'] = len(df)\n",
    "    d['int'] = go_hit_3x\n",
    "    d['frac'] = d['int']/d['tot'] \n",
    "    return d\n",
    "   "
   ]
  },
  {
   "cell_type": "code",
   "execution_count": 23,
   "metadata": {},
   "outputs": [
    {
     "data": {
      "text/plain": [
       "([<matplotlib.axis.XTick at 0x7f9008340c40>,\n",
       "  <matplotlib.axis.XTick at 0x7f90083409a0>,\n",
       "  <matplotlib.axis.XTick at 0x7f9008cd2af0>,\n",
       "  <matplotlib.axis.XTick at 0x7f9008621a90>],\n",
       " [Text(0, 0, 'genome_wide'),\n",
       "  Text(1, 0, 'both'),\n",
       "  Text(2, 0, 'only_reported'),\n",
       "  Text(3, 0, 'only_mult')])"
      ]
     },
     "execution_count": 23,
     "metadata": {},
     "output_type": "execute_result"
    },
    {
     "data": {
      "image/png": "[encoded data removed]",
      "text/plain": [
       "<Figure size 360x720 with 2 Axes>"
      ]
     },
     "metadata": {
      "needs_background": "light"
     },
     "output_type": "display_data"
    }
   ],
   "source": [
    "genome_wide = alleles_2_go_enrichment(df)\n",
    "\n",
    "fig, axs = plt.subplots(nrows=2, figsize=(5,10))\n",
    "\n",
    "both, only_reported, only_mult = compare_outlier_enrichment(\"negative\", alleles_2_go_enrichment)\n",
    "mk_barplot(genome_wide['frac'], both['frac'], only_reported['frac'], only_mult['frac'], 0)\n",
    "\n",
    "both, only_reported, only_mult = compare_outlier_enrichment(\"positive\", alleles_2_go_enrichment)\n",
    "mk_barplot(genome_wide['frac'], both['frac'], only_reported['frac'], only_mult['frac'], 1)\n",
    "\n",
    "plt.xticks(x_pos, bars)"
   ]
  },
  {
   "cell_type": "code",
   "execution_count": 24,
   "metadata": {},
   "outputs": [
    {
     "name": "stdout",
     "output_type": "stream",
     "text": [
      "(4.4383940966952196e-11, 0.039215100805913505, 1.0675693422279586e-05)\n"
     ]
    }
   ],
   "source": [
    "print(perform_hypergeom_test(\"negative\", alleles_2_go_enrichment))"
   ]
  },
  {
   "cell_type": "code",
   "execution_count": 25,
   "metadata": {},
   "outputs": [
    {
     "name": "stdout",
     "output_type": "stream",
     "text": [
      "(0.019300391347821688, 8.434250558075895e-06, 0.004786552297971203)\n"
     ]
    }
   ],
   "source": [
    "print(perform_hypergeom_test(\"positive\", alleles_2_go_enrichment))"
   ]
  },
  {
   "cell_type": "code",
   "execution_count": 26,
   "metadata": {},
   "outputs": [],
   "source": [
    "# look at gene triplets for different multiplicative outliers not reported as significant; inspect as jupyter variables in VS code\n",
    "x1 = sorted(df_sig.alleles[(df_sig.adjusted_interaction_score_epsilon_or_tau < 0.08) & (df_sig[multiplicative] > tau_mult_pos_sig_val)])\n",
    "x2 = sorted(df_sig.alleles[(df_sig.adjusted_interaction_score_epsilon_or_tau > -0.08) & (df_sig[multiplicative] < tau_mult_neg_sig_val)])\n",
    "x3 = sorted(df_sig.alleles[(df_sig.adjusted_interaction_score_epsilon_or_tau < -0.08) & (df_sig[multiplicative] > tau_mult_neg_sig_val)])"
   ]
  },
  {
   "cell_type": "code",
   "execution_count": 27,
   "metadata": {},
   "outputs": [
    {
     "data": {
      "text/html": [
       "<div>\n",
       "<style scoped>\n",
       "    .dataframe tbody tr th:only-of-type {\n",
       "        vertical-align: middle;\n",
       "    }\n",
       "\n",
       "    .dataframe tbody tr th {\n",
       "        vertical-align: top;\n",
       "    }\n",
       "\n",
       "    .dataframe thead th {\n",
       "        text-align: right;\n",
       "    }\n",
       "</style>\n",
       "<table border=\"1\" class=\"dataframe\">\n",
       "  <thead>\n",
       "    <tr style=\"text-align: right;\">\n",
       "      <th></th>\n",
       "      <th>DM strainID</th>\n",
       "      <th>SM1 strainID</th>\n",
       "      <th>SM2 strainID</th>\n",
       "      <th>ORF1</th>\n",
       "      <th>ORF2</th>\n",
       "      <th>Gene1</th>\n",
       "      <th>Gene2</th>\n",
       "      <th>Ohnolog (A-A) or Homeolog (A-AB)</th>\n",
       "    </tr>\n",
       "  </thead>\n",
       "  <tbody>\n",
       "    <tr>\n",
       "      <th>0</th>\n",
       "      <td>tm143</td>\n",
       "      <td>tm405</td>\n",
       "      <td>tm2305</td>\n",
       "      <td>YBR014C</td>\n",
       "      <td>YDL010W</td>\n",
       "      <td>GRX7</td>\n",
       "      <td>GRX6</td>\n",
       "      <td>A - AB</td>\n",
       "    </tr>\n",
       "    <tr>\n",
       "      <th>1</th>\n",
       "      <td>tm164</td>\n",
       "      <td>tm550</td>\n",
       "      <td>tm2249</td>\n",
       "      <td>YLL012W</td>\n",
       "      <td>YLR020C</td>\n",
       "      <td>YEH1</td>\n",
       "      <td>YEH2</td>\n",
       "      <td>A - AB</td>\n",
       "    </tr>\n",
       "    <tr>\n",
       "      <th>2</th>\n",
       "      <td>tm1509</td>\n",
       "      <td>tm651</td>\n",
       "      <td>tm362</td>\n",
       "      <td>YHR001W</td>\n",
       "      <td>YKR003W</td>\n",
       "      <td>OSH7</td>\n",
       "      <td>OSH6</td>\n",
       "      <td>A - AB</td>\n",
       "    </tr>\n",
       "    <tr>\n",
       "      <th>3</th>\n",
       "      <td>tm3397</td>\n",
       "      <td>tm697</td>\n",
       "      <td>tm2295</td>\n",
       "      <td>YGR243W</td>\n",
       "      <td>YHR162W</td>\n",
       "      <td>MPC3</td>\n",
       "      <td>MPC2</td>\n",
       "      <td>A - AB</td>\n",
       "    </tr>\n",
       "    <tr>\n",
       "      <th>4</th>\n",
       "      <td>tm170</td>\n",
       "      <td>tm468</td>\n",
       "      <td>tm1283</td>\n",
       "      <td>YJR091C</td>\n",
       "      <td>YPR042C</td>\n",
       "      <td>JSN1</td>\n",
       "      <td>PUF2</td>\n",
       "      <td>A - AB</td>\n",
       "    </tr>\n",
       "    <tr>\n",
       "      <th>...</th>\n",
       "      <td>...</td>\n",
       "      <td>...</td>\n",
       "      <td>...</td>\n",
       "      <td>...</td>\n",
       "      <td>...</td>\n",
       "      <td>...</td>\n",
       "      <td>...</td>\n",
       "      <td>...</td>\n",
       "    </tr>\n",
       "    <tr>\n",
       "      <th>235</th>\n",
       "      <td>tm108</td>\n",
       "      <td>tm596</td>\n",
       "      <td>tm1150</td>\n",
       "      <td>YMR222C</td>\n",
       "      <td>YOR280C</td>\n",
       "      <td>FSH2</td>\n",
       "      <td>FSH3</td>\n",
       "      <td>NaN</td>\n",
       "    </tr>\n",
       "    <tr>\n",
       "      <th>236</th>\n",
       "      <td>tm1554</td>\n",
       "      <td>tm1861</td>\n",
       "      <td>tm1805</td>\n",
       "      <td>YAL051W</td>\n",
       "      <td>YOR363C</td>\n",
       "      <td>OAF1</td>\n",
       "      <td>PIP2</td>\n",
       "      <td>NaN</td>\n",
       "    </tr>\n",
       "    <tr>\n",
       "      <th>237</th>\n",
       "      <td>tm1616</td>\n",
       "      <td>tm576</td>\n",
       "      <td>tm1207</td>\n",
       "      <td>YGL082W</td>\n",
       "      <td>YPL191C</td>\n",
       "      <td>YGL082W</td>\n",
       "      <td>YPL191C</td>\n",
       "      <td>NaN</td>\n",
       "    </tr>\n",
       "    <tr>\n",
       "      <th>238</th>\n",
       "      <td>tm95</td>\n",
       "      <td>tm448</td>\n",
       "      <td>tm1137</td>\n",
       "      <td>YMR175W</td>\n",
       "      <td>YPL223C</td>\n",
       "      <td>SIP18</td>\n",
       "      <td>GRE1</td>\n",
       "      <td>NaN</td>\n",
       "    </tr>\n",
       "    <tr>\n",
       "      <th>239</th>\n",
       "      <td>tm51</td>\n",
       "      <td>tm457</td>\n",
       "      <td>tm1094</td>\n",
       "      <td>YDL127W</td>\n",
       "      <td>YDL179W</td>\n",
       "      <td>PCL2</td>\n",
       "      <td>PCL9</td>\n",
       "      <td>NaN</td>\n",
       "    </tr>\n",
       "  </tbody>\n",
       "</table>\n",
       "<p>240 rows × 8 columns</p>\n",
       "</div>"
      ],
      "text/plain": [
       "    DM strainID  SM1 strainID SM2 strainID     ORF1     ORF2    Gene1  \\\n",
       "0          tm143        tm405       tm2305  YBR014C  YDL010W     GRX7   \n",
       "1          tm164        tm550       tm2249  YLL012W  YLR020C     YEH1   \n",
       "2         tm1509        tm651        tm362  YHR001W  YKR003W     OSH7   \n",
       "3         tm3397        tm697       tm2295  YGR243W  YHR162W     MPC3   \n",
       "4          tm170        tm468       tm1283  YJR091C  YPR042C     JSN1   \n",
       "..           ...          ...          ...      ...      ...      ...   \n",
       "235        tm108        tm596       tm1150  YMR222C  YOR280C     FSH2   \n",
       "236       tm1554       tm1861       tm1805  YAL051W  YOR363C     OAF1   \n",
       "237       tm1616        tm576       tm1207  YGL082W  YPL191C  YGL082W   \n",
       "238         tm95        tm448       tm1137  YMR175W  YPL223C    SIP18   \n",
       "239         tm51        tm457       tm1094  YDL127W  YDL179W     PCL2   \n",
       "\n",
       "       Gene2 Ohnolog (A-A) or Homeolog (A-AB)  \n",
       "0       GRX6                           A - AB  \n",
       "1       YEH2                           A - AB  \n",
       "2       OSH6                           A - AB  \n",
       "3       MPC2                           A - AB  \n",
       "4       PUF2                           A - AB  \n",
       "..       ...                              ...  \n",
       "235     FSH3                              NaN  \n",
       "236     PIP2                              NaN  \n",
       "237  YPL191C                              NaN  \n",
       "238     GRE1                              NaN  \n",
       "239     PCL9                              NaN  \n",
       "\n",
       "[240 rows x 8 columns]"
      ]
     },
     "execution_count": 27,
     "metadata": {},
     "output_type": "execute_result"
    }
   ],
   "source": [
    "test = pd.read_csv(\"/Users/bjarnold/Princeton_DataX/Epistasis/higher_order_reanalysis/yeast_screens/KuzminEtAl2020/aaz5667-Table-S8.txt\", sep=\"\\t\", encoding = \"ISO-8859-1\")\n",
    "test"
   ]
  },
  {
   "cell_type": "code",
   "execution_count": 28,
   "metadata": {},
   "outputs": [
    {
     "ename": "NameError",
     "evalue": "name 'tmp_pos' is not defined",
     "output_type": "error",
     "traceback": [
      "\u001b[0;31m---------------------------------------------------------------------------\u001b[0m",
      "\u001b[0;31mNameError\u001b[0m                                 Traceback (most recent call last)",
      "\u001b[0;32m<ipython-input-28-ef680282725b>\u001b[0m in \u001b[0;36m<module>\u001b[0;34m\u001b[0m\n\u001b[1;32m      1\u001b[0m \u001b[0mfig\u001b[0m\u001b[0;34m,\u001b[0m \u001b[0maxs\u001b[0m \u001b[0;34m=\u001b[0m \u001b[0mplt\u001b[0m\u001b[0;34m.\u001b[0m\u001b[0msubplots\u001b[0m\u001b[0;34m(\u001b[0m\u001b[0mncols\u001b[0m\u001b[0;34m=\u001b[0m\u001b[0;36m2\u001b[0m\u001b[0;34m,\u001b[0m \u001b[0mfigsize\u001b[0m\u001b[0;34m=\u001b[0m\u001b[0;34m(\u001b[0m\u001b[0;36m15\u001b[0m\u001b[0;34m,\u001b[0m\u001b[0;36m5\u001b[0m\u001b[0;34m)\u001b[0m\u001b[0;34m)\u001b[0m\u001b[0;34m\u001b[0m\u001b[0;34m\u001b[0m\u001b[0m\n\u001b[1;32m      2\u001b[0m \u001b[0;34m\u001b[0m\u001b[0m\n\u001b[0;32m----> 3\u001b[0;31m \u001b[0mpos_multiplicative_alleles\u001b[0m \u001b[0;34m=\u001b[0m \u001b[0mtmp_pos\u001b[0m\u001b[0;34m.\u001b[0m\u001b[0malleles\u001b[0m\u001b[0;34m[\u001b[0m\u001b[0;34m(\u001b[0m\u001b[0mtmp_pos\u001b[0m\u001b[0;34m.\u001b[0m\u001b[0marray_allele_name_x\u001b[0m\u001b[0;34m.\u001b[0m\u001b[0misna\u001b[0m\u001b[0;34m(\u001b[0m\u001b[0;34m)\u001b[0m\u001b[0;34m)\u001b[0m \u001b[0;34m&\u001b[0m \u001b[0;34m(\u001b[0m\u001b[0mtmp_pos\u001b[0m\u001b[0;34m.\u001b[0m\u001b[0marray_allele_name_y\u001b[0m\u001b[0;34m.\u001b[0m\u001b[0mnotna\u001b[0m\u001b[0;34m(\u001b[0m\u001b[0;34m)\u001b[0m\u001b[0;34m)\u001b[0m\u001b[0;34m]\u001b[0m\u001b[0;34m\u001b[0m\u001b[0;34m\u001b[0m\u001b[0m\n\u001b[0m\u001b[1;32m      4\u001b[0m \u001b[0mtmp\u001b[0m \u001b[0;34m=\u001b[0m \u001b[0mdf\u001b[0m\u001b[0;34m.\u001b[0m\u001b[0mloc\u001b[0m\u001b[0;34m[\u001b[0m\u001b[0mdf\u001b[0m\u001b[0;34m[\u001b[0m\u001b[0;34m'alleles'\u001b[0m\u001b[0;34m]\u001b[0m\u001b[0;34m.\u001b[0m\u001b[0misin\u001b[0m\u001b[0;34m(\u001b[0m\u001b[0mpos_multiplicative_alleles\u001b[0m\u001b[0;34m)\u001b[0m\u001b[0;34m]\u001b[0m\u001b[0;34m\u001b[0m\u001b[0;34m\u001b[0m\u001b[0m\n\u001b[1;32m      5\u001b[0m \u001b[0;34m\u001b[0m\u001b[0m\n",
      "\u001b[0;31mNameError\u001b[0m: name 'tmp_pos' is not defined"
     ]
    },
    {
     "data": {
      "image/png": "[encoded data removed]",
      "text/plain": [
       "<Figure size 1080x360 with 2 Axes>"
      ]
     },
     "metadata": {
      "needs_background": "light"
     },
     "output_type": "display_data"
    }
   ],
   "source": [
    "fig, axs = plt.subplots(ncols=2, figsize=(15,5))\n",
    "\n",
    "pos_multiplicative_alleles = tmp_pos.alleles[(tmp_pos.array_allele_name_x.isna()) & (tmp_pos.array_allele_name_y.notna())]\n",
    "tmp = df.loc[df['alleles'].isin(pos_multiplicative_alleles)]\n",
    "\n",
    "p = sns.scatterplot(x=tmp[isserlis],\n",
    "            y=tmp[multiplicative],\n",
    "            alpha=0.3,\n",
    "            linewidth=0,\n",
    "            ax=axs[0])\n",
    "axs[0].set(xlabel='tau_cumulant', ylabel='tau_multiplicative')\n",
    "#p.set_xlim(-1,1)\n",
    "axs[0].set_yscale('log')\n",
    "#p.set_ylim(0.02,8)\n",
    "axs[0].axhline(tau_mult_neg_sig_val, color=\"red\", linestyle=\"--\", linewidth=0.5)\n",
    "axs[0].axhline(tau_mult_pos_sig_val, color=\"red\", linestyle=\"--\", linewidth=0.5)\n",
    "axs[0].axvline(-0.08, color=\"red\", linestyle=\"--\", linewidth=0.5)\n",
    "axs[0].axvline(0.08, color=\"red\", linestyle=\"--\", linewidth=0.5)\n",
    "axs[0].axvline(0.0, color=\"black\", linestyle=\"--\", linewidth=0.5)\n",
    "\n",
    "neg_multiplicative_alleles = tmp_neg.alleles[(tmp_neg.array_allele_name_x.isna()) & (tmp_neg.array_allele_name_y.notna())]\n",
    "tmp = df.loc[df['alleles'].isin(neg_multiplicative_alleles)]\n",
    "\n",
    "p = sns.scatterplot(x=tmp[isserlis],\n",
    "            y=tmp[multiplicative],\n",
    "            alpha=0.3,\n",
    "            linewidth=0,\n",
    "            ax=axs[1])\n",
    "axs[1].set(xlabel='tau_cumulant', ylabel='tau_multiplicative')\n",
    "#p.set_xlim(-1,1)\n",
    "axs[1].set_yscale('log')\n",
    "#p.set_ylim(0.02,8)\n",
    "axs[1].axhline(tau_mult_neg_sig_val, color=\"red\", linestyle=\"--\", linewidth=0.5)\n",
    "axs[1].axhline(tau_mult_pos_sig_val, color=\"red\", linestyle=\"--\", linewidth=0.5)\n",
    "axs[1].axvline(-0.08, color=\"red\", linestyle=\"--\", linewidth=0.5)\n",
    "axs[1].axvline(0.08, color=\"red\", linestyle=\"--\", linewidth=0.5)\n",
    "axs[1].axvline(0.0, color=\"black\", linestyle=\"--\", linewidth=0.5)\n"
   ]
  },
  {
   "cell_type": "code",
   "execution_count": null,
   "metadata": {},
   "outputs": [
    {
     "data": {
      "text/plain": [
       "<AxesSubplot:xlabel='adjusted_interaction_score_epsilon_or_tau', ylabel='Density'>"
      ]
     },
     "execution_count": 21,
     "metadata": {},
     "output_type": "execute_result"
    },
    {
     "data": {
      "image/png": "[encoded data removed]",
      "text/plain": [
       "<Figure size 432x288 with 1 Axes>"
      ]
     },
     "metadata": {
      "needs_background": "light"
     },
     "output_type": "display_data"
    }
   ],
   "source": [
    "sns.histplot(df.adjusted_interaction_score_epsilon_or_tau, color=\"red\", stat=\"density\")\n",
    "sns.histplot(df_sig.adjusted_interaction_score_epsilon_or_tau, color=\"blue\", stat=\"density\")"
   ]
  },
  {
   "cell_type": "code",
   "execution_count": null,
   "metadata": {},
   "outputs": [
    {
     "name": "stdout",
     "output_type": "stream",
     "text": [
      "1.0657718662406535\n",
      "0.9626505926200865\n",
      "2.475594397354814\n"
     ]
    },
    {
     "name": "stderr",
     "output_type": "stream",
     "text": [
      "/Users/bjarnold/miniconda/envs/datascience/lib/python3.8/site-packages/seaborn/_decorators.py:36: FutureWarning: Pass the following variables as keyword args: x, y. From version 0.12, the only valid positional argument will be `data`, and passing other arguments without an explicit keyword will result in an error or misinterpretation.\n",
      "  warnings.warn(\n"
     ]
    },
    {
     "data": {
      "image/png": "[encoded data removed]",
      "text/plain": [
       "<Figure size 432x288 with 1 Axes>"
      ]
     },
     "metadata": {
      "needs_background": "light"
     },
     "output_type": "display_data"
    }
   ],
   "source": [
    "\n",
    "p = sns.scatterplot(df_sig.adjusted_interaction_score_epsilon_or_tau,df_sig.num_physical_interactions, alpha=0.1)\n",
    "\n",
    "\n",
    "#tmp = \"adjusted_interaction_score_epsilon_or_tau\"\n",
    "tmp = multiplicative\n",
    "\n",
    "#print(np.nanmean( df_sig[tmp][(df_sig[tmp] > 0) & (df_sig.oneplus_physical_interactions == 0)] ))\n",
    "#print(np.nanmean( df_sig[tmp][(df_sig[tmp] > 0) & (df_sig.oneplus_physical_interactions == 1)] ))\n",
    "\n",
    "print(np.nanmean( df_sig[tmp][ df_sig.num_physical_interactions == 0] ))\n",
    "print(np.nanmean( df_sig[tmp][ df_sig.num_physical_interactions == 1] ))\n",
    "print(np.nanmean( df_sig[tmp][ df_sig.num_physical_interactions >= 2] ))\n",
    "\n",
    "#print(np.nanmedian(df_sig.adjusted_interaction_score_epsilon_or_tau[df_sig.oneplus_physical_interactions == 0]))\n",
    "#print(np.nanmedian(df_sig.adjusted_interaction_score_epsilon_or_tau[df_sig.oneplus_physical_interactions == 1]))\n",
    "\n",
    "#print(np.nanmedian(df_sig[multiplicative][df_sig.oneplus_physical_interactions == 0]))\n",
    "#print(np.nanmedian(df_sig[multiplicative][df_sig.oneplus_physical_interactions == 1]))"
   ]
  },
  {
   "cell_type": "code",
   "execution_count": null,
   "metadata": {},
   "outputs": [
    {
     "name": "stdout",
     "output_type": "stream",
     "text": [
      "7957\n"
     ]
    },
    {
     "name": "stderr",
     "output_type": "stream",
     "text": [
      "<ipython-input-56-e55ec59d5644>:10: RuntimeWarning: invalid value encountered in log\n",
      "  res = LogisticRegression(random_state=0).fit(np.log(X), Y)\n"
     ]
    },
    {
     "ename": "ValueError",
     "evalue": "Input contains NaN, infinity or a value too large for dtype('float64').",
     "output_type": "error",
     "traceback": [
      "\u001b[0;31m---------------------------------------------------------------------------\u001b[0m",
      "\u001b[0;31mValueError\u001b[0m                                Traceback (most recent call last)",
      "\u001b[0;32m<ipython-input-56-e55ec59d5644>\u001b[0m in \u001b[0;36m<module>\u001b[0;34m\u001b[0m\n\u001b[1;32m      8\u001b[0m \u001b[0mprint\u001b[0m\u001b[0;34m(\u001b[0m\u001b[0mlen\u001b[0m\u001b[0;34m(\u001b[0m\u001b[0mX\u001b[0m\u001b[0;34m)\u001b[0m\u001b[0;34m)\u001b[0m\u001b[0;34m\u001b[0m\u001b[0;34m\u001b[0m\u001b[0m\n\u001b[1;32m      9\u001b[0m \u001b[0;34m\u001b[0m\u001b[0m\n\u001b[0;32m---> 10\u001b[0;31m \u001b[0mres\u001b[0m \u001b[0;34m=\u001b[0m \u001b[0mLogisticRegression\u001b[0m\u001b[0;34m(\u001b[0m\u001b[0mrandom_state\u001b[0m\u001b[0;34m=\u001b[0m\u001b[0;36m0\u001b[0m\u001b[0;34m)\u001b[0m\u001b[0;34m.\u001b[0m\u001b[0mfit\u001b[0m\u001b[0;34m(\u001b[0m\u001b[0mnp\u001b[0m\u001b[0;34m.\u001b[0m\u001b[0mlog\u001b[0m\u001b[0;34m(\u001b[0m\u001b[0mX\u001b[0m\u001b[0;34m)\u001b[0m\u001b[0;34m,\u001b[0m \u001b[0mY\u001b[0m\u001b[0;34m)\u001b[0m\u001b[0;34m\u001b[0m\u001b[0;34m\u001b[0m\u001b[0m\n\u001b[0m\u001b[1;32m     11\u001b[0m \u001b[0mprint\u001b[0m\u001b[0;34m(\u001b[0m\u001b[0mres\u001b[0m\u001b[0;34m.\u001b[0m\u001b[0mcoef_\u001b[0m\u001b[0;34m)\u001b[0m\u001b[0;34m\u001b[0m\u001b[0;34m\u001b[0m\u001b[0m\n\u001b[1;32m     12\u001b[0m \u001b[0mprint\u001b[0m\u001b[0;34m(\u001b[0m\u001b[0mres\u001b[0m\u001b[0;34m.\u001b[0m\u001b[0mintercept_\u001b[0m\u001b[0;34m)\u001b[0m\u001b[0;34m\u001b[0m\u001b[0;34m\u001b[0m\u001b[0m\n",
      "\u001b[0;32m~/miniconda/envs/datascience/lib/python3.8/site-packages/sklearn/linear_model/_logistic.py\u001b[0m in \u001b[0;36mfit\u001b[0;34m(self, X, y, sample_weight)\u001b[0m\n\u001b[1;32m   1340\u001b[0m             \u001b[0m_dtype\u001b[0m \u001b[0;34m=\u001b[0m \u001b[0;34m[\u001b[0m\u001b[0mnp\u001b[0m\u001b[0;34m.\u001b[0m\u001b[0mfloat64\u001b[0m\u001b[0;34m,\u001b[0m \u001b[0mnp\u001b[0m\u001b[0;34m.\u001b[0m\u001b[0mfloat32\u001b[0m\u001b[0;34m]\u001b[0m\u001b[0;34m\u001b[0m\u001b[0;34m\u001b[0m\u001b[0m\n\u001b[1;32m   1341\u001b[0m \u001b[0;34m\u001b[0m\u001b[0m\n\u001b[0;32m-> 1342\u001b[0;31m         X, y = self._validate_data(X, y, accept_sparse='csr', dtype=_dtype,\n\u001b[0m\u001b[1;32m   1343\u001b[0m                                    \u001b[0morder\u001b[0m\u001b[0;34m=\u001b[0m\u001b[0;34m\"C\"\u001b[0m\u001b[0;34m,\u001b[0m\u001b[0;34m\u001b[0m\u001b[0;34m\u001b[0m\u001b[0m\n\u001b[1;32m   1344\u001b[0m                                    accept_large_sparse=solver != 'liblinear')\n",
      "\u001b[0;32m~/miniconda/envs/datascience/lib/python3.8/site-packages/sklearn/base.py\u001b[0m in \u001b[0;36m_validate_data\u001b[0;34m(self, X, y, reset, validate_separately, **check_params)\u001b[0m\n\u001b[1;32m    430\u001b[0m                 \u001b[0my\u001b[0m \u001b[0;34m=\u001b[0m \u001b[0mcheck_array\u001b[0m\u001b[0;34m(\u001b[0m\u001b[0my\u001b[0m\u001b[0;34m,\u001b[0m \u001b[0;34m**\u001b[0m\u001b[0mcheck_y_params\u001b[0m\u001b[0;34m)\u001b[0m\u001b[0;34m\u001b[0m\u001b[0;34m\u001b[0m\u001b[0m\n\u001b[1;32m    431\u001b[0m             \u001b[0;32melse\u001b[0m\u001b[0;34m:\u001b[0m\u001b[0;34m\u001b[0m\u001b[0;34m\u001b[0m\u001b[0m\n\u001b[0;32m--> 432\u001b[0;31m                 \u001b[0mX\u001b[0m\u001b[0;34m,\u001b[0m \u001b[0my\u001b[0m \u001b[0;34m=\u001b[0m \u001b[0mcheck_X_y\u001b[0m\u001b[0;34m(\u001b[0m\u001b[0mX\u001b[0m\u001b[0;34m,\u001b[0m \u001b[0my\u001b[0m\u001b[0;34m,\u001b[0m \u001b[0;34m**\u001b[0m\u001b[0mcheck_params\u001b[0m\u001b[0;34m)\u001b[0m\u001b[0;34m\u001b[0m\u001b[0;34m\u001b[0m\u001b[0m\n\u001b[0m\u001b[1;32m    433\u001b[0m             \u001b[0mout\u001b[0m \u001b[0;34m=\u001b[0m \u001b[0mX\u001b[0m\u001b[0;34m,\u001b[0m \u001b[0my\u001b[0m\u001b[0;34m\u001b[0m\u001b[0;34m\u001b[0m\u001b[0m\n\u001b[1;32m    434\u001b[0m \u001b[0;34m\u001b[0m\u001b[0m\n",
      "\u001b[0;32m~/miniconda/envs/datascience/lib/python3.8/site-packages/sklearn/utils/validation.py\u001b[0m in \u001b[0;36minner_f\u001b[0;34m(*args, **kwargs)\u001b[0m\n\u001b[1;32m     70\u001b[0m                           FutureWarning)\n\u001b[1;32m     71\u001b[0m         \u001b[0mkwargs\u001b[0m\u001b[0;34m.\u001b[0m\u001b[0mupdate\u001b[0m\u001b[0;34m(\u001b[0m\u001b[0;34m{\u001b[0m\u001b[0mk\u001b[0m\u001b[0;34m:\u001b[0m \u001b[0marg\u001b[0m \u001b[0;32mfor\u001b[0m \u001b[0mk\u001b[0m\u001b[0;34m,\u001b[0m \u001b[0marg\u001b[0m \u001b[0;32min\u001b[0m \u001b[0mzip\u001b[0m\u001b[0;34m(\u001b[0m\u001b[0msig\u001b[0m\u001b[0;34m.\u001b[0m\u001b[0mparameters\u001b[0m\u001b[0;34m,\u001b[0m \u001b[0margs\u001b[0m\u001b[0;34m)\u001b[0m\u001b[0;34m}\u001b[0m\u001b[0;34m)\u001b[0m\u001b[0;34m\u001b[0m\u001b[0;34m\u001b[0m\u001b[0m\n\u001b[0;32m---> 72\u001b[0;31m         \u001b[0;32mreturn\u001b[0m \u001b[0mf\u001b[0m\u001b[0;34m(\u001b[0m\u001b[0;34m**\u001b[0m\u001b[0mkwargs\u001b[0m\u001b[0;34m)\u001b[0m\u001b[0;34m\u001b[0m\u001b[0;34m\u001b[0m\u001b[0m\n\u001b[0m\u001b[1;32m     73\u001b[0m     \u001b[0;32mreturn\u001b[0m \u001b[0minner_f\u001b[0m\u001b[0;34m\u001b[0m\u001b[0;34m\u001b[0m\u001b[0m\n\u001b[1;32m     74\u001b[0m \u001b[0;34m\u001b[0m\u001b[0m\n",
      "\u001b[0;32m~/miniconda/envs/datascience/lib/python3.8/site-packages/sklearn/utils/validation.py\u001b[0m in \u001b[0;36mcheck_X_y\u001b[0;34m(X, y, accept_sparse, accept_large_sparse, dtype, order, copy, force_all_finite, ensure_2d, allow_nd, multi_output, ensure_min_samples, ensure_min_features, y_numeric, estimator)\u001b[0m\n\u001b[1;32m    793\u001b[0m         \u001b[0;32mraise\u001b[0m \u001b[0mValueError\u001b[0m\u001b[0;34m(\u001b[0m\u001b[0;34m\"y cannot be None\"\u001b[0m\u001b[0;34m)\u001b[0m\u001b[0;34m\u001b[0m\u001b[0;34m\u001b[0m\u001b[0m\n\u001b[1;32m    794\u001b[0m \u001b[0;34m\u001b[0m\u001b[0m\n\u001b[0;32m--> 795\u001b[0;31m     X = check_array(X, accept_sparse=accept_sparse,\n\u001b[0m\u001b[1;32m    796\u001b[0m                     \u001b[0maccept_large_sparse\u001b[0m\u001b[0;34m=\u001b[0m\u001b[0maccept_large_sparse\u001b[0m\u001b[0;34m,\u001b[0m\u001b[0;34m\u001b[0m\u001b[0;34m\u001b[0m\u001b[0m\n\u001b[1;32m    797\u001b[0m                     \u001b[0mdtype\u001b[0m\u001b[0;34m=\u001b[0m\u001b[0mdtype\u001b[0m\u001b[0;34m,\u001b[0m \u001b[0morder\u001b[0m\u001b[0;34m=\u001b[0m\u001b[0morder\u001b[0m\u001b[0;34m,\u001b[0m \u001b[0mcopy\u001b[0m\u001b[0;34m=\u001b[0m\u001b[0mcopy\u001b[0m\u001b[0;34m,\u001b[0m\u001b[0;34m\u001b[0m\u001b[0;34m\u001b[0m\u001b[0m\n",
      "\u001b[0;32m~/miniconda/envs/datascience/lib/python3.8/site-packages/sklearn/utils/validation.py\u001b[0m in \u001b[0;36minner_f\u001b[0;34m(*args, **kwargs)\u001b[0m\n\u001b[1;32m     70\u001b[0m                           FutureWarning)\n\u001b[1;32m     71\u001b[0m         \u001b[0mkwargs\u001b[0m\u001b[0;34m.\u001b[0m\u001b[0mupdate\u001b[0m\u001b[0;34m(\u001b[0m\u001b[0;34m{\u001b[0m\u001b[0mk\u001b[0m\u001b[0;34m:\u001b[0m \u001b[0marg\u001b[0m \u001b[0;32mfor\u001b[0m \u001b[0mk\u001b[0m\u001b[0;34m,\u001b[0m \u001b[0marg\u001b[0m \u001b[0;32min\u001b[0m \u001b[0mzip\u001b[0m\u001b[0;34m(\u001b[0m\u001b[0msig\u001b[0m\u001b[0;34m.\u001b[0m\u001b[0mparameters\u001b[0m\u001b[0;34m,\u001b[0m \u001b[0margs\u001b[0m\u001b[0;34m)\u001b[0m\u001b[0;34m}\u001b[0m\u001b[0;34m)\u001b[0m\u001b[0;34m\u001b[0m\u001b[0;34m\u001b[0m\u001b[0m\n\u001b[0;32m---> 72\u001b[0;31m         \u001b[0;32mreturn\u001b[0m \u001b[0mf\u001b[0m\u001b[0;34m(\u001b[0m\u001b[0;34m**\u001b[0m\u001b[0mkwargs\u001b[0m\u001b[0;34m)\u001b[0m\u001b[0;34m\u001b[0m\u001b[0;34m\u001b[0m\u001b[0m\n\u001b[0m\u001b[1;32m     73\u001b[0m     \u001b[0;32mreturn\u001b[0m \u001b[0minner_f\u001b[0m\u001b[0;34m\u001b[0m\u001b[0;34m\u001b[0m\u001b[0m\n\u001b[1;32m     74\u001b[0m \u001b[0;34m\u001b[0m\u001b[0m\n",
      "\u001b[0;32m~/miniconda/envs/datascience/lib/python3.8/site-packages/sklearn/utils/validation.py\u001b[0m in \u001b[0;36mcheck_array\u001b[0;34m(array, accept_sparse, accept_large_sparse, dtype, order, copy, force_all_finite, ensure_2d, allow_nd, ensure_min_samples, ensure_min_features, estimator)\u001b[0m\n\u001b[1;32m    642\u001b[0m \u001b[0;34m\u001b[0m\u001b[0m\n\u001b[1;32m    643\u001b[0m         \u001b[0;32mif\u001b[0m \u001b[0mforce_all_finite\u001b[0m\u001b[0;34m:\u001b[0m\u001b[0;34m\u001b[0m\u001b[0;34m\u001b[0m\u001b[0m\n\u001b[0;32m--> 644\u001b[0;31m             _assert_all_finite(array,\n\u001b[0m\u001b[1;32m    645\u001b[0m                                allow_nan=force_all_finite == 'allow-nan')\n\u001b[1;32m    646\u001b[0m \u001b[0;34m\u001b[0m\u001b[0m\n",
      "\u001b[0;32m~/miniconda/envs/datascience/lib/python3.8/site-packages/sklearn/utils/validation.py\u001b[0m in \u001b[0;36m_assert_all_finite\u001b[0;34m(X, allow_nan, msg_dtype)\u001b[0m\n\u001b[1;32m     94\u001b[0m                 not allow_nan and not np.isfinite(X).all()):\n\u001b[1;32m     95\u001b[0m             \u001b[0mtype_err\u001b[0m \u001b[0;34m=\u001b[0m \u001b[0;34m'infinity'\u001b[0m \u001b[0;32mif\u001b[0m \u001b[0mallow_nan\u001b[0m \u001b[0;32melse\u001b[0m \u001b[0;34m'NaN, infinity'\u001b[0m\u001b[0;34m\u001b[0m\u001b[0;34m\u001b[0m\u001b[0m\n\u001b[0;32m---> 96\u001b[0;31m             raise ValueError(\n\u001b[0m\u001b[1;32m     97\u001b[0m                     \u001b[0mmsg_err\u001b[0m\u001b[0;34m.\u001b[0m\u001b[0mformat\u001b[0m\u001b[0;34m\u001b[0m\u001b[0;34m\u001b[0m\u001b[0m\n\u001b[1;32m     98\u001b[0m                     (type_err,\n",
      "\u001b[0;31mValueError\u001b[0m: Input contains NaN, infinity or a value too large for dtype('float64')."
     ]
    }
   ],
   "source": [
    "#tmp = \"adjusted_interaction_score_epsilon_or_tau\"\n",
    "tmp = multiplicative\n",
    "\n",
    "subset = df_sig[tmp].notna()\n",
    "\n",
    "X = np.array(df_sig[tmp][subset]).reshape(-1,1)\n",
    "Y = df_sig.twoplus_physical_interactions[subset]\n",
    "print(len(X))\n",
    "\n",
    "res = LogisticRegression(random_state=0).fit(np.log(X), Y)\n",
    "print(res.coef_)\n",
    "print(res.intercept_)"
   ]
  },
  {
   "cell_type": "code",
   "execution_count": null,
   "metadata": {},
   "outputs": [
    {
     "name": "stderr",
     "output_type": "stream",
     "text": [
      "<ipython-input-55-1ce7a68dd2e6>:1: RuntimeWarning: invalid value encountered in log\n",
      "  np.log(X)\n"
     ]
    },
    {
     "data": {
      "text/plain": [
       "array([[-0.02488511],\n",
       "       [-0.05874193],\n",
       "       [ 0.15539719],\n",
       "       ...,\n",
       "       [ 0.15232418],\n",
       "       [-0.01888488],\n",
       "       [-0.43202115]])"
      ]
     },
     "execution_count": 55,
     "metadata": {},
     "output_type": "execute_result"
    }
   ],
   "source": [
    "np.log(X)"
   ]
  },
  {
   "cell_type": "code",
   "execution_count": null,
   "metadata": {},
   "outputs": [
    {
     "data": {
      "text/html": [
       "<div>\n",
       "<style scoped>\n",
       "    .dataframe tbody tr th:only-of-type {\n",
       "        vertical-align: middle;\n",
       "    }\n",
       "\n",
       "    .dataframe tbody tr th {\n",
       "        vertical-align: top;\n",
       "    }\n",
       "\n",
       "    .dataframe thead th {\n",
       "        text-align: right;\n",
       "    }\n",
       "</style>\n",
       "<table border=\"1\" class=\"dataframe\">\n",
       "  <thead>\n",
       "    <tr style=\"text-align: right;\">\n",
       "      <th></th>\n",
       "      <th>alleles</th>\n",
       "      <th>adjusted_interaction_score_epsilon_or_tau</th>\n",
       "      <th>tau_isserlis2</th>\n",
       "      <th>tau_multiplicative2</th>\n",
       "    </tr>\n",
       "  </thead>\n",
       "  <tbody>\n",
       "    <tr>\n",
       "      <th>5529</th>\n",
       "      <td>gpb2,gpb1,sse1</td>\n",
       "      <td>0.028460</td>\n",
       "      <td>0.021538</td>\n",
       "      <td>0.665096</td>\n",
       "    </tr>\n",
       "    <tr>\n",
       "      <th>4919</th>\n",
       "      <td>gpb2,gpb1,yor1</td>\n",
       "      <td>0.005877</td>\n",
       "      <td>-0.028110</td>\n",
       "      <td>0.836707</td>\n",
       "    </tr>\n",
       "    <tr>\n",
       "      <th>40512</th>\n",
       "      <td>kcc4,gin4,nbp2</td>\n",
       "      <td>0.089002</td>\n",
       "      <td>0.082251</td>\n",
       "      <td>0.904207</td>\n",
       "    </tr>\n",
       "    <tr>\n",
       "      <th>244756</th>\n",
       "      <td>kin4,frk1,sac1</td>\n",
       "      <td>0.000649</td>\n",
       "      <td>-0.009849</td>\n",
       "      <td>0.787189</td>\n",
       "    </tr>\n",
       "    <tr>\n",
       "      <th>202370</th>\n",
       "      <td>mlp1,mlp2,swr1</td>\n",
       "      <td>0.007475</td>\n",
       "      <td>0.011040</td>\n",
       "      <td>0.899984</td>\n",
       "    </tr>\n",
       "    <tr>\n",
       "      <th>232423</th>\n",
       "      <td>msg5,sdp1,pmr1</td>\n",
       "      <td>0.010977</td>\n",
       "      <td>0.008417</td>\n",
       "      <td>0.899355</td>\n",
       "    </tr>\n",
       "    <tr>\n",
       "      <th>48504</th>\n",
       "      <td>npp1,npp2,clg1</td>\n",
       "      <td>0.097607</td>\n",
       "      <td>0.073630</td>\n",
       "      <td>0.866068</td>\n",
       "    </tr>\n",
       "    <tr>\n",
       "      <th>48580</th>\n",
       "      <td>npp1,npp2,rpn1-821</td>\n",
       "      <td>0.009683</td>\n",
       "      <td>-0.001547</td>\n",
       "      <td>0.806872</td>\n",
       "    </tr>\n",
       "    <tr>\n",
       "      <th>223090</th>\n",
       "      <td>nup53,asm4,BET3-ph</td>\n",
       "      <td>0.000562</td>\n",
       "      <td>0.004658</td>\n",
       "      <td>0.726107</td>\n",
       "    </tr>\n",
       "    <tr>\n",
       "      <th>222628</th>\n",
       "      <td>nup53,asm4,TRS23-PH</td>\n",
       "      <td>0.059092</td>\n",
       "      <td>0.065270</td>\n",
       "      <td>0.563035</td>\n",
       "    </tr>\n",
       "    <tr>\n",
       "      <th>223175</th>\n",
       "      <td>nup53,asm4,gsp1-P162L</td>\n",
       "      <td>0.054710</td>\n",
       "      <td>0.063262</td>\n",
       "      <td>0.551966</td>\n",
       "    </tr>\n",
       "    <tr>\n",
       "      <th>222594</th>\n",
       "      <td>nup53,asm4,mtc5</td>\n",
       "      <td>0.021655</td>\n",
       "      <td>0.024467</td>\n",
       "      <td>0.806383</td>\n",
       "    </tr>\n",
       "    <tr>\n",
       "      <th>222773</th>\n",
       "      <td>nup53,asm4,nup145-R4</td>\n",
       "      <td>0.253145</td>\n",
       "      <td>0.259149</td>\n",
       "      <td>0.645768</td>\n",
       "    </tr>\n",
       "    <tr>\n",
       "      <th>222944</th>\n",
       "      <td>nup53,asm4,pri1-M4</td>\n",
       "      <td>0.083192</td>\n",
       "      <td>0.085438</td>\n",
       "      <td>0.801057</td>\n",
       "    </tr>\n",
       "    <tr>\n",
       "      <th>222603</th>\n",
       "      <td>nup53,asm4,sac3</td>\n",
       "      <td>0.013682</td>\n",
       "      <td>0.019505</td>\n",
       "      <td>0.043912</td>\n",
       "    </tr>\n",
       "    <tr>\n",
       "      <th>223113</th>\n",
       "      <td>nup53,asm4,ssl1-T242I</td>\n",
       "      <td>0.055696</td>\n",
       "      <td>0.056110</td>\n",
       "      <td>0.820877</td>\n",
       "    </tr>\n",
       "    <tr>\n",
       "      <th>125239</th>\n",
       "      <td>rps25a,rps25b,prp3-1</td>\n",
       "      <td>0.009349</td>\n",
       "      <td>0.000851</td>\n",
       "      <td>0.902843</td>\n",
       "    </tr>\n",
       "    <tr>\n",
       "      <th>125653</th>\n",
       "      <td>rps25a,rps25b,yml108w</td>\n",
       "      <td>0.007086</td>\n",
       "      <td>0.001061</td>\n",
       "      <td>0.900360</td>\n",
       "    </tr>\n",
       "    <tr>\n",
       "      <th>165996</th>\n",
       "      <td>rtt101,ybr259w,sup35-td</td>\n",
       "      <td>0.040066</td>\n",
       "      <td>0.026672</td>\n",
       "      <td>0.857322</td>\n",
       "    </tr>\n",
       "    <tr>\n",
       "      <th>194094</th>\n",
       "      <td>sap190,sap185,dbf2</td>\n",
       "      <td>0.007583</td>\n",
       "      <td>-0.008104</td>\n",
       "      <td>0.764805</td>\n",
       "    </tr>\n",
       "    <tr>\n",
       "      <th>150476</th>\n",
       "      <td>sbe22,sbe2,aim44</td>\n",
       "      <td>0.035104</td>\n",
       "      <td>0.039044</td>\n",
       "      <td>0.889140</td>\n",
       "    </tr>\n",
       "    <tr>\n",
       "      <th>169186</th>\n",
       "      <td>set4,set3,cct6-18</td>\n",
       "      <td>0.019506</td>\n",
       "      <td>0.008825</td>\n",
       "      <td>0.880698</td>\n",
       "    </tr>\n",
       "    <tr>\n",
       "      <th>241767</th>\n",
       "      <td>ski7,hbs1,rps16a</td>\n",
       "      <td>0.040963</td>\n",
       "      <td>0.031096</td>\n",
       "      <td>0.674212</td>\n",
       "    </tr>\n",
       "    <tr>\n",
       "      <th>241065</th>\n",
       "      <td>ski7,hbs1,rps16b</td>\n",
       "      <td>0.065148</td>\n",
       "      <td>0.058152</td>\n",
       "      <td>0.849332</td>\n",
       "    </tr>\n",
       "    <tr>\n",
       "      <th>241353</th>\n",
       "      <td>ski7,hbs1,rps23a</td>\n",
       "      <td>0.036037</td>\n",
       "      <td>0.027576</td>\n",
       "      <td>0.838386</td>\n",
       "    </tr>\n",
       "    <tr>\n",
       "      <th>240995</th>\n",
       "      <td>ski7,hbs1,rps6b</td>\n",
       "      <td>0.036243</td>\n",
       "      <td>0.028885</td>\n",
       "      <td>0.901879</td>\n",
       "    </tr>\n",
       "    <tr>\n",
       "      <th>30639</th>\n",
       "      <td>smp1,rlm1,gas1</td>\n",
       "      <td>0.065892</td>\n",
       "      <td>0.064641</td>\n",
       "      <td>0.654703</td>\n",
       "    </tr>\n",
       "    <tr>\n",
       "      <th>173349</th>\n",
       "      <td>tpk1,tpk3,nhp10</td>\n",
       "      <td>0.054012</td>\n",
       "      <td>0.047157</td>\n",
       "      <td>0.832876</td>\n",
       "    </tr>\n",
       "    <tr>\n",
       "      <th>213777</th>\n",
       "      <td>vid22,env11,cbc2</td>\n",
       "      <td>0.037221</td>\n",
       "      <td>0.021120</td>\n",
       "      <td>0.583938</td>\n",
       "    </tr>\n",
       "    <tr>\n",
       "      <th>204264</th>\n",
       "      <td>yeh1,yeh2,sur1</td>\n",
       "      <td>0.114065</td>\n",
       "      <td>0.109426</td>\n",
       "      <td>0.838860</td>\n",
       "    </tr>\n",
       "  </tbody>\n",
       "</table>\n",
       "</div>"
      ],
      "text/plain": [
       "                        alleles  adjusted_interaction_score_epsilon_or_tau  \\\n",
       "5529             gpb2,gpb1,sse1                                   0.028460   \n",
       "4919             gpb2,gpb1,yor1                                   0.005877   \n",
       "40512            kcc4,gin4,nbp2                                   0.089002   \n",
       "244756           kin4,frk1,sac1                                   0.000649   \n",
       "202370           mlp1,mlp2,swr1                                   0.007475   \n",
       "232423           msg5,sdp1,pmr1                                   0.010977   \n",
       "48504            npp1,npp2,clg1                                   0.097607   \n",
       "48580        npp1,npp2,rpn1-821                                   0.009683   \n",
       "223090       nup53,asm4,BET3-ph                                   0.000562   \n",
       "222628      nup53,asm4,TRS23-PH                                   0.059092   \n",
       "223175    nup53,asm4,gsp1-P162L                                   0.054710   \n",
       "222594          nup53,asm4,mtc5                                   0.021655   \n",
       "222773     nup53,asm4,nup145-R4                                   0.253145   \n",
       "222944       nup53,asm4,pri1-M4                                   0.083192   \n",
       "222603          nup53,asm4,sac3                                   0.013682   \n",
       "223113    nup53,asm4,ssl1-T242I                                   0.055696   \n",
       "125239     rps25a,rps25b,prp3-1                                   0.009349   \n",
       "125653    rps25a,rps25b,yml108w                                   0.007086   \n",
       "165996  rtt101,ybr259w,sup35-td                                   0.040066   \n",
       "194094       sap190,sap185,dbf2                                   0.007583   \n",
       "150476         sbe22,sbe2,aim44                                   0.035104   \n",
       "169186        set4,set3,cct6-18                                   0.019506   \n",
       "241767         ski7,hbs1,rps16a                                   0.040963   \n",
       "241065         ski7,hbs1,rps16b                                   0.065148   \n",
       "241353         ski7,hbs1,rps23a                                   0.036037   \n",
       "240995          ski7,hbs1,rps6b                                   0.036243   \n",
       "30639            smp1,rlm1,gas1                                   0.065892   \n",
       "173349          tpk1,tpk3,nhp10                                   0.054012   \n",
       "213777         vid22,env11,cbc2                                   0.037221   \n",
       "204264           yeh1,yeh2,sur1                                   0.114065   \n",
       "\n",
       "        tau_isserlis2  tau_multiplicative2  \n",
       "5529         0.021538             0.665096  \n",
       "4919        -0.028110             0.836707  \n",
       "40512        0.082251             0.904207  \n",
       "244756      -0.009849             0.787189  \n",
       "202370       0.011040             0.899984  \n",
       "232423       0.008417             0.899355  \n",
       "48504        0.073630             0.866068  \n",
       "48580       -0.001547             0.806872  \n",
       "223090       0.004658             0.726107  \n",
       "222628       0.065270             0.563035  \n",
       "223175       0.063262             0.551966  \n",
       "222594       0.024467             0.806383  \n",
       "222773       0.259149             0.645768  \n",
       "222944       0.085438             0.801057  \n",
       "222603       0.019505             0.043912  \n",
       "223113       0.056110             0.820877  \n",
       "125239       0.000851             0.902843  \n",
       "125653       0.001061             0.900360  \n",
       "165996       0.026672             0.857322  \n",
       "194094      -0.008104             0.764805  \n",
       "150476       0.039044             0.889140  \n",
       "169186       0.008825             0.880698  \n",
       "241767       0.031096             0.674212  \n",
       "241065       0.058152             0.849332  \n",
       "241353       0.027576             0.838386  \n",
       "240995       0.028885             0.901879  \n",
       "30639        0.064641             0.654703  \n",
       "173349       0.047157             0.832876  \n",
       "213777       0.021120             0.583938  \n",
       "204264       0.109426             0.838860  "
      ]
     },
     "execution_count": 23,
     "metadata": {},
     "output_type": "execute_result"
    }
   ],
   "source": [
    "neg_multiplicative_alleles = tmp_neg.alleles[(tmp_neg.array_allele_name_x.isna()) & (tmp_neg.array_allele_name_y.notna())]\n",
    "tmp = df.loc[df['alleles'].isin(neg_multiplicative_alleles)]\n",
    "\n",
    "x = tmp[(tmp.adjusted_interaction_score_epsilon_or_tau>0.00)][[\"alleles\", \"adjusted_interaction_score_epsilon_or_tau\", isserlis, multiplicative]].sort_values(by=\"alleles\")\n",
    "x.tail(30)\n"
   ]
  },
  {
   "cell_type": "code",
   "execution_count": null,
   "metadata": {},
   "outputs": [
    {
     "data": {
      "text/html": [
       "<div>\n",
       "<style scoped>\n",
       "    .dataframe tbody tr th:only-of-type {\n",
       "        vertical-align: middle;\n",
       "    }\n",
       "\n",
       "    .dataframe tbody tr th {\n",
       "        vertical-align: top;\n",
       "    }\n",
       "\n",
       "    .dataframe thead th {\n",
       "        text-align: right;\n",
       "    }\n",
       "</style>\n",
       "<table border=\"1\" class=\"dataframe\">\n",
       "  <thead>\n",
       "    <tr style=\"text-align: right;\">\n",
       "      <th></th>\n",
       "      <th>alleles</th>\n",
       "      <th>adjusted_interaction_score_epsilon_or_tau</th>\n",
       "      <th>tau_isserlis2</th>\n",
       "      <th>tau_multiplicative2</th>\n",
       "    </tr>\n",
       "  </thead>\n",
       "  <tbody>\n",
       "    <tr>\n",
       "      <th>49814</th>\n",
       "      <td>are1,are2,bck1</td>\n",
       "      <td>-0.014766</td>\n",
       "      <td>-0.013266</td>\n",
       "      <td>1.110828</td>\n",
       "    </tr>\n",
       "    <tr>\n",
       "      <th>50274</th>\n",
       "      <td>are1,are2,chl1</td>\n",
       "      <td>-0.017532</td>\n",
       "      <td>-0.015424</td>\n",
       "      <td>1.206408</td>\n",
       "    </tr>\n",
       "    <tr>\n",
       "      <th>50260</th>\n",
       "      <td>are1,are2,myo2-14</td>\n",
       "      <td>-0.021713</td>\n",
       "      <td>-0.020670</td>\n",
       "      <td>1.133033</td>\n",
       "    </tr>\n",
       "    <tr>\n",
       "      <th>49818</th>\n",
       "      <td>are1,are2,pam16-3</td>\n",
       "      <td>-0.002152</td>\n",
       "      <td>-0.001603</td>\n",
       "      <td>1.114013</td>\n",
       "    </tr>\n",
       "    <tr>\n",
       "      <th>49968</th>\n",
       "      <td>are1,are2,sed5-1</td>\n",
       "      <td>-0.049710</td>\n",
       "      <td>-0.050641</td>\n",
       "      <td>1.130057</td>\n",
       "    </tr>\n",
       "    <tr>\n",
       "      <th>227988</th>\n",
       "      <td>cik1,vik1,sup35-td</td>\n",
       "      <td>-0.025101</td>\n",
       "      <td>0.020738</td>\n",
       "      <td>75.337056</td>\n",
       "    </tr>\n",
       "    <tr>\n",
       "      <th>91961</th>\n",
       "      <td>heh2,src1,pom34</td>\n",
       "      <td>-0.015177</td>\n",
       "      <td>-0.019067</td>\n",
       "      <td>1.108816</td>\n",
       "    </tr>\n",
       "    <tr>\n",
       "      <th>91486</th>\n",
       "      <td>heh2,src1,sac3</td>\n",
       "      <td>-0.021025</td>\n",
       "      <td>-0.019787</td>\n",
       "      <td>1.246198</td>\n",
       "    </tr>\n",
       "    <tr>\n",
       "      <th>91355</th>\n",
       "      <td>heh2,src1,sec66</td>\n",
       "      <td>-0.028749</td>\n",
       "      <td>-0.031521</td>\n",
       "      <td>1.255338</td>\n",
       "    </tr>\n",
       "    <tr>\n",
       "      <th>130541</th>\n",
       "      <td>lsb1,pin3,cog3-1</td>\n",
       "      <td>-0.056894</td>\n",
       "      <td>-0.023561</td>\n",
       "      <td>1.173636</td>\n",
       "    </tr>\n",
       "    <tr>\n",
       "      <th>125169</th>\n",
       "      <td>rps25a,rps25b,sac3</td>\n",
       "      <td>-0.001294</td>\n",
       "      <td>0.003098</td>\n",
       "      <td>1.109380</td>\n",
       "    </tr>\n",
       "  </tbody>\n",
       "</table>\n",
       "</div>"
      ],
      "text/plain": [
       "                   alleles  adjusted_interaction_score_epsilon_or_tau  \\\n",
       "49814       are1,are2,bck1                                  -0.014766   \n",
       "50274       are1,are2,chl1                                  -0.017532   \n",
       "50260    are1,are2,myo2-14                                  -0.021713   \n",
       "49818    are1,are2,pam16-3                                  -0.002152   \n",
       "49968     are1,are2,sed5-1                                  -0.049710   \n",
       "227988  cik1,vik1,sup35-td                                  -0.025101   \n",
       "91961      heh2,src1,pom34                                  -0.015177   \n",
       "91486       heh2,src1,sac3                                  -0.021025   \n",
       "91355      heh2,src1,sec66                                  -0.028749   \n",
       "130541    lsb1,pin3,cog3-1                                  -0.056894   \n",
       "125169  rps25a,rps25b,sac3                                  -0.001294   \n",
       "\n",
       "        tau_isserlis2  tau_multiplicative2  \n",
       "49814       -0.013266             1.110828  \n",
       "50274       -0.015424             1.206408  \n",
       "50260       -0.020670             1.133033  \n",
       "49818       -0.001603             1.114013  \n",
       "49968       -0.050641             1.130057  \n",
       "227988       0.020738            75.337056  \n",
       "91961       -0.019067             1.108816  \n",
       "91486       -0.019787             1.246198  \n",
       "91355       -0.031521             1.255338  \n",
       "130541      -0.023561             1.173636  \n",
       "125169       0.003098             1.109380  "
      ]
     },
     "execution_count": 24,
     "metadata": {},
     "output_type": "execute_result"
    }
   ],
   "source": [
    "pos_multiplicative_alleles = tmp_pos.alleles[(tmp_pos.array_allele_name_x.isna()) & (tmp_pos.array_allele_name_y.notna())]\n",
    "tmp = df.loc[df['alleles'].isin(pos_multiplicative_alleles)]\n",
    "\n",
    "tmp[(tmp.adjusted_interaction_score_epsilon_or_tau<0.00)][[\"alleles\", \"adjusted_interaction_score_epsilon_or_tau\", isserlis, multiplicative]].sort_values(by=\"alleles\")\n"
   ]
  },
  {
   "cell_type": "code",
   "execution_count": null,
   "metadata": {},
   "outputs": [
    {
     "name": "stderr",
     "output_type": "stream",
     "text": [
      "/Users/bjarnold/miniconda/envs/datascience/lib/python3.8/site-packages/seaborn/_decorators.py:36: FutureWarning: Pass the following variables as keyword args: x, y. From version 0.12, the only valid positional argument will be `data`, and passing other arguments without an explicit keyword will result in an error or misinterpretation.\n",
      "  warnings.warn(\n"
     ]
    },
    {
     "name": "stdout",
     "output_type": "stream",
     "text": [
      "                       tau_isserlis2_x  tau_multiplicative2_y\n",
      "tau_isserlis2_x               1.000000               0.702297\n",
      "tau_multiplicative2_y         0.702297               1.000000\n",
      "                       tau_isserlis2_x  tau_multiplicative2_y\n",
      "tau_isserlis2_x               1.000000               0.156976\n",
      "tau_multiplicative2_y         0.156976               1.000000\n"
     ]
    },
    {
     "data": {
      "image/png": "[encoded data removed]",
      "text/plain": [
       "<Figure size 432x288 with 1 Axes>"
      ]
     },
     "metadata": {
      "needs_background": "light"
     },
     "output_type": "display_data"
    }
   ],
   "source": [
    "tmp = tmp_pos[(tmp_pos.array_allele_name_x.notna()) & (tmp_pos.array_allele_name_y.notna())] \n",
    "p = sns.regplot(tmp[f'{isserlis}_x'],\n",
    "            tmp[f'{multiplicative}_y'],\n",
    "            scatter_kws={'alpha':0.2},\n",
    "            line_kws={'color': 'red'})\n",
    "p.set(yscale=\"log\")\n",
    "print(tmp[[f'{isserlis}_x', f'{multiplicative}_y']].corr(method=\"spearman\"))\n",
    "print(tmp[[f'{isserlis}_x', f'{multiplicative}_y']].corr(method=\"pearson\"))\n"
   ]
  },
  {
   "cell_type": "code",
   "execution_count": null,
   "metadata": {},
   "outputs": [
    {
     "name": "stderr",
     "output_type": "stream",
     "text": [
      "/Users/bjarnold/miniconda/envs/datascience/lib/python3.8/site-packages/seaborn/_decorators.py:36: FutureWarning: Pass the following variables as keyword args: x, y. From version 0.12, the only valid positional argument will be `data`, and passing other arguments without an explicit keyword will result in an error or misinterpretation.\n",
      "  warnings.warn(\n"
     ]
    },
    {
     "name": "stdout",
     "output_type": "stream",
     "text": [
      "                       tau_isserlis2_x  tau_multiplicative2_y\n",
      "tau_isserlis2_x               1.000000               0.805207\n",
      "tau_multiplicative2_y         0.805207               1.000000\n",
      "                       tau_isserlis2_x  tau_multiplicative2_y\n",
      "tau_isserlis2_x               1.000000               0.810863\n",
      "tau_multiplicative2_y         0.810863               1.000000\n"
     ]
    },
    {
     "data": {
      "image/png": "[encoded data removed]",
      "text/plain": [
       "<Figure size 432x288 with 1 Axes>"
      ]
     },
     "metadata": {
      "needs_background": "light"
     },
     "output_type": "display_data"
    }
   ],
   "source": [
    "tmp = tmp_neg[(tmp_neg.array_allele_name_x.notna()) & (tmp_neg.array_allele_name_y.notna())] \n",
    "p = sns.regplot(tmp[f'{isserlis}_x'],\n",
    "            tmp[f'{multiplicative}_y'],\n",
    "            scatter_kws={'alpha':0.2},\n",
    "            line_kws={'color': 'red'})\n",
    "p.set(yscale=\"log\")\n",
    "print(tmp[[f'{isserlis}_x', f'{multiplicative}_y']].corr(method=\"spearman\"))\n",
    "print(tmp[[f'{isserlis}_x', f'{multiplicative}_y']].corr(method=\"pearson\"))\n"
   ]
  }
 ],
 "metadata": {
  "interpreter": {
   "hash": "74a539bb1a30b12322b0673657a3362ba97f8c77e4e9b57fd18ae9f35996046a"
  },
  "kernelspec": {
   "display_name": "Python 3.8.5 ('datascience')",
   "language": "python",
   "name": "python3"
  },
  "language_info": {
   "codemirror_mode": {
    "name": "ipython",
    "version": 3
   },
   "file_extension": ".py",
   "mimetype": "text/x-python",
   "name": "python",
   "nbconvert_exporter": "python",
   "pygments_lexer": "ipython3",
   "version": "3.8.5"
  },
  "orig_nbformat": 4
 },
 "nbformat": 4,
 "nbformat_minor": 2
}
