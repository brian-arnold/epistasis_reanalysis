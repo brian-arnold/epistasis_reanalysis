{
 "cells": [
  {
   "cell_type": "code",
   "execution_count": 1,
   "metadata": {},
   "outputs": [],
   "source": [
    "import pandas as pd\n",
    "import seaborn as sns\n",
    "import numpy as np\n",
    "from collections import defaultdict\n",
    "import matplotlib.pyplot as plt\n",
    "from scipy.stats import hypergeom\n",
    "\n",
    "# personal modules\n",
    "import databases as db\n",
    "import kuzmin_data as data\n",
    "import enrichment as enrich\n"
   ]
  },
  {
   "cell_type": "markdown",
   "metadata": {},
   "source": [
    "From the supplement of the Kuzmin et al 2020 paper: \"The scoring of 537,911 double and 256,861 triple mutants identified 4,650 negative and 2,547 positive digenic interactions and 2,466 negative and 2,091 positive trigenic interactions.\""
   ]
  },
  {
   "cell_type": "code",
   "execution_count": 2,
   "metadata": {},
   "outputs": [
    {
     "name": "stdout",
     "output_type": "stream",
     "text": [
      "digenic     537911\n",
      "trigenic    256861\n",
      "Name: combined_mutant_type, dtype: int64\n",
      "digenic     7197\n",
      "trigenic    4557\n",
      "Name: combined_mutant_type, dtype: int64\n"
     ]
    }
   ],
   "source": [
    "kuzmin_2020_data_dir = \"/Users/bjarnold/Princeton_DataX/Epistasis/higher_order_reanalysis/yeast_screens/KuzminEtAl2020\"\n",
    "kuzmin_2020_s1, kuzmin_2020_s1_digenic, kuzmin_2020_s1_trigenic = data.load_kuzmin_2020_s1(kuzmin_2020_data_dir)\n",
    "kuzmin_2020_s3, kuzmin_2020_s3_digenic = data.load_kuzmin_2020_s3(kuzmin_2020_data_dir)\n",
    "kuzmin_2020_s5, kuzmin_2020_s5_singMut, kuzmin_2020_s5_dblMut = data.load_kuzmin_2020_s5(kuzmin_2020_data_dir)\n",
    "kuzmin_2020_s2 = data.load_kuzmin_2020_s2(kuzmin_2020_data_dir)\n",
    "\n",
    "\n",
    "print(kuzmin_2020_s1.combined_mutant_type.value_counts())\n",
    "print(kuzmin_2020_s2.combined_mutant_type.value_counts())\n"
   ]
  },
  {
   "cell_type": "code",
   "execution_count": 3,
   "metadata": {},
   "outputs": [],
   "source": [
    "# create dictionaries of fitness/interaction values for quick lookup tables\n",
    "# these will be used to recompute tau on cumulant and multiplicative scale\n",
    "\n",
    "kuzmin_2020_s1_dblMutFit = dict(zip(kuzmin_2020_s1_digenic.alleles, kuzmin_2020_s1_digenic.double_triple_mutant_fitness))\n",
    "kuzmin_2020_s1_epsilon = dict(zip(kuzmin_2020_s1_digenic.alleles, kuzmin_2020_s1_digenic.raw_interaction_score_epsilon))\n",
    "kuzmin_2020_s1_singMutFit = dict(zip(kuzmin_2020_s1.array_allele_name, kuzmin_2020_s1.array_single_mutant_fitness))\n",
    "\n",
    "kuzmin_2020_s3_singMutFit = dict(zip(kuzmin_2020_s3.array_allele_name, kuzmin_2020_s3.array_single_mutant_fitness))\n",
    "\n",
    "kuzmin_2020_s5_dblMut = kuzmin_2020_s5[kuzmin_2020_s5.mutant_type == \"Double mutant\"]\n",
    "kuzmin_2020_s5_singMut = kuzmin_2020_s5[kuzmin_2020_s5.mutant_type == \"Single mutant\"]\n",
    "\n",
    "kuzmin_2020_s5_dblMutFit = dict(zip(kuzmin_2020_s5_dblMut.alleles, kuzmin_2020_s5_dblMut.fitness))\n",
    "kuzmin_2020_s5_singMutFit = dict(zip(kuzmin_2020_s5_singMut.alleles, kuzmin_2020_s5_singMut.fitness))\n"
   ]
  },
  {
   "cell_type": "markdown",
   "metadata": {},
   "source": [
    "**From the main text**:\n",
    "\n",
    "Using colony size as a proxy for cell fitness, we measured the growth pheno- types of the set of 240 double-mutant query strains and the corresponding 480 single mu- tants (table S5) (42), which correlated well with previous large-scale measurements of single-mutant fitness (Pearson correlation co- efficient r =0.51, P =3×10−30)\n",
    "\n",
    "**From the supplement**:\n",
    "\n",
    "The mean single mutant fitness estimates of each array strain were obtained from a previous study (37).\n",
    "\n",
    "**Conclusion**:\n",
    "\n",
    "Double mutants:\n",
    "\n",
    "- take ij mutants from Kuzmin 2020 S5\n",
    "\n",
    "- take ik and jk mutants from Kuzmin 2020 S1\n",
    "\n",
    "Single mutants:\n",
    "\n",
    "- take i from Kuzmin 2020 S3?????\n",
    "\n",
    "- take j from Kuzmin 2020 S5\n",
    "\n",
    "- take k from Kuzmin 2020 S1\n"
   ]
  },
  {
   "cell_type": "markdown",
   "metadata": {},
   "source": [
    "Consider three genes i, j, and k. Based on the experimental design of Kuzmin et al, they compute digenic interaction effects between genes i and k (e_ik) and between genes j and k (e_jk). Then, they cross the double mutant ij with single mutant k. This cross introduces 3 interaction effects: 2 digenic (e_ik and e_jk) and 1 trigenic (t_ijk). They compute the trigenic effect by subtracting out the two previously calculated digenic effects. Note that e_ij isn't calculated here but is accounted for in their eqn within f_ij.\n",
    "\n",
    "For each triple mutant ijk, let's confirm that double mutants ik and jk exist:"
   ]
  },
  {
   "cell_type": "code",
   "execution_count": 4,
   "metadata": {},
   "outputs": [],
   "source": [
    "f_i, f_j, f_k, f_ij, f_ik, f_jk, e_ik_kuz, e_jk_kuz = data.consolidate_fitnesses_across_tables(kuzmin_2020_s1_trigenic,\n",
    "                                                                                            kuzmin_2020_s1_dblMutFit,\n",
    "                                                                                            kuzmin_2020_s1_singMutFit,\n",
    "                                                                                            kuzmin_2020_s1_epsilon,\n",
    "                                                                                            kuzmin_2020_s3_singMutFit,\n",
    "                                                                                            kuzmin_2020_s5_singMutFit,\n",
    "                                                                                            kuzmin_2020_s5_dblMutFit)\n",
    "\n",
    "# incorporate fitnesses into the data frame so that for each triplet of genes, we have all relevant fitness values in the same row to calculate interactions\n",
    "# since we will be mostly using kuzmin_2020_s1_trigenic going forwards, lets rename it to df\n",
    "\n",
    "df = kuzmin_2020_s1_trigenic\n",
    "\n",
    "df['f_ij'] = df['alleles'].map(f_ij)\n",
    "df['f_ik'] = df['alleles'].map(f_ik)\n",
    "df['f_jk'] = df['alleles'].map(f_jk)\n",
    "\n",
    "df['f_i'] = df['alleles'].map(f_i)\n",
    "df['f_j'] = df['alleles'].map(f_j)\n",
    "df['f_k'] = df['alleles'].map(f_k)\n",
    "\n",
    "df['e_ik_kuz'] = df['alleles'].map(e_ik_kuz)\n",
    "df['e_jk_kuz'] = df['alleles'].map(e_jk_kuz)\n",
    "\n"
   ]
  },
  {
   "cell_type": "code",
   "execution_count": 5,
   "metadata": {},
   "outputs": [
    {
     "name": "stdout",
     "output_type": "stream",
     "text": [
      "215617\n",
      "256850\n",
      "256773\n",
      "226427\n",
      "254763\n",
      "256861\n",
      "\n",
      "256850\n",
      "256773\n",
      "189340\n",
      "189340\n",
      "256861\n",
      "fraction of gene triplets for which we were able to find all relevant fitness values\n",
      "0.7371301988234882\n",
      "number of gene triplets for which we were able to find all relevant fitness values\n",
      "189340\n"
     ]
    }
   ],
   "source": [
    "\n",
    "print(np.sum(~np.isnan(df.f_ij)))\n",
    "print(np.sum(~np.isnan(df.f_ik)))\n",
    "print(np.sum(~np.isnan(df.f_jk)))\n",
    "print(np.sum(~np.isnan(df.f_i)))\n",
    "print(np.sum(~np.isnan(df.f_j)))\n",
    "print(np.sum(~np.isnan(df.f_k)))\n",
    "print()\n",
    "print(np.sum(~np.isnan(df.e_ik_kuz)))\n",
    "print(np.sum(~np.isnan(df.e_jk_kuz)))\n",
    "\n",
    "#print(len(df.f_ik))\n",
    "print(len(df.dropna(subset=['f_i', 'f_j', 'f_k', 'f_ij', 'f_ik', 'f_jk', 'e_ik_kuz', 'e_jk_kuz'])))\n",
    "print(len(df.dropna(subset=['f_i', 'f_j', 'f_k', 'f_ij', 'f_ik', 'f_jk'])))\n",
    "print(len(df))\n",
    "print(\"fraction of gene triplets for which we were able to find all relevant fitness values\")\n",
    "print(len(df.dropna(subset=['f_i', 'f_j', 'f_k', 'f_ij', 'f_ik', 'f_jk']))/len(df))\n",
    "print(\"number of gene triplets for which we were able to find all relevant fitness values\")\n",
    "print(len(df.dropna(subset=['f_i', 'f_j', 'f_k', 'f_ij', 'f_ik', 'f_jk'])))\n"
   ]
  },
  {
   "cell_type": "code",
   "execution_count": 6,
   "metadata": {},
   "outputs": [
    {
     "name": "stdout",
     "output_type": "stream",
     "text": [
      "fraction of tau values that remain after filtering out deviants\n"
     ]
    },
    {
     "name": "stderr",
     "output_type": "stream",
     "text": [
      "<ipython-input-6-7c436393ed1b>:8: SettingWithCopyWarning: \n",
      "A value is trying to be set on a copy of a slice from a DataFrame.\n",
      "Try using .loc[row_indexer,col_indexer] = value instead\n",
      "\n",
      "See the caveats in the documentation: https://pandas.pydata.org/pandas-docs/stable/user_guide/indexing.html#returning-a-view-versus-a-copy\n",
      "  df['tau_kuzmin_orig'] = df.double_triple_mutant_fitness - df.f_ij*df.f_k - df.e_ik_kuz*df.f_j - df.e_jk_kuz*df.f_i\n"
     ]
    },
    {
     "name": "stdout",
     "output_type": "stream",
     "text": [
      "0.9891940424632936\n"
     ]
    },
    {
     "data": {
      "text/html": [
       "<div>\n",
       "<style scoped>\n",
       "    .dataframe tbody tr th:only-of-type {\n",
       "        vertical-align: middle;\n",
       "    }\n",
       "\n",
       "    .dataframe tbody tr th {\n",
       "        vertical-align: top;\n",
       "    }\n",
       "\n",
       "    .dataframe thead th {\n",
       "        text-align: right;\n",
       "    }\n",
       "</style>\n",
       "<table border=\"1\" class=\"dataframe\">\n",
       "  <thead>\n",
       "    <tr style=\"text-align: right;\">\n",
       "      <th></th>\n",
       "      <th>tau_kuzmin_orig</th>\n",
       "      <th>adjusted_interaction_score_epsilon_or_tau</th>\n",
       "    </tr>\n",
       "  </thead>\n",
       "  <tbody>\n",
       "    <tr>\n",
       "      <th>tau_kuzmin_orig</th>\n",
       "      <td>1.000000</td>\n",
       "      <td>0.997447</td>\n",
       "    </tr>\n",
       "    <tr>\n",
       "      <th>adjusted_interaction_score_epsilon_or_tau</th>\n",
       "      <td>0.997447</td>\n",
       "      <td>1.000000</td>\n",
       "    </tr>\n",
       "  </tbody>\n",
       "</table>\n",
       "</div>"
      ],
      "text/plain": [
       "                                           tau_kuzmin_orig  \\\n",
       "tau_kuzmin_orig                                   1.000000   \n",
       "adjusted_interaction_score_epsilon_or_tau         0.997447   \n",
       "\n",
       "                                           adjusted_interaction_score_epsilon_or_tau  \n",
       "tau_kuzmin_orig                                                             0.997447  \n",
       "adjusted_interaction_score_epsilon_or_tau                                   1.000000  "
      ]
     },
     "execution_count": 6,
     "metadata": {},
     "output_type": "execute_result"
    },
    {
     "data": {
      "image/png": "[encoded data removed]",
      "text/plain": [
       "<Figure size 1080x360 with 2 Axes>"
      ]
     },
     "metadata": {
      "needs_background": "light"
     },
     "output_type": "display_data"
    }
   ],
   "source": [
    "# To ensure we appropriately understand the data, we recalculate tau (trigenic interaction) using the formula in the supplement of Kuzmin 2018.\n",
    "# These values *should* correspond to those reported in the 'adjusted_interaction_score_epsilon_or_tau' column. Around ~1% of recalculated tau values\n",
    "# strongly deviate from those reported, and we filter these out.\n",
    "\n",
    "df = df.dropna(subset=['f_i', 'f_j', 'f_k', 'f_ij', 'f_ik', 'f_jk', 'e_ik_kuz', 'e_jk_kuz'])\n",
    "threshold = 0.1\n",
    "\n",
    "df['tau_kuzmin_orig'] = df.double_triple_mutant_fitness - df.f_ij*df.f_k - df.e_ik_kuz*df.f_j - df.e_jk_kuz*df.f_i\n",
    "\n",
    "# filter out results that aren't reproducible according to the original equation\n",
    "print(\"fraction of tau values that remain after filtering out deviants\")\n",
    "print(len(df[abs(df.tau_kuzmin_orig - df.adjusted_interaction_score_epsilon_or_tau) <= threshold])/len(df))\n",
    "\n",
    "df = df[abs(df.tau_kuzmin_orig - df.adjusted_interaction_score_epsilon_or_tau) <= threshold]\n",
    "\n",
    "fig, axs = plt.subplots(ncols=2, figsize=(15,5))\n",
    "\n",
    "p = sns.kdeplot(df['adjusted_interaction_score_epsilon_or_tau'], ax=axs[0], color=\"blue\")\n",
    "p = sns.kdeplot(df['tau_kuzmin_orig'], ax=axs[0], color=\"red\")\n",
    "p.set(xlabel='tau (reported blue, recalculated red)')\n",
    "\n",
    "p = sns.regplot(x=df['tau_kuzmin_orig'],\n",
    "            y=df['adjusted_interaction_score_epsilon_or_tau'],\n",
    "            scatter_kws={'alpha':0.01},\n",
    "            line_kws={'color': 'red'},\n",
    "            ax=axs[1])\n",
    "p.set(xlabel='tau recalculated', ylabel='tau reported')\n",
    "\n",
    "df[['tau_kuzmin_orig', 'adjusted_interaction_score_epsilon_or_tau']].corr(method=\"pearson\")\n"
   ]
  },
  {
   "cell_type": "code",
   "execution_count": 7,
   "metadata": {},
   "outputs": [],
   "source": [
    "# recalculate tau using isserlis formula (rearrangement of formula in Kuzmin et al 2018) and multiplicative formula\n",
    "\n",
    "df.loc[:, 'tau_isserlis'] = df.double_triple_mutant_fitness + 2*df.f_i*df.f_j*df.f_k - df.f_i*df.f_jk - df.f_j*df.f_ik - df.f_k*df.f_ij\n",
    "\n",
    "df.loc[:,'e_ik_mult'] = df.f_ik/(df.f_i*df.f_k)\n",
    "df.loc[:,'e_jk_mult'] = df.f_jk/(df.f_j*df.f_k)\n",
    "#df.loc[:,'tau_multiplicative'] = df.double_triple_mutant_fitness/(df.f_ij*df.f_k*df.e_ik_mult*df.e_jk_mult) \n",
    "df.loc[:,'tau_multiplicative'] = (df.double_triple_mutant_fitness*df.f_i*df.f_j*df.f_k)/(df.f_ij*df.f_ik*df.f_jk) \n",
    "\n",
    "\n"
   ]
  },
  {
   "cell_type": "code",
   "execution_count": 8,
   "metadata": {},
   "outputs": [],
   "source": [
    "# tau_isserlis (forumula from cumulant formula) calculated above should be equivalent to tau_kuzmin_orig (formula from Kuzmin et al 2018).\n",
    "# One can substitute (f_jk - f_j*f_k) for e_jk and (f_ik - f_i*f_k) for e_ik into the Kuzmin et al 2018 formula to get the cumulant formula\n",
    "# However, the results using these two equivalent formula aren't the same because  f_jk != (f_j*f_k + e_jk) and  f_ik != (f_i*f_k + e_ik)\n",
    "\n",
    "# subsituting in (f_j*f_k + e_jk) for f_jk and (f_i*f_k + e_ik) for f_ik\n",
    "# This gives trigenic interaction scores that are similar to reported values, see sanityChecks notebook\n",
    "# newly recalculated double mutant fitnesses, and corresponding interactions, are suffixed with 2\n",
    "\n",
    "df.loc[:, 'f_ik_2'] = df.f_i*df.f_k + df.e_ik_kuz\n",
    "df.loc[:, 'f_jk_2'] = df.f_j*df.f_k + df.e_jk_kuz\n",
    "\n",
    "df.loc[df['f_ik_2'] < 0, ['f_ik_2']] = np.nan\n",
    "df.loc[df['f_jk_2'] < 0, ['f_jk_2']] = np.nan\n",
    "\n",
    "df.loc[:,'e_ik_mult2'] = df.f_ik_2/(df.f_i*df.f_k)\n",
    "df.loc[:,'e_jk_mult2'] = df.f_jk_2/(df.f_j*df.f_k)\n",
    "\n",
    "df.loc[:, 'tau_isserlis2'] = df.double_triple_mutant_fitness + 2*df.f_i*df.f_j*df.f_k - df.f_i*df.f_jk_2 - df.f_j*df.f_ik_2 - df.f_k*df.f_ij\n",
    "\n",
    "# calculate multiplicative results using the custom dbl mutant fitnesses that gave results consistent with those reported (above)\n",
    "# compare these with tau_isserlis2\n",
    "#df.loc[:,'tau_multiplicative2'] = df.double_triple_mutant_fitness/(df.f_ij*df.f_k*df.e_ik_mult2*df.e_jk_mult2) \n",
    "df.loc[:,'tau_multiplicative2'] = (df.double_triple_mutant_fitness*df.f_i*df.f_j*df.f_k)/(df.f_ij*df.f_ik_2*df.f_jk_2) \n"
   ]
  },
  {
   "cell_type": "code",
   "execution_count": 9,
   "metadata": {},
   "outputs": [
    {
     "data": {
      "text/html": [
       "<div>\n",
       "<style scoped>\n",
       "    .dataframe tbody tr th:only-of-type {\n",
       "        vertical-align: middle;\n",
       "    }\n",
       "\n",
       "    .dataframe tbody tr th {\n",
       "        vertical-align: top;\n",
       "    }\n",
       "\n",
       "    .dataframe thead th {\n",
       "        text-align: right;\n",
       "    }\n",
       "</style>\n",
       "<table border=\"1\" class=\"dataframe\">\n",
       "  <thead>\n",
       "    <tr style=\"text-align: right;\">\n",
       "      <th></th>\n",
       "      <th>tau_isserlis2</th>\n",
       "      <th>adjusted_interaction_score_epsilon_or_tau</th>\n",
       "    </tr>\n",
       "  </thead>\n",
       "  <tbody>\n",
       "    <tr>\n",
       "      <th>tau_isserlis2</th>\n",
       "      <td>1.000000</td>\n",
       "      <td>0.997449</td>\n",
       "    </tr>\n",
       "    <tr>\n",
       "      <th>adjusted_interaction_score_epsilon_or_tau</th>\n",
       "      <td>0.997449</td>\n",
       "      <td>1.000000</td>\n",
       "    </tr>\n",
       "  </tbody>\n",
       "</table>\n",
       "</div>"
      ],
      "text/plain": [
       "                                           tau_isserlis2  \\\n",
       "tau_isserlis2                                   1.000000   \n",
       "adjusted_interaction_score_epsilon_or_tau       0.997449   \n",
       "\n",
       "                                           adjusted_interaction_score_epsilon_or_tau  \n",
       "tau_isserlis2                                                               0.997449  \n",
       "adjusted_interaction_score_epsilon_or_tau                                   1.000000  "
      ]
     },
     "execution_count": 9,
     "metadata": {},
     "output_type": "execute_result"
    },
    {
     "data": {
      "image/png": "[encoded data removed]",
      "text/plain": [
       "<Figure size 1080x360 with 2 Axes>"
      ]
     },
     "metadata": {
      "needs_background": "light"
     },
     "output_type": "display_data"
    }
   ],
   "source": [
    "tau = \"tau_isserlis2\"\n",
    "\n",
    "fig, axs = plt.subplots(ncols=2, figsize=(15,5))\n",
    "\n",
    "p = sns.kdeplot(df['adjusted_interaction_score_epsilon_or_tau'], ax=axs[0], color=\"blue\")\n",
    "p = sns.kdeplot(df[tau], ax=axs[0], color=\"red\")\n",
    "p.set(xlabel='tau (reported blue, computed red)')\n",
    "\n",
    "p = sns.regplot(x=df[tau],\n",
    "            y=df['adjusted_interaction_score_epsilon_or_tau'],\n",
    "            scatter_kws={'alpha':0.01},\n",
    "            line_kws={'color': 'red'},\n",
    "            ax=axs[1])\n",
    "p.set(xlabel='tau_recalculated', ylabel='tau_reported')\n",
    "axs[1].axline([-0.75, -0.75], [1, 1], linestyle=\"--\", color=\"black\")\n",
    "\n",
    "df[[tau, 'adjusted_interaction_score_epsilon_or_tau']].corr(method=\"pearson\")"
   ]
  },
  {
   "cell_type": "code",
   "execution_count": 10,
   "metadata": {},
   "outputs": [],
   "source": [
    "# This logical switch is used to change all downstream analyses\n",
    "\n",
    "use_reported_double_mutant_fitnesses = False\n",
    "compare_to_reported_values = True # if False, compare instead to values recalculated with isserlis formula\n",
    "\n",
    "if use_reported_double_mutant_fitnesses:\n",
    "    multiplicative = \"tau_multiplicative\"\n",
    "    isserlis = \"tau_isserlis\"\n",
    "else:\n",
    "    multiplicative = \"tau_multiplicative2\"\n",
    "    isserlis = \"tau_isserlis2\"\n",
    "\n",
    "if compare_to_reported_values:\n",
    "    compare = \"adjusted_interaction_score_epsilon_or_tau\"\n",
    "else:\n",
    "    compare = isserlis"
   ]
  },
  {
   "cell_type": "code",
   "execution_count": 11,
   "metadata": {},
   "outputs": [
    {
     "name": "stdout",
     "output_type": "stream",
     "text": [
      "quantiles of the significant values they used 0.0505675568891689 0.9305530342669813\n",
      "confirming (should be -0.08): -0.07998675851335334\n",
      "confirming (should be 0.08): 0.07998704170448599\n",
      "\n",
      "corresponding cutoffs for multiplicative model:  0.9051323011432824 1.1071547776828774\n",
      "corresponding cutoffs for isserlis model:  -0.07906997897906282 0.07887639643511797\n"
     ]
    }
   ],
   "source": [
    "# To see how outliers vary across scales, we can calculate a significance threshold for the multiplicative scale by \n",
    "# finding the quantile that corresponds +/- 0.08, the trigenic score Kuzmin et al use to find positive/negative outliers.\n",
    "\n",
    "tau_reported_sig_quant, tau_mult_sig_val, tau_iss_sig_val = {},{},{}\n",
    "\n",
    "# get quantiles\n",
    "tau_reported_sig_quant['neg'] = np.mean( np.array(df.adjusted_interaction_score_epsilon_or_tau) < -0.08)\n",
    "tau_reported_sig_quant['pos'] = 1 - np.mean( np.array(df.adjusted_interaction_score_epsilon_or_tau) > 0.08)\n",
    "\n",
    "# calculate significance thresholds on new scales using quantile\n",
    "tau_mult_sig_val['neg'] = np.nanquantile(df[multiplicative], tau_reported_sig_quant['neg'])\n",
    "tau_mult_sig_val['pos'] = np.nanquantile(df[multiplicative], tau_reported_sig_quant['pos'])\n",
    "\n",
    "tau_iss_sig_val['neg'] = np.nanquantile(df[isserlis], tau_reported_sig_quant['neg'])\n",
    "tau_iss_sig_val['pos'] = np.nanquantile(df[isserlis], tau_reported_sig_quant['pos'])\n",
    "\n",
    "print(\"quantiles of the significant values they used\",  tau_reported_sig_quant['neg'], tau_reported_sig_quant['pos'] )\n",
    "print(\"confirming (should be -0.08):\", np.quantile(df.adjusted_interaction_score_epsilon_or_tau, tau_reported_sig_quant['neg']))\n",
    "print(\"confirming (should be 0.08):\", np.quantile(df.adjusted_interaction_score_epsilon_or_tau, tau_reported_sig_quant['pos']))\n",
    "print()\n",
    "print( \"corresponding cutoffs for multiplicative model: \", tau_mult_sig_val['neg'], tau_mult_sig_val['pos'])\n",
    "print( \"corresponding cutoffs for isserlis model: \", tau_iss_sig_val['neg'], tau_iss_sig_val['pos'])\n",
    "\n"
   ]
  },
  {
   "cell_type": "code",
   "execution_count": 12,
   "metadata": {},
   "outputs": [
    {
     "name": "stderr",
     "output_type": "stream",
     "text": [
      "/Users/bjarnold/miniconda/envs/datascience/lib/python3.8/site-packages/pandas/core/series.py:679: RuntimeWarning: invalid value encountered in log10\n",
      "  result = getattr(ufunc, method)(*inputs, **kwargs)\n"
     ]
    },
    {
     "name": "stdout",
     "output_type": "stream",
     "text": [
      "                                           tau_multiplicative2  \\\n",
      "tau_multiplicative2                                   1.000000   \n",
      "adjusted_interaction_score_epsilon_or_tau             0.983062   \n",
      "\n",
      "                                           adjusted_interaction_score_epsilon_or_tau  \n",
      "tau_multiplicative2                                                         0.983062  \n",
      "adjusted_interaction_score_epsilon_or_tau                                   1.000000  \n",
      "                                           tau_multiplicative2  \\\n",
      "tau_multiplicative2                                   1.000000   \n",
      "adjusted_interaction_score_epsilon_or_tau             0.915095   \n",
      "\n",
      "                                           adjusted_interaction_score_epsilon_or_tau  \n",
      "tau_multiplicative2                                                         0.915095  \n",
      "adjusted_interaction_score_epsilon_or_tau                                   1.000000  \n",
      "                                           tau_multiplicative2  \\\n",
      "tau_multiplicative2                                   1.000000   \n",
      "adjusted_interaction_score_epsilon_or_tau             0.250579   \n",
      "\n",
      "                                           adjusted_interaction_score_epsilon_or_tau  \n",
      "tau_multiplicative2                                                         0.250579  \n",
      "adjusted_interaction_score_epsilon_or_tau                                   1.000000  \n"
     ]
    },
    {
     "data": {
      "image/png": "[encoded data removed]",
      "text/plain": [
       "<Figure size 1080x360 with 2 Axes>"
      ]
     },
     "metadata": {
      "needs_background": "light"
     },
     "output_type": "display_data"
    }
   ],
   "source": [
    "# How do multiplicative values compare to \n",
    "\n",
    "fig, axs = plt.subplots(ncols=2, figsize=(15,5))\n",
    "\n",
    "bw_param =10\n",
    "p = sns.kdeplot(df[multiplicative], ax = axs[0], color=\"red\", log_scale=True)\n",
    "# add one so distributions are more comparable\n",
    "p = sns.kdeplot(df[compare]+1, ax = axs[0], color=\"blue\")\n",
    "axs[0].set_xlim(0.5,2)\n",
    "\n",
    "p = sns.scatterplot(x=df[compare],\n",
    "            y=df[multiplicative],\n",
    "            alpha=0.2,\n",
    "            linewidth=0,\n",
    "            ax=axs[1])\n",
    "p.set(xlabel=compare, ylabel='tau_multiplicative')\n",
    "axs[1].set_xlim(-1,1)\n",
    "axs[1].set_yscale('log')\n",
    "axs[1].set_ylim(0.02,8)\n",
    "axs[1].axhline(tau_mult_sig_val['neg'], color=\"red\", linestyle=\"--\", linewidth=0.5)\n",
    "axs[1].axhline(tau_mult_sig_val['pos'], color=\"red\", linestyle=\"--\", linewidth=0.5)\n",
    "axs[1].axvline(-0.08, color=\"red\", linestyle=\"--\", linewidth=0.5)\n",
    "axs[1].axvline(0.08, color=\"red\", linestyle=\"--\", linewidth=0.5)\n",
    "\n",
    "print(df[[multiplicative, compare]].corr(method=\"spearman\"))\n",
    "print(df[[multiplicative, compare]].corr(method=\"kendall\"))\n",
    "print(df[[multiplicative, compare]].corr(method=\"pearson\"))\n"
   ]
  },
  {
   "cell_type": "code",
   "execution_count": 13,
   "metadata": {},
   "outputs": [
    {
     "data": {
      "text/html": [
       "<div>\n",
       "<style scoped>\n",
       "    .dataframe tbody tr th:only-of-type {\n",
       "        vertical-align: middle;\n",
       "    }\n",
       "\n",
       "    .dataframe tbody tr th {\n",
       "        vertical-align: top;\n",
       "    }\n",
       "\n",
       "    .dataframe thead th {\n",
       "        text-align: right;\n",
       "    }\n",
       "</style>\n",
       "<table border=\"1\" class=\"dataframe\">\n",
       "  <thead>\n",
       "    <tr style=\"text-align: right;\">\n",
       "      <th></th>\n",
       "      <th>type</th>\n",
       "      <th>number</th>\n",
       "      <th>frac</th>\n",
       "    </tr>\n",
       "  </thead>\n",
       "  <tbody>\n",
       "    <tr>\n",
       "      <th>0</th>\n",
       "      <td>overlap_negative</td>\n",
       "      <td>1527</td>\n",
       "      <td>0.729226</td>\n",
       "    </tr>\n",
       "    <tr>\n",
       "      <th>1</th>\n",
       "      <td>only reported negative</td>\n",
       "      <td>91</td>\n",
       "      <td>0.043457</td>\n",
       "    </tr>\n",
       "    <tr>\n",
       "      <th>2</th>\n",
       "      <td>only mult negative</td>\n",
       "      <td>476</td>\n",
       "      <td>0.227316</td>\n",
       "    </tr>\n",
       "    <tr>\n",
       "      <th>3</th>\n",
       "      <td>overlap_positive</td>\n",
       "      <td>1197</td>\n",
       "      <td>0.756637</td>\n",
       "    </tr>\n",
       "    <tr>\n",
       "      <th>4</th>\n",
       "      <td>only reported positive</td>\n",
       "      <td>126</td>\n",
       "      <td>0.079646</td>\n",
       "    </tr>\n",
       "    <tr>\n",
       "      <th>5</th>\n",
       "      <td>only mult positive</td>\n",
       "      <td>259</td>\n",
       "      <td>0.163717</td>\n",
       "    </tr>\n",
       "  </tbody>\n",
       "</table>\n",
       "</div>"
      ],
      "text/plain": [
       "                     type  number      frac\n",
       "0        overlap_negative    1527  0.729226\n",
       "1  only reported negative      91  0.043457\n",
       "2      only mult negative     476  0.227316\n",
       "3        overlap_positive    1197  0.756637\n",
       "4  only reported positive     126  0.079646\n",
       "5      only mult positive     259  0.163717"
      ]
     },
     "execution_count": 13,
     "metadata": {},
     "output_type": "execute_result"
    }
   ],
   "source": [
    "def count_frac(df):\n",
    "    return len(df)\n",
    "    \n",
    "results = defaultdict(list)\n",
    "p = 0.05\n",
    "\n",
    "overlap, only_reported, only_mult, all_reported, all_mult = enrich.outlier_enrichment( df[df.pval < p], \"negative\", count_frac, multiplicative, tau_mult_sig_val)\n",
    "denom = overlap + only_reported + only_mult\n",
    "\n",
    "results['type'].extend(['overlap_negative', 'only reported negative', 'only mult negative'])\n",
    "results['number'].extend([overlap, only_reported, only_mult])\n",
    "results['frac'].extend([overlap/denom, only_reported/denom, only_mult/denom])\n",
    "\n",
    "overlap, only_reported, only_mult, all_reported, all_mult = enrich.outlier_enrichment( df[df.pval < p], \"positive\", count_frac, multiplicative, tau_mult_sig_val)\n",
    "denom = overlap + only_reported + only_mult\n",
    "\n",
    "results['type'].extend(['overlap_positive', 'only reported positive', 'only mult positive'])\n",
    "results['number'].extend([overlap, only_reported, only_mult])\n",
    "results['frac'].extend([overlap/denom, only_reported/denom, only_mult/denom])\n",
    "\n",
    "pd.DataFrame.from_dict(results)\n"
   ]
  },
  {
   "cell_type": "code",
   "execution_count": 14,
   "metadata": {},
   "outputs": [
    {
     "name": "stderr",
     "output_type": "stream",
     "text": [
      "/Users/bjarnold/miniconda/envs/datascience/lib/python3.8/site-packages/IPython/core/interactiveshell.py:3337: DtypeWarning: Columns (1,2,18) have mixed types.Specify dtype option on import or set low_memory=False.\n",
      "  if (await self.run_code(code, result,  async_=asy)):\n"
     ]
    },
    {
     "data": {
      "text/html": [
       "<div>\n",
       "<style scoped>\n",
       "    .dataframe tbody tr th:only-of-type {\n",
       "        vertical-align: middle;\n",
       "    }\n",
       "\n",
       "    .dataframe tbody tr th {\n",
       "        vertical-align: top;\n",
       "    }\n",
       "\n",
       "    .dataframe thead th {\n",
       "        text-align: right;\n",
       "    }\n",
       "</style>\n",
       "<table border=\"1\" class=\"dataframe\">\n",
       "  <thead>\n",
       "    <tr style=\"text-align: right;\">\n",
       "      <th></th>\n",
       "      <th>official_symbol_interactor_a</th>\n",
       "      <th>official_symbol_interactor_b</th>\n",
       "      <th>experimental_system_type</th>\n",
       "      <th>experimental_system</th>\n",
       "    </tr>\n",
       "  </thead>\n",
       "  <tbody>\n",
       "    <tr>\n",
       "      <th>0</th>\n",
       "      <td>CDC73</td>\n",
       "      <td>CTR9</td>\n",
       "      <td>physical</td>\n",
       "      <td>Affinity Capture-MS</td>\n",
       "    </tr>\n",
       "    <tr>\n",
       "      <th>1</th>\n",
       "      <td>CTR9</td>\n",
       "      <td>CDC73</td>\n",
       "      <td>physical</td>\n",
       "      <td>Affinity Capture-MS</td>\n",
       "    </tr>\n",
       "    <tr>\n",
       "      <th>2</th>\n",
       "      <td>CDC73</td>\n",
       "      <td>LEO1</td>\n",
       "      <td>physical</td>\n",
       "      <td>Affinity Capture-MS</td>\n",
       "    </tr>\n",
       "    <tr>\n",
       "      <th>3</th>\n",
       "      <td>LEO1</td>\n",
       "      <td>CDC73</td>\n",
       "      <td>physical</td>\n",
       "      <td>Affinity Capture-MS</td>\n",
       "    </tr>\n",
       "    <tr>\n",
       "      <th>4</th>\n",
       "      <td>CDC73</td>\n",
       "      <td>PAF1</td>\n",
       "      <td>physical</td>\n",
       "      <td>Affinity Capture-MS</td>\n",
       "    </tr>\n",
       "    <tr>\n",
       "      <th>...</th>\n",
       "      <td>...</td>\n",
       "      <td>...</td>\n",
       "      <td>...</td>\n",
       "      <td>...</td>\n",
       "    </tr>\n",
       "    <tr>\n",
       "      <th>789125</th>\n",
       "      <td>MDN1</td>\n",
       "      <td>RSA4</td>\n",
       "      <td>physical</td>\n",
       "      <td>Reconstituted Complex</td>\n",
       "    </tr>\n",
       "    <tr>\n",
       "      <th>789126</th>\n",
       "      <td>MDN1</td>\n",
       "      <td>YTM1</td>\n",
       "      <td>physical</td>\n",
       "      <td>Reconstituted Complex</td>\n",
       "    </tr>\n",
       "    <tr>\n",
       "      <th>789132</th>\n",
       "      <td>CDC5</td>\n",
       "      <td>IME2</td>\n",
       "      <td>physical</td>\n",
       "      <td>Affinity Capture-Western</td>\n",
       "    </tr>\n",
       "    <tr>\n",
       "      <th>789133</th>\n",
       "      <td>ATG9</td>\n",
       "      <td>ATG11</td>\n",
       "      <td>physical</td>\n",
       "      <td>Reconstituted Complex</td>\n",
       "    </tr>\n",
       "    <tr>\n",
       "      <th>789134</th>\n",
       "      <td>ATG9</td>\n",
       "      <td>ATG11</td>\n",
       "      <td>physical</td>\n",
       "      <td>Affinity Capture-Western</td>\n",
       "    </tr>\n",
       "  </tbody>\n",
       "</table>\n",
       "<p>160347 rows × 4 columns</p>\n",
       "</div>"
      ],
      "text/plain": [
       "       official_symbol_interactor_a official_symbol_interactor_b  \\\n",
       "0                             CDC73                         CTR9   \n",
       "1                              CTR9                        CDC73   \n",
       "2                             CDC73                         LEO1   \n",
       "3                              LEO1                        CDC73   \n",
       "4                             CDC73                         PAF1   \n",
       "...                             ...                          ...   \n",
       "789125                         MDN1                         RSA4   \n",
       "789126                         MDN1                         YTM1   \n",
       "789132                         CDC5                         IME2   \n",
       "789133                         ATG9                        ATG11   \n",
       "789134                         ATG9                        ATG11   \n",
       "\n",
       "       experimental_system_type       experimental_system  \n",
       "0                      physical       Affinity Capture-MS  \n",
       "1                      physical       Affinity Capture-MS  \n",
       "2                      physical       Affinity Capture-MS  \n",
       "3                      physical       Affinity Capture-MS  \n",
       "4                      physical       Affinity Capture-MS  \n",
       "...                         ...                       ...  \n",
       "789125                 physical     Reconstituted Complex  \n",
       "789126                 physical     Reconstituted Complex  \n",
       "789132                 physical  Affinity Capture-Western  \n",
       "789133                 physical     Reconstituted Complex  \n",
       "789134                 physical  Affinity Capture-Western  \n",
       "\n",
       "[160347 rows x 4 columns]"
      ]
     },
     "execution_count": 14,
     "metadata": {},
     "output_type": "execute_result"
    }
   ],
   "source": [
    "# See if outliers are enriched for other biological signals. Here we load in pairwise physical interactions from one of two databases.\n",
    "# 'physical_pairwise_interactions_set' contains a set of sorted 2-tuples of genes particupating in pairwise protein interactions\n",
    "\n",
    "#physical_pairwise_interactions_set = db.get_physical_interactions_yeastGenomeDotOrg()\n",
    "\n",
    "# BIOGRID contains physical interactions measured from a variety of assays including co-localization\n",
    "# see here for explanation of experimental evidence codes: https://wiki.thebiogrid.org/doku.php/experimental_systems\n",
    "db_interactions = db.get_physical_interactions_BIOGRID()\n",
    "experimental_systems = ['Affinity Capture-MS', 'Affinity Capture-Western', 'Two-hybrid', 'Reconstituted Complex', 'PCA', 'Co-purification', 'Co-crystal Structure']\n",
    "#experimental_systems = ['Affinity Capture-RNA']\n",
    "#experimental_systems = ['Biochemical Activity']\n",
    "#experimental_systems = ['Co-localization']\n",
    "#print(db_interactions.experimental_system.value_counts())\n",
    "\n",
    "db_interactions = db_interactions[db_interactions.experimental_system.isin(experimental_systems)]\n",
    "#db_interactions = db_interactions[db_interactions.experimental_system_type == \"physical\"]\n",
    "#db_interactions"
   ]
  },
  {
   "cell_type": "code",
   "execution_count": 15,
   "metadata": {},
   "outputs": [],
   "source": [
    "\n",
    "#physical_pairwise_interactions_set = db.find_unique_interactions(db_interactions, 'official_symbol_interactor_a', 'official_symbol_interactor_b')\n",
    "#num_physical_interactions, twoplus_physical_interactions, three_physical_interactions = db.count_interactions_in_set(df, physical_pairwise_interactions_set)\n",
    "#df['num_physical_interactions'] = df['alleles'].map(num_physical_interactions)\n",
    "#df['twoplus_physical_interactions'] = df['alleles'].map(twoplus_physical_interactions)\n",
    "#df['three_physical_interactions'] = df['alleles'].map(three_physical_interactions)\n",
    "\n",
    "#print()\n",
    "#print(df['num_physical_interactions'].value_counts())\n",
    "\n",
    "physical_pairwise_interactions_dict = db.collect_interactions_in_dict(db_interactions, 'official_symbol_interactor_a', 'official_symbol_interactor_b')\n",
    "three_shared_physical_interactions = db.count_shared_interactions_in_dict(df, physical_pairwise_interactions_dict, 1)\n",
    "df['three_shared_physical_interactions'] = df['alleles'].map(three_shared_physical_interactions)\n",
    "\n",
    "\n"
   ]
  },
  {
   "cell_type": "code",
   "execution_count": 16,
   "metadata": {},
   "outputs": [
    {
     "name": "stdout",
     "output_type": "stream",
     "text": [
      "6432\n",
      "206363\n",
      "187294\n",
      "22736\n",
      "22736\n"
     ]
    }
   ],
   "source": [
    "print(len(physical_pairwise_interactions_dict.keys()))\n",
    "print(np.sum([len(i) for i in physical_pairwise_interactions_dict.values()]))\n",
    "\n",
    "print(len(three_shared_physical_interactions.keys()))\n",
    "print(np.sum([i for i in three_shared_physical_interactions.values()]))\n",
    "\n",
    "print(np.sum(df['three_shared_physical_interactions']))\n",
    "#physical_pairwise_interactions_dict\n",
    "#three_shared_physical_interactions"
   ]
  },
  {
   "cell_type": "code",
   "execution_count": 17,
   "metadata": {},
   "outputs": [],
   "source": [
    "def mk_barplot_single(genome_wide, overlap, only_reported, only_mult, all_reported, all_mult):\n",
    "    bars = ('overlap', 'only_reported', 'only_mult', 'all_reported', 'all_mult')\n",
    "    x_pos = np.arange(len(bars))\n",
    "    height = [overlap/genome_wide, only_reported/genome_wide, only_mult/genome_wide, all_reported/genome_wide, all_mult/genome_wide]\n",
    "    plt.bar(x_pos, height)\n",
    "    bars = ('overlap', 'only reported', 'only mult', 'all reported', 'all mult')\n",
    "    x_pos = np.arange(len(bars))\n",
    "    plt.xticks(x_pos, bars)\n",
    "    plt.ylabel(\"fold enrichment\")\n",
    "    plt.xlabel(\"category\")\n",
    "\n",
    "def mk_barplot(genome_wide, overlap, only_reported, only_mult, all_reported, all_mult, i):\n",
    "    bars = ('overlap', 'only_reported', 'only_mult', 'all_reported', 'all_mult')\n",
    "    x_pos = np.arange(len(bars))\n",
    "    height = [overlap/genome_wide, only_reported/genome_wide, only_mult/genome_wide, all_reported/genome_wide, all_mult/genome_wide]\n",
    "    axs[i].bar(x_pos, height)\n",
    "    axs[i].xaxis.set_ticks([])\n",
    "\n",
    "def mk_barplot_both_tails(genome_wide, all_reported, all_mult):\n",
    "    bars = ('genome_wide', 'all_reported', 'all_mult')\n",
    "    x_pos = np.arange(len(bars))\n",
    "    height = [genome_wide, all_reported, all_mult]\n",
    "    plt.bar(x_pos, height)\n",
    "    #plt.xaxis.set_ticks([])\n",
    "   \n",
    "\n"
   ]
  },
  {
   "cell_type": "code",
   "execution_count": 18,
   "metadata": {},
   "outputs": [
    {
     "data": {
      "text/plain": [
       "([<matplotlib.axis.XTick at 0x7fcde1676640>,\n",
       "  <matplotlib.axis.XTick at 0x7fcde1676610>,\n",
       "  <matplotlib.axis.XTick at 0x7fcdc33088b0>,\n",
       "  <matplotlib.axis.XTick at 0x7fcdc1b41ca0>,\n",
       "  <matplotlib.axis.XTick at 0x7fcdc1b4a1f0>],\n",
       " [Text(0, 0, 'overlap'),\n",
       "  Text(1, 0, 'only reported'),\n",
       "  Text(2, 0, 'only mult'),\n",
       "  Text(3, 0, 'all reported'),\n",
       "  Text(4, 0, 'all mult')])"
      ]
     },
     "execution_count": 18,
     "metadata": {},
     "output_type": "execute_result"
    },
    {
     "data": {
      "image/png": "[encoded data removed]",
      "text/plain": [
       "<Figure size 720x1080 with 2 Axes>"
      ]
     },
     "metadata": {
      "needs_background": "light"
     },
     "output_type": "display_data"
    }
   ],
   "source": [
    "# functions to use to explore pbhysical interactions: fraction_physical_twoplus, fraction_physical_three\n",
    "fig, axs = plt.subplots(nrows=2, figsize=(10,15))\n",
    "sns.set(font_scale = 1)\n",
    "\n",
    "func = enrich.fraction_three_shared\n",
    "p = 0.05\n",
    "\n",
    "genome_wide = func(df)\n",
    "\n",
    "overlap, only_reported, only_mult, all_reported, all_mult = enrich.outlier_enrichment(df[df.pval < p], \"negative\", func, multiplicative, tau_mult_sig_val)\n",
    "mk_barplot(genome_wide['frac'], overlap['frac'], only_reported['frac'], only_mult['frac'], all_reported['frac'], all_mult['frac'], 0)\n",
    "\n",
    "overlap, only_reported, only_mult, all_reported, all_mult = enrich.outlier_enrichment(df[df.pval < p], \"positive\", func, multiplicative, tau_mult_sig_val)\n",
    "mk_barplot(genome_wide['frac'], overlap['frac'], only_reported['frac'], only_mult['frac'], all_reported['frac'], all_mult['frac'], 1)\n",
    "\n",
    "bars = ('overlap', 'only reported', 'only mult', 'all reported', 'all mult')\n",
    "x_pos = np.arange(len(bars))\n",
    "plt.xticks(x_pos, bars)\n"
   ]
  },
  {
   "cell_type": "code",
   "execution_count": 20,
   "metadata": {},
   "outputs": [
    {
     "name": "stdout",
     "output_type": "stream",
     "text": [
      "            type          pval\n",
      "0        overlap  0.000000e+00\n",
      "1  only_reported  4.265093e-01\n",
      "2      only_mult  0.000000e+00\n",
      "3   all_reported  1.983642e-10\n",
      "4       all_mult  0.000000e+00\n"
     ]
    }
   ],
   "source": [
    "print(enrich.perform_hypergeom_test(df, \"negative\", enrich.fraction_three_shared, multiplicative, tau_mult_sig_val))"
   ]
  },
  {
   "cell_type": "code",
   "execution_count": 22,
   "metadata": {},
   "outputs": [
    {
     "name": "stdout",
     "output_type": "stream",
     "text": [
      "            type          pval\n",
      "0        overlap  4.438394e-11\n",
      "1  only_reported  3.921510e-02\n",
      "2      only_mult  1.067569e-05\n",
      "3   all_reported  2.863514e-10\n",
      "4       all_mult  0.000000e+00\n"
     ]
    }
   ],
   "source": [
    "print(enrich.perform_hypergeom_test(df, \"negative\", enrich.alleles_2_go_enrichment, multiplicative, tau_mult_sig_val))"
   ]
  },
  {
   "cell_type": "code",
   "execution_count": 23,
   "metadata": {},
   "outputs": [
    {
     "name": "stdout",
     "output_type": "stream",
     "text": [
      "            type      pval\n",
      "0        overlap  0.019300\n",
      "1  only_reported  0.000008\n",
      "2      only_mult  0.004787\n",
      "3   all_reported  0.000657\n",
      "4       all_mult  0.001603\n"
     ]
    }
   ],
   "source": [
    "print(enrich.perform_hypergeom_test(df, \"positive\", enrich.alleles_2_go_enrichment, multiplicative, tau_mult_sig_val))"
   ]
  },
  {
   "cell_type": "code",
   "execution_count": 24,
   "metadata": {},
   "outputs": [
    {
     "name": "stdout",
     "output_type": "stream",
     "text": [
      "0    154370\n",
      "1     32642\n",
      "2       179\n",
      "3       103\n",
      "Name: num_coex_interactions, dtype: int64\n"
     ]
    }
   ],
   "source": [
    "# arg that goes into get_coexpression_gene_pairs is the z-score associated with how significant the correlation b/t expression is\n",
    "coexpression_gene_pairs_set = db.get_coexpression_gene_pairs(4)\n",
    "\n",
    "num_coex_interactions, twoplus_coex_interactions, three_coex_interactions = db.count_interactions_in_set(df, coexpression_gene_pairs_set)\n",
    "\n",
    "df['num_coex_interactions'] = df['alleles'].map(num_coex_interactions)\n",
    "df['twoplus_coex_interactions'] = df['alleles'].map(twoplus_coex_interactions)\n",
    "df['three_coex_interactions'] = df['alleles'].map(three_coex_interactions)\n",
    "\n",
    "print(df['num_coex_interactions'].value_counts())\n",
    "\n"
   ]
  },
  {
   "cell_type": "code",
   "execution_count": 25,
   "metadata": {},
   "outputs": [
    {
     "data": {
      "text/plain": [
       "([<matplotlib.axis.XTick at 0x7fcdc31589d0>,\n",
       "  <matplotlib.axis.XTick at 0x7fcdc3158ca0>,\n",
       "  <matplotlib.axis.XTick at 0x7fcdc1b603d0>,\n",
       "  <matplotlib.axis.XTick at 0x7fcdc333f790>,\n",
       "  <matplotlib.axis.XTick at 0x7fcdc333fd30>,\n",
       "  <matplotlib.axis.XTick at 0x7fcdc27c8970>],\n",
       " [Text(0, 0, 'genome_wide'),\n",
       "  Text(1, 0, 'overlap'),\n",
       "  Text(2, 0, 'only_reported'),\n",
       "  Text(3, 0, 'only_mult'),\n",
       "  Text(4, 0, 'all_reported'),\n",
       "  Text(5, 0, 'all_mult')])"
      ]
     },
     "execution_count": 25,
     "metadata": {},
     "output_type": "execute_result"
    },
    {
     "data": {
      "image/png": "[encoded data removed]",
      "text/plain": [
       "<Figure size 720x1080 with 2 Axes>"
      ]
     },
     "metadata": {},
     "output_type": "display_data"
    }
   ],
   "source": [
    "# functions to use to explore pbhysical interactions: fraction_physical_twoplus, fraction_physical_three\n",
    "fig, axs = plt.subplots(nrows=2, figsize=(10,15))\n",
    "\n",
    "func = enrich.fraction_coex_three\n",
    "p = 0.05\n",
    "\n",
    "genome_wide = func(df)\n",
    "\n",
    "overlap, only_reported, only_mult, all_reported, all_mult = enrich.outlier_enrichment(df[df.pval < p], \"negative\", func, multiplicative, tau_mult_sig_val)\n",
    "mk_barplot(genome_wide['frac'], overlap['frac'], only_reported['frac'], only_mult['frac'], all_reported['frac'], all_mult['frac'], 0)\n",
    "\n",
    "overlap, only_reported, only_mult, all_reported, all_mult = enrich.outlier_enrichment(df[df.pval < p], \"positive\", func, multiplicative, tau_mult_sig_val)\n",
    "mk_barplot(genome_wide['frac'], overlap['frac'], only_reported['frac'], only_mult['frac'], all_reported['frac'], all_mult['frac'], 1)\n",
    "\n",
    "bars = ('genome_wide', 'overlap', 'only_reported', 'only_mult', 'all_reported', 'all_mult')\n",
    "x_pos = np.arange(len(bars))\n",
    "plt.xticks(x_pos, bars)\n"
   ]
  },
  {
   "cell_type": "code",
   "execution_count": 26,
   "metadata": {},
   "outputs": [],
   "source": [
    "p = 0.05\n",
    "data = []\n",
    "for func in [enrich.fraction_coex_three, enrich.fraction_three_shared, enrich.alleles_2_go_enrichment]:\n",
    "    genome_wide = func(df)\n",
    "    overlap, only_reported, only_mult, all_reported, all_mult = enrich.outlier_enrichment(df[df.pval < p], \"negative\", func, multiplicative, tau_mult_sig_val)\n",
    "\n",
    "    d = [overlap['frac']/genome_wide['frac'], only_reported['frac']/genome_wide['frac'], only_mult['frac']/genome_wide['frac'], all_reported['frac']/genome_wide['frac'], all_mult['frac']/genome_wide['frac']]\n",
    "    data.append( d )\n"
   ]
  },
  {
   "cell_type": "code",
   "execution_count": 27,
   "metadata": {},
   "outputs": [
    {
     "data": {
      "image/png": "[encoded data removed]",
      "text/plain": [
       "<Figure size 720x360 with 1 Axes>"
      ]
     },
     "metadata": {},
     "output_type": "display_data"
    }
   ],
   "source": [
    "fig, axs = plt.subplots(figsize=(10,5))\n",
    "\n",
    "x = np.arange(len(data[0]))\n",
    "width = 0.2\n",
    "\n",
    "plt.bar(x-width, data[0], width, color='#1f78b4')\n",
    "plt.bar(x, data[1], width, color='#b2df8a')\n",
    "plt.bar(x+width, data[2], width, color='#a6cee3')\n",
    "plt.xticks(x, ['overlap', 'only reported', 'only mult', 'all reported', 'all mult'])\n",
    "plt.xlabel(\"Category\")\n",
    "plt.ylabel(\"Fold enrichment\")\n",
    "plt.legend([\"coexpression\", \"physical interaction\", \"GO\"])\n",
    "plt.title(\"Negative interactions\")\n",
    "plt.axhline(1, linestyle=\"--\", color=\"gray\")\n",
    "plt.show()"
   ]
  },
  {
   "cell_type": "code",
   "execution_count": null,
   "metadata": {},
   "outputs": [
    {
     "ename": "NameError",
     "evalue": "name 'tau_mult_pos_sig_val' is not defined",
     "output_type": "error",
     "traceback": [
      "\u001b[0;31m---------------------------------------------------------------------------\u001b[0m",
      "\u001b[0;31mNameError\u001b[0m                                 Traceback (most recent call last)",
      "\u001b[0;32m<ipython-input-29-00830a76f6a0>\u001b[0m in \u001b[0;36m<module>\u001b[0;34m\u001b[0m\n\u001b[1;32m      1\u001b[0m \u001b[0;31m# look at gene triplets for different multiplicative outliers not reported as significant; inspect as jupyter variables in VS code\u001b[0m\u001b[0;34m\u001b[0m\u001b[0;34m\u001b[0m\u001b[0;34m\u001b[0m\u001b[0m\n\u001b[0;32m----> 2\u001b[0;31m \u001b[0mx1\u001b[0m \u001b[0;34m=\u001b[0m \u001b[0msorted\u001b[0m\u001b[0;34m(\u001b[0m\u001b[0mdf\u001b[0m\u001b[0;34m[\u001b[0m\u001b[0mdf\u001b[0m\u001b[0;34m.\u001b[0m\u001b[0mpval\u001b[0m \u001b[0;34m<\u001b[0m \u001b[0;36m0.05\u001b[0m\u001b[0;34m]\u001b[0m\u001b[0;34m.\u001b[0m\u001b[0malleles\u001b[0m\u001b[0;34m[\u001b[0m\u001b[0;34m(\u001b[0m\u001b[0mdf\u001b[0m\u001b[0;34m[\u001b[0m\u001b[0mdf\u001b[0m\u001b[0;34m.\u001b[0m\u001b[0mpval\u001b[0m \u001b[0;34m<\u001b[0m \u001b[0;36m0.05\u001b[0m\u001b[0;34m]\u001b[0m\u001b[0;34m.\u001b[0m\u001b[0madjusted_interaction_score_epsilon_or_tau\u001b[0m \u001b[0;34m<\u001b[0m \u001b[0;36m0.08\u001b[0m\u001b[0;34m)\u001b[0m \u001b[0;34m&\u001b[0m \u001b[0;34m(\u001b[0m\u001b[0mdf\u001b[0m\u001b[0;34m[\u001b[0m\u001b[0mdf\u001b[0m\u001b[0;34m.\u001b[0m\u001b[0mpval\u001b[0m \u001b[0;34m<\u001b[0m \u001b[0;36m0.05\u001b[0m\u001b[0;34m]\u001b[0m\u001b[0;34m[\u001b[0m\u001b[0mmultiplicative\u001b[0m\u001b[0;34m]\u001b[0m \u001b[0;34m>\u001b[0m \u001b[0mtau_mult_pos_sig_val\u001b[0m\u001b[0;34m)\u001b[0m\u001b[0;34m]\u001b[0m\u001b[0;34m)\u001b[0m\u001b[0;34m\u001b[0m\u001b[0;34m\u001b[0m\u001b[0m\n\u001b[0m\u001b[1;32m      3\u001b[0m \u001b[0mx2\u001b[0m \u001b[0;34m=\u001b[0m \u001b[0msorted\u001b[0m\u001b[0;34m(\u001b[0m\u001b[0mdf\u001b[0m\u001b[0;34m[\u001b[0m\u001b[0mdf\u001b[0m\u001b[0;34m.\u001b[0m\u001b[0mpval\u001b[0m \u001b[0;34m<\u001b[0m \u001b[0;36m0.05\u001b[0m\u001b[0;34m]\u001b[0m\u001b[0;34m.\u001b[0m\u001b[0malleles\u001b[0m\u001b[0;34m[\u001b[0m\u001b[0;34m(\u001b[0m\u001b[0mdf\u001b[0m\u001b[0;34m[\u001b[0m\u001b[0mdf\u001b[0m\u001b[0;34m.\u001b[0m\u001b[0mpval\u001b[0m \u001b[0;34m<\u001b[0m \u001b[0;36m0.05\u001b[0m\u001b[0;34m]\u001b[0m\u001b[0;34m.\u001b[0m\u001b[0madjusted_interaction_score_epsilon_or_tau\u001b[0m \u001b[0;34m>\u001b[0m \u001b[0;34m-\u001b[0m\u001b[0;36m0.08\u001b[0m\u001b[0;34m)\u001b[0m \u001b[0;34m&\u001b[0m \u001b[0;34m(\u001b[0m\u001b[0mdf\u001b[0m\u001b[0;34m[\u001b[0m\u001b[0mdf\u001b[0m\u001b[0;34m.\u001b[0m\u001b[0mpval\u001b[0m \u001b[0;34m<\u001b[0m \u001b[0;36m0.05\u001b[0m\u001b[0;34m]\u001b[0m\u001b[0;34m[\u001b[0m\u001b[0mmultiplicative\u001b[0m\u001b[0;34m]\u001b[0m \u001b[0;34m<\u001b[0m \u001b[0mtau_mult_neg_sig_val\u001b[0m\u001b[0;34m)\u001b[0m\u001b[0;34m]\u001b[0m\u001b[0;34m)\u001b[0m\u001b[0;34m\u001b[0m\u001b[0;34m\u001b[0m\u001b[0m\n\u001b[1;32m      4\u001b[0m \u001b[0mx3\u001b[0m \u001b[0;34m=\u001b[0m \u001b[0msorted\u001b[0m\u001b[0;34m(\u001b[0m\u001b[0mdf\u001b[0m\u001b[0;34m[\u001b[0m\u001b[0mdf\u001b[0m\u001b[0;34m.\u001b[0m\u001b[0mpval\u001b[0m \u001b[0;34m<\u001b[0m \u001b[0;36m0.05\u001b[0m\u001b[0;34m]\u001b[0m\u001b[0;34m.\u001b[0m\u001b[0malleles\u001b[0m\u001b[0;34m[\u001b[0m\u001b[0;34m(\u001b[0m\u001b[0mdf\u001b[0m\u001b[0;34m[\u001b[0m\u001b[0mdf\u001b[0m\u001b[0;34m.\u001b[0m\u001b[0mpval\u001b[0m \u001b[0;34m<\u001b[0m \u001b[0;36m0.05\u001b[0m\u001b[0;34m]\u001b[0m\u001b[0;34m.\u001b[0m\u001b[0madjusted_interaction_score_epsilon_or_tau\u001b[0m \u001b[0;34m<\u001b[0m \u001b[0;34m-\u001b[0m\u001b[0;36m0.08\u001b[0m\u001b[0;34m)\u001b[0m \u001b[0;34m&\u001b[0m \u001b[0;34m(\u001b[0m\u001b[0mdf\u001b[0m\u001b[0;34m[\u001b[0m\u001b[0mdf\u001b[0m\u001b[0;34m.\u001b[0m\u001b[0mpval\u001b[0m \u001b[0;34m<\u001b[0m \u001b[0;36m0.05\u001b[0m\u001b[0;34m]\u001b[0m\u001b[0;34m[\u001b[0m\u001b[0mmultiplicative\u001b[0m\u001b[0;34m]\u001b[0m \u001b[0;34m>\u001b[0m \u001b[0mtau_mult_neg_sig_val\u001b[0m\u001b[0;34m)\u001b[0m\u001b[0;34m]\u001b[0m\u001b[0;34m)\u001b[0m\u001b[0;34m\u001b[0m\u001b[0;34m\u001b[0m\u001b[0m\n",
      "\u001b[0;31mNameError\u001b[0m: name 'tau_mult_pos_sig_val' is not defined"
     ]
    }
   ],
   "source": [
    "# look at gene triplets for different multiplicative outliers not reported as significant; inspect as jupyter variables in VS code\n",
    "x1 = sorted(df[df.pval < 0.05].alleles[(df[df.pval < 0.05].adjusted_interaction_score_epsilon_or_tau < 0.08) & (df[df.pval < 0.05][multiplicative] > tau_mult_pos_sig_val)])\n",
    "x2 = sorted(df[df.pval < 0.05].alleles[(df[df.pval < 0.05].adjusted_interaction_score_epsilon_or_tau > -0.08) & (df[df.pval < 0.05][multiplicative] < tau_mult_neg_sig_val)])\n",
    "x3 = sorted(df[df.pval < 0.05].alleles[(df[df.pval < 0.05].adjusted_interaction_score_epsilon_or_tau < -0.08) & (df[df.pval < 0.05][multiplicative] > tau_mult_neg_sig_val)])"
   ]
  },
  {
   "cell_type": "code",
   "execution_count": null,
   "metadata": {},
   "outputs": [
    {
     "data": {
      "text/html": [
       "<div>\n",
       "<style scoped>\n",
       "    .dataframe tbody tr th:only-of-type {\n",
       "        vertical-align: middle;\n",
       "    }\n",
       "\n",
       "    .dataframe tbody tr th {\n",
       "        vertical-align: top;\n",
       "    }\n",
       "\n",
       "    .dataframe thead th {\n",
       "        text-align: right;\n",
       "    }\n",
       "</style>\n",
       "<table border=\"1\" class=\"dataframe\">\n",
       "  <thead>\n",
       "    <tr style=\"text-align: right;\">\n",
       "      <th></th>\n",
       "      <th>DM strainID</th>\n",
       "      <th>SM1 strainID</th>\n",
       "      <th>SM2 strainID</th>\n",
       "      <th>ORF1</th>\n",
       "      <th>ORF2</th>\n",
       "      <th>Gene1</th>\n",
       "      <th>Gene2</th>\n",
       "      <th>Ohnolog (A-A) or Homeolog (A-AB)</th>\n",
       "    </tr>\n",
       "  </thead>\n",
       "  <tbody>\n",
       "    <tr>\n",
       "      <th>0</th>\n",
       "      <td>tm143</td>\n",
       "      <td>tm405</td>\n",
       "      <td>tm2305</td>\n",
       "      <td>YBR014C</td>\n",
       "      <td>YDL010W</td>\n",
       "      <td>GRX7</td>\n",
       "      <td>GRX6</td>\n",
       "      <td>A - AB</td>\n",
       "    </tr>\n",
       "    <tr>\n",
       "      <th>1</th>\n",
       "      <td>tm164</td>\n",
       "      <td>tm550</td>\n",
       "      <td>tm2249</td>\n",
       "      <td>YLL012W</td>\n",
       "      <td>YLR020C</td>\n",
       "      <td>YEH1</td>\n",
       "      <td>YEH2</td>\n",
       "      <td>A - AB</td>\n",
       "    </tr>\n",
       "    <tr>\n",
       "      <th>2</th>\n",
       "      <td>tm1509</td>\n",
       "      <td>tm651</td>\n",
       "      <td>tm362</td>\n",
       "      <td>YHR001W</td>\n",
       "      <td>YKR003W</td>\n",
       "      <td>OSH7</td>\n",
       "      <td>OSH6</td>\n",
       "      <td>A - AB</td>\n",
       "    </tr>\n",
       "    <tr>\n",
       "      <th>3</th>\n",
       "      <td>tm3397</td>\n",
       "      <td>tm697</td>\n",
       "      <td>tm2295</td>\n",
       "      <td>YGR243W</td>\n",
       "      <td>YHR162W</td>\n",
       "      <td>MPC3</td>\n",
       "      <td>MPC2</td>\n",
       "      <td>A - AB</td>\n",
       "    </tr>\n",
       "    <tr>\n",
       "      <th>4</th>\n",
       "      <td>tm170</td>\n",
       "      <td>tm468</td>\n",
       "      <td>tm1283</td>\n",
       "      <td>YJR091C</td>\n",
       "      <td>YPR042C</td>\n",
       "      <td>JSN1</td>\n",
       "      <td>PUF2</td>\n",
       "      <td>A - AB</td>\n",
       "    </tr>\n",
       "    <tr>\n",
       "      <th>...</th>\n",
       "      <td>...</td>\n",
       "      <td>...</td>\n",
       "      <td>...</td>\n",
       "      <td>...</td>\n",
       "      <td>...</td>\n",
       "      <td>...</td>\n",
       "      <td>...</td>\n",
       "      <td>...</td>\n",
       "    </tr>\n",
       "    <tr>\n",
       "      <th>235</th>\n",
       "      <td>tm108</td>\n",
       "      <td>tm596</td>\n",
       "      <td>tm1150</td>\n",
       "      <td>YMR222C</td>\n",
       "      <td>YOR280C</td>\n",
       "      <td>FSH2</td>\n",
       "      <td>FSH3</td>\n",
       "      <td>NaN</td>\n",
       "    </tr>\n",
       "    <tr>\n",
       "      <th>236</th>\n",
       "      <td>tm1554</td>\n",
       "      <td>tm1861</td>\n",
       "      <td>tm1805</td>\n",
       "      <td>YAL051W</td>\n",
       "      <td>YOR363C</td>\n",
       "      <td>OAF1</td>\n",
       "      <td>PIP2</td>\n",
       "      <td>NaN</td>\n",
       "    </tr>\n",
       "    <tr>\n",
       "      <th>237</th>\n",
       "      <td>tm1616</td>\n",
       "      <td>tm576</td>\n",
       "      <td>tm1207</td>\n",
       "      <td>YGL082W</td>\n",
       "      <td>YPL191C</td>\n",
       "      <td>YGL082W</td>\n",
       "      <td>YPL191C</td>\n",
       "      <td>NaN</td>\n",
       "    </tr>\n",
       "    <tr>\n",
       "      <th>238</th>\n",
       "      <td>tm95</td>\n",
       "      <td>tm448</td>\n",
       "      <td>tm1137</td>\n",
       "      <td>YMR175W</td>\n",
       "      <td>YPL223C</td>\n",
       "      <td>SIP18</td>\n",
       "      <td>GRE1</td>\n",
       "      <td>NaN</td>\n",
       "    </tr>\n",
       "    <tr>\n",
       "      <th>239</th>\n",
       "      <td>tm51</td>\n",
       "      <td>tm457</td>\n",
       "      <td>tm1094</td>\n",
       "      <td>YDL127W</td>\n",
       "      <td>YDL179W</td>\n",
       "      <td>PCL2</td>\n",
       "      <td>PCL9</td>\n",
       "      <td>NaN</td>\n",
       "    </tr>\n",
       "  </tbody>\n",
       "</table>\n",
       "<p>240 rows × 8 columns</p>\n",
       "</div>"
      ],
      "text/plain": [
       "    DM strainID  SM1 strainID SM2 strainID     ORF1     ORF2    Gene1  \\\n",
       "0          tm143        tm405       tm2305  YBR014C  YDL010W     GRX7   \n",
       "1          tm164        tm550       tm2249  YLL012W  YLR020C     YEH1   \n",
       "2         tm1509        tm651        tm362  YHR001W  YKR003W     OSH7   \n",
       "3         tm3397        tm697       tm2295  YGR243W  YHR162W     MPC3   \n",
       "4          tm170        tm468       tm1283  YJR091C  YPR042C     JSN1   \n",
       "..           ...          ...          ...      ...      ...      ...   \n",
       "235        tm108        tm596       tm1150  YMR222C  YOR280C     FSH2   \n",
       "236       tm1554       tm1861       tm1805  YAL051W  YOR363C     OAF1   \n",
       "237       tm1616        tm576       tm1207  YGL082W  YPL191C  YGL082W   \n",
       "238         tm95        tm448       tm1137  YMR175W  YPL223C    SIP18   \n",
       "239         tm51        tm457       tm1094  YDL127W  YDL179W     PCL2   \n",
       "\n",
       "       Gene2 Ohnolog (A-A) or Homeolog (A-AB)  \n",
       "0       GRX6                           A - AB  \n",
       "1       YEH2                           A - AB  \n",
       "2       OSH6                           A - AB  \n",
       "3       MPC2                           A - AB  \n",
       "4       PUF2                           A - AB  \n",
       "..       ...                              ...  \n",
       "235     FSH3                              NaN  \n",
       "236     PIP2                              NaN  \n",
       "237  YPL191C                              NaN  \n",
       "238     GRE1                              NaN  \n",
       "239     PCL9                              NaN  \n",
       "\n",
       "[240 rows x 8 columns]"
      ]
     },
     "execution_count": 28,
     "metadata": {},
     "output_type": "execute_result"
    }
   ],
   "source": [
    "test = pd.read_csv(\"/Users/bjarnold/Princeton_DataX/Epistasis/higher_order_reanalysis/yeast_screens/KuzminEtAl2020/aaz5667-Table-S8.txt\", sep=\"\\t\", encoding = \"ISO-8859-1\")\n",
    "test"
   ]
  },
  {
   "cell_type": "code",
   "execution_count": null,
   "metadata": {},
   "outputs": [
    {
     "ename": "NameError",
     "evalue": "name 'tmp_pos' is not defined",
     "output_type": "error",
     "traceback": [
      "\u001b[0;31m---------------------------------------------------------------------------\u001b[0m",
      "\u001b[0;31mNameError\u001b[0m                                 Traceback (most recent call last)",
      "\u001b[0;32m<ipython-input-29-ef680282725b>\u001b[0m in \u001b[0;36m<module>\u001b[0;34m\u001b[0m\n\u001b[1;32m      1\u001b[0m \u001b[0mfig\u001b[0m\u001b[0;34m,\u001b[0m \u001b[0maxs\u001b[0m \u001b[0;34m=\u001b[0m \u001b[0mplt\u001b[0m\u001b[0;34m.\u001b[0m\u001b[0msubplots\u001b[0m\u001b[0;34m(\u001b[0m\u001b[0mncols\u001b[0m\u001b[0;34m=\u001b[0m\u001b[0;36m2\u001b[0m\u001b[0;34m,\u001b[0m \u001b[0mfigsize\u001b[0m\u001b[0;34m=\u001b[0m\u001b[0;34m(\u001b[0m\u001b[0;36m15\u001b[0m\u001b[0;34m,\u001b[0m\u001b[0;36m5\u001b[0m\u001b[0;34m)\u001b[0m\u001b[0;34m)\u001b[0m\u001b[0;34m\u001b[0m\u001b[0;34m\u001b[0m\u001b[0m\n\u001b[1;32m      2\u001b[0m \u001b[0;34m\u001b[0m\u001b[0m\n\u001b[0;32m----> 3\u001b[0;31m \u001b[0mpos_multiplicative_alleles\u001b[0m \u001b[0;34m=\u001b[0m \u001b[0mtmp_pos\u001b[0m\u001b[0;34m.\u001b[0m\u001b[0malleles\u001b[0m\u001b[0;34m[\u001b[0m\u001b[0;34m(\u001b[0m\u001b[0mtmp_pos\u001b[0m\u001b[0;34m.\u001b[0m\u001b[0marray_allele_name_x\u001b[0m\u001b[0;34m.\u001b[0m\u001b[0misna\u001b[0m\u001b[0;34m(\u001b[0m\u001b[0;34m)\u001b[0m\u001b[0;34m)\u001b[0m \u001b[0;34m&\u001b[0m \u001b[0;34m(\u001b[0m\u001b[0mtmp_pos\u001b[0m\u001b[0;34m.\u001b[0m\u001b[0marray_allele_name_y\u001b[0m\u001b[0;34m.\u001b[0m\u001b[0mnotna\u001b[0m\u001b[0;34m(\u001b[0m\u001b[0;34m)\u001b[0m\u001b[0;34m)\u001b[0m\u001b[0;34m]\u001b[0m\u001b[0;34m\u001b[0m\u001b[0;34m\u001b[0m\u001b[0m\n\u001b[0m\u001b[1;32m      4\u001b[0m \u001b[0mtmp\u001b[0m \u001b[0;34m=\u001b[0m \u001b[0mdf\u001b[0m\u001b[0;34m.\u001b[0m\u001b[0mloc\u001b[0m\u001b[0;34m[\u001b[0m\u001b[0mdf\u001b[0m\u001b[0;34m[\u001b[0m\u001b[0;34m'alleles'\u001b[0m\u001b[0;34m]\u001b[0m\u001b[0;34m.\u001b[0m\u001b[0misin\u001b[0m\u001b[0;34m(\u001b[0m\u001b[0mpos_multiplicative_alleles\u001b[0m\u001b[0;34m)\u001b[0m\u001b[0;34m]\u001b[0m\u001b[0;34m\u001b[0m\u001b[0;34m\u001b[0m\u001b[0m\n\u001b[1;32m      5\u001b[0m \u001b[0;34m\u001b[0m\u001b[0m\n",
      "\u001b[0;31mNameError\u001b[0m: name 'tmp_pos' is not defined"
     ]
    },
    {
     "data": {
      "image/png": "[encoded data removed]",
      "text/plain": [
       "<Figure size 1080x360 with 2 Axes>"
      ]
     },
     "metadata": {
      "needs_background": "light"
     },
     "output_type": "display_data"
    }
   ],
   "source": [
    "fig, axs = plt.subplots(ncols=2, figsize=(15,5))\n",
    "\n",
    "pos_multiplicative_alleles = tmp_pos.alleles[(tmp_pos.array_allele_name_x.isna()) & (tmp_pos.array_allele_name_y.notna())]\n",
    "tmp = df.loc[df['alleles'].isin(pos_multiplicative_alleles)]\n",
    "\n",
    "p = sns.scatterplot(x=tmp[isserlis],\n",
    "            y=tmp[multiplicative],\n",
    "            alpha=0.3,\n",
    "            linewidth=0,\n",
    "            ax=axs[0])\n",
    "axs[0].set(xlabel='tau_cumulant', ylabel='tau_multiplicative')\n",
    "#p.set_xlim(-1,1)\n",
    "axs[0].set_yscale('log')\n",
    "#p.set_ylim(0.02,8)\n",
    "axs[0].axhline(tau_mult_neg_sig_val, color=\"red\", linestyle=\"--\", linewidth=0.5)\n",
    "axs[0].axhline(tau_mult_pos_sig_val, color=\"red\", linestyle=\"--\", linewidth=0.5)\n",
    "axs[0].axvline(-0.08, color=\"red\", linestyle=\"--\", linewidth=0.5)\n",
    "axs[0].axvline(0.08, color=\"red\", linestyle=\"--\", linewidth=0.5)\n",
    "axs[0].axvline(0.0, color=\"black\", linestyle=\"--\", linewidth=0.5)\n",
    "\n",
    "neg_multiplicative_alleles = tmp_neg.alleles[(tmp_neg.array_allele_name_x.isna()) & (tmp_neg.array_allele_name_y.notna())]\n",
    "tmp = df.loc[df['alleles'].isin(neg_multiplicative_alleles)]\n",
    "\n",
    "p = sns.scatterplot(x=tmp[isserlis],\n",
    "            y=tmp[multiplicative],\n",
    "            alpha=0.3,\n",
    "            linewidth=0,\n",
    "            ax=axs[1])\n",
    "axs[1].set(xlabel='tau_cumulant', ylabel='tau_multiplicative')\n",
    "#p.set_xlim(-1,1)\n",
    "axs[1].set_yscale('log')\n",
    "#p.set_ylim(0.02,8)\n",
    "axs[1].axhline(tau_mult_neg_sig_val, color=\"red\", linestyle=\"--\", linewidth=0.5)\n",
    "axs[1].axhline(tau_mult_pos_sig_val, color=\"red\", linestyle=\"--\", linewidth=0.5)\n",
    "axs[1].axvline(-0.08, color=\"red\", linestyle=\"--\", linewidth=0.5)\n",
    "axs[1].axvline(0.08, color=\"red\", linestyle=\"--\", linewidth=0.5)\n",
    "axs[1].axvline(0.0, color=\"black\", linestyle=\"--\", linewidth=0.5)\n"
   ]
  },
  {
   "cell_type": "code",
   "execution_count": null,
   "metadata": {},
   "outputs": [
    {
     "data": {
      "text/plain": [
       "<AxesSubplot:xlabel='adjusted_interaction_score_epsilon_or_tau', ylabel='Density'>"
      ]
     },
     "execution_count": 21,
     "metadata": {},
     "output_type": "execute_result"
    },
    {
     "data": {
      "image/png": "[encoded data removed]",
      "text/plain": [
       "<Figure size 432x288 with 1 Axes>"
      ]
     },
     "metadata": {
      "needs_background": "light"
     },
     "output_type": "display_data"
    }
   ],
   "source": [
    "sns.histplot(df.adjusted_interaction_score_epsilon_or_tau, color=\"red\", stat=\"density\")\n",
    "sns.histplot(df_sig.adjusted_interaction_score_epsilon_or_tau, color=\"blue\", stat=\"density\")"
   ]
  },
  {
   "cell_type": "code",
   "execution_count": null,
   "metadata": {},
   "outputs": [
    {
     "name": "stdout",
     "output_type": "stream",
     "text": [
      "1.0657718662406535\n",
      "0.9626505926200865\n",
      "2.475594397354814\n"
     ]
    },
    {
     "name": "stderr",
     "output_type": "stream",
     "text": [
      "/Users/bjarnold/miniconda/envs/datascience/lib/python3.8/site-packages/seaborn/_decorators.py:36: FutureWarning: Pass the following variables as keyword args: x, y. From version 0.12, the only valid positional argument will be `data`, and passing other arguments without an explicit keyword will result in an error or misinterpretation.\n",
      "  warnings.warn(\n"
     ]
    },
    {
     "data": {
      "image/png": "[encoded data removed]",
      "text/plain": [
       "<Figure size 432x288 with 1 Axes>"
      ]
     },
     "metadata": {
      "needs_background": "light"
     },
     "output_type": "display_data"
    }
   ],
   "source": [
    "\n",
    "p = sns.scatterplot(df_sig.adjusted_interaction_score_epsilon_or_tau,df_sig.num_physical_interactions, alpha=0.1)\n",
    "\n",
    "\n",
    "#tmp = \"adjusted_interaction_score_epsilon_or_tau\"\n",
    "tmp = multiplicative\n",
    "\n",
    "#print(np.nanmean( df_sig[tmp][(df_sig[tmp] > 0) & (df_sig.oneplus_physical_interactions == 0)] ))\n",
    "#print(np.nanmean( df_sig[tmp][(df_sig[tmp] > 0) & (df_sig.oneplus_physical_interactions == 1)] ))\n",
    "\n",
    "print(np.nanmean( df_sig[tmp][ df_sig.num_physical_interactions == 0] ))\n",
    "print(np.nanmean( df_sig[tmp][ df_sig.num_physical_interactions == 1] ))\n",
    "print(np.nanmean( df_sig[tmp][ df_sig.num_physical_interactions >= 2] ))\n",
    "\n",
    "#print(np.nanmedian(df_sig.adjusted_interaction_score_epsilon_or_tau[df_sig.oneplus_physical_interactions == 0]))\n",
    "#print(np.nanmedian(df_sig.adjusted_interaction_score_epsilon_or_tau[df_sig.oneplus_physical_interactions == 1]))\n",
    "\n",
    "#print(np.nanmedian(df_sig[multiplicative][df_sig.oneplus_physical_interactions == 0]))\n",
    "#print(np.nanmedian(df_sig[multiplicative][df_sig.oneplus_physical_interactions == 1]))"
   ]
  },
  {
   "cell_type": "code",
   "execution_count": null,
   "metadata": {},
   "outputs": [
    {
     "name": "stdout",
     "output_type": "stream",
     "text": [
      "7957\n"
     ]
    },
    {
     "name": "stderr",
     "output_type": "stream",
     "text": [
      "<ipython-input-56-e55ec59d5644>:10: RuntimeWarning: invalid value encountered in log\n",
      "  res = LogisticRegression(random_state=0).fit(np.log(X), Y)\n"
     ]
    },
    {
     "ename": "ValueError",
     "evalue": "Input contains NaN, infinity or a value too large for dtype('float64').",
     "output_type": "error",
     "traceback": [
      "\u001b[0;31m---------------------------------------------------------------------------\u001b[0m",
      "\u001b[0;31mValueError\u001b[0m                                Traceback (most recent call last)",
      "\u001b[0;32m<ipython-input-56-e55ec59d5644>\u001b[0m in \u001b[0;36m<module>\u001b[0;34m\u001b[0m\n\u001b[1;32m      8\u001b[0m \u001b[0mprint\u001b[0m\u001b[0;34m(\u001b[0m\u001b[0mlen\u001b[0m\u001b[0;34m(\u001b[0m\u001b[0mX\u001b[0m\u001b[0;34m)\u001b[0m\u001b[0;34m)\u001b[0m\u001b[0;34m\u001b[0m\u001b[0;34m\u001b[0m\u001b[0m\n\u001b[1;32m      9\u001b[0m \u001b[0;34m\u001b[0m\u001b[0m\n\u001b[0;32m---> 10\u001b[0;31m \u001b[0mres\u001b[0m \u001b[0;34m=\u001b[0m \u001b[0mLogisticRegression\u001b[0m\u001b[0;34m(\u001b[0m\u001b[0mrandom_state\u001b[0m\u001b[0;34m=\u001b[0m\u001b[0;36m0\u001b[0m\u001b[0;34m)\u001b[0m\u001b[0;34m.\u001b[0m\u001b[0mfit\u001b[0m\u001b[0;34m(\u001b[0m\u001b[0mnp\u001b[0m\u001b[0;34m.\u001b[0m\u001b[0mlog\u001b[0m\u001b[0;34m(\u001b[0m\u001b[0mX\u001b[0m\u001b[0;34m)\u001b[0m\u001b[0;34m,\u001b[0m \u001b[0mY\u001b[0m\u001b[0;34m)\u001b[0m\u001b[0;34m\u001b[0m\u001b[0;34m\u001b[0m\u001b[0m\n\u001b[0m\u001b[1;32m     11\u001b[0m \u001b[0mprint\u001b[0m\u001b[0;34m(\u001b[0m\u001b[0mres\u001b[0m\u001b[0;34m.\u001b[0m\u001b[0mcoef_\u001b[0m\u001b[0;34m)\u001b[0m\u001b[0;34m\u001b[0m\u001b[0;34m\u001b[0m\u001b[0m\n\u001b[1;32m     12\u001b[0m \u001b[0mprint\u001b[0m\u001b[0;34m(\u001b[0m\u001b[0mres\u001b[0m\u001b[0;34m.\u001b[0m\u001b[0mintercept_\u001b[0m\u001b[0;34m)\u001b[0m\u001b[0;34m\u001b[0m\u001b[0;34m\u001b[0m\u001b[0m\n",
      "\u001b[0;32m~/miniconda/envs/datascience/lib/python3.8/site-packages/sklearn/linear_model/_logistic.py\u001b[0m in \u001b[0;36mfit\u001b[0;34m(self, X, y, sample_weight)\u001b[0m\n\u001b[1;32m   1340\u001b[0m             \u001b[0m_dtype\u001b[0m \u001b[0;34m=\u001b[0m \u001b[0;34m[\u001b[0m\u001b[0mnp\u001b[0m\u001b[0;34m.\u001b[0m\u001b[0mfloat64\u001b[0m\u001b[0;34m,\u001b[0m \u001b[0mnp\u001b[0m\u001b[0;34m.\u001b[0m\u001b[0mfloat32\u001b[0m\u001b[0;34m]\u001b[0m\u001b[0;34m\u001b[0m\u001b[0;34m\u001b[0m\u001b[0m\n\u001b[1;32m   1341\u001b[0m \u001b[0;34m\u001b[0m\u001b[0m\n\u001b[0;32m-> 1342\u001b[0;31m         X, y = self._validate_data(X, y, accept_sparse='csr', dtype=_dtype,\n\u001b[0m\u001b[1;32m   1343\u001b[0m                                    \u001b[0morder\u001b[0m\u001b[0;34m=\u001b[0m\u001b[0;34m\"C\"\u001b[0m\u001b[0;34m,\u001b[0m\u001b[0;34m\u001b[0m\u001b[0;34m\u001b[0m\u001b[0m\n\u001b[1;32m   1344\u001b[0m                                    accept_large_sparse=solver != 'liblinear')\n",
      "\u001b[0;32m~/miniconda/envs/datascience/lib/python3.8/site-packages/sklearn/base.py\u001b[0m in \u001b[0;36m_validate_data\u001b[0;34m(self, X, y, reset, validate_separately, **check_params)\u001b[0m\n\u001b[1;32m    430\u001b[0m                 \u001b[0my\u001b[0m \u001b[0;34m=\u001b[0m \u001b[0mcheck_array\u001b[0m\u001b[0;34m(\u001b[0m\u001b[0my\u001b[0m\u001b[0;34m,\u001b[0m \u001b[0;34m**\u001b[0m\u001b[0mcheck_y_params\u001b[0m\u001b[0;34m)\u001b[0m\u001b[0;34m\u001b[0m\u001b[0;34m\u001b[0m\u001b[0m\n\u001b[1;32m    431\u001b[0m             \u001b[0;32melse\u001b[0m\u001b[0;34m:\u001b[0m\u001b[0;34m\u001b[0m\u001b[0;34m\u001b[0m\u001b[0m\n\u001b[0;32m--> 432\u001b[0;31m                 \u001b[0mX\u001b[0m\u001b[0;34m,\u001b[0m \u001b[0my\u001b[0m \u001b[0;34m=\u001b[0m \u001b[0mcheck_X_y\u001b[0m\u001b[0;34m(\u001b[0m\u001b[0mX\u001b[0m\u001b[0;34m,\u001b[0m \u001b[0my\u001b[0m\u001b[0;34m,\u001b[0m \u001b[0;34m**\u001b[0m\u001b[0mcheck_params\u001b[0m\u001b[0;34m)\u001b[0m\u001b[0;34m\u001b[0m\u001b[0;34m\u001b[0m\u001b[0m\n\u001b[0m\u001b[1;32m    433\u001b[0m             \u001b[0mout\u001b[0m \u001b[0;34m=\u001b[0m \u001b[0mX\u001b[0m\u001b[0;34m,\u001b[0m \u001b[0my\u001b[0m\u001b[0;34m\u001b[0m\u001b[0;34m\u001b[0m\u001b[0m\n\u001b[1;32m    434\u001b[0m \u001b[0;34m\u001b[0m\u001b[0m\n",
      "\u001b[0;32m~/miniconda/envs/datascience/lib/python3.8/site-packages/sklearn/utils/validation.py\u001b[0m in \u001b[0;36minner_f\u001b[0;34m(*args, **kwargs)\u001b[0m\n\u001b[1;32m     70\u001b[0m                           FutureWarning)\n\u001b[1;32m     71\u001b[0m         \u001b[0mkwargs\u001b[0m\u001b[0;34m.\u001b[0m\u001b[0mupdate\u001b[0m\u001b[0;34m(\u001b[0m\u001b[0;34m{\u001b[0m\u001b[0mk\u001b[0m\u001b[0;34m:\u001b[0m \u001b[0marg\u001b[0m \u001b[0;32mfor\u001b[0m \u001b[0mk\u001b[0m\u001b[0;34m,\u001b[0m \u001b[0marg\u001b[0m \u001b[0;32min\u001b[0m \u001b[0mzip\u001b[0m\u001b[0;34m(\u001b[0m\u001b[0msig\u001b[0m\u001b[0;34m.\u001b[0m\u001b[0mparameters\u001b[0m\u001b[0;34m,\u001b[0m \u001b[0margs\u001b[0m\u001b[0;34m)\u001b[0m\u001b[0;34m}\u001b[0m\u001b[0;34m)\u001b[0m\u001b[0;34m\u001b[0m\u001b[0;34m\u001b[0m\u001b[0m\n\u001b[0;32m---> 72\u001b[0;31m         \u001b[0;32mreturn\u001b[0m \u001b[0mf\u001b[0m\u001b[0;34m(\u001b[0m\u001b[0;34m**\u001b[0m\u001b[0mkwargs\u001b[0m\u001b[0;34m)\u001b[0m\u001b[0;34m\u001b[0m\u001b[0;34m\u001b[0m\u001b[0m\n\u001b[0m\u001b[1;32m     73\u001b[0m     \u001b[0;32mreturn\u001b[0m \u001b[0minner_f\u001b[0m\u001b[0;34m\u001b[0m\u001b[0;34m\u001b[0m\u001b[0m\n\u001b[1;32m     74\u001b[0m \u001b[0;34m\u001b[0m\u001b[0m\n",
      "\u001b[0;32m~/miniconda/envs/datascience/lib/python3.8/site-packages/sklearn/utils/validation.py\u001b[0m in \u001b[0;36mcheck_X_y\u001b[0;34m(X, y, accept_sparse, accept_large_sparse, dtype, order, copy, force_all_finite, ensure_2d, allow_nd, multi_output, ensure_min_samples, ensure_min_features, y_numeric, estimator)\u001b[0m\n\u001b[1;32m    793\u001b[0m         \u001b[0;32mraise\u001b[0m \u001b[0mValueError\u001b[0m\u001b[0;34m(\u001b[0m\u001b[0;34m\"y cannot be None\"\u001b[0m\u001b[0;34m)\u001b[0m\u001b[0;34m\u001b[0m\u001b[0;34m\u001b[0m\u001b[0m\n\u001b[1;32m    794\u001b[0m \u001b[0;34m\u001b[0m\u001b[0m\n\u001b[0;32m--> 795\u001b[0;31m     X = check_array(X, accept_sparse=accept_sparse,\n\u001b[0m\u001b[1;32m    796\u001b[0m                     \u001b[0maccept_large_sparse\u001b[0m\u001b[0;34m=\u001b[0m\u001b[0maccept_large_sparse\u001b[0m\u001b[0;34m,\u001b[0m\u001b[0;34m\u001b[0m\u001b[0;34m\u001b[0m\u001b[0m\n\u001b[1;32m    797\u001b[0m                     \u001b[0mdtype\u001b[0m\u001b[0;34m=\u001b[0m\u001b[0mdtype\u001b[0m\u001b[0;34m,\u001b[0m \u001b[0morder\u001b[0m\u001b[0;34m=\u001b[0m\u001b[0morder\u001b[0m\u001b[0;34m,\u001b[0m \u001b[0mcopy\u001b[0m\u001b[0;34m=\u001b[0m\u001b[0mcopy\u001b[0m\u001b[0;34m,\u001b[0m\u001b[0;34m\u001b[0m\u001b[0;34m\u001b[0m\u001b[0m\n",
      "\u001b[0;32m~/miniconda/envs/datascience/lib/python3.8/site-packages/sklearn/utils/validation.py\u001b[0m in \u001b[0;36minner_f\u001b[0;34m(*args, **kwargs)\u001b[0m\n\u001b[1;32m     70\u001b[0m                           FutureWarning)\n\u001b[1;32m     71\u001b[0m         \u001b[0mkwargs\u001b[0m\u001b[0;34m.\u001b[0m\u001b[0mupdate\u001b[0m\u001b[0;34m(\u001b[0m\u001b[0;34m{\u001b[0m\u001b[0mk\u001b[0m\u001b[0;34m:\u001b[0m \u001b[0marg\u001b[0m \u001b[0;32mfor\u001b[0m \u001b[0mk\u001b[0m\u001b[0;34m,\u001b[0m \u001b[0marg\u001b[0m \u001b[0;32min\u001b[0m \u001b[0mzip\u001b[0m\u001b[0;34m(\u001b[0m\u001b[0msig\u001b[0m\u001b[0;34m.\u001b[0m\u001b[0mparameters\u001b[0m\u001b[0;34m,\u001b[0m \u001b[0margs\u001b[0m\u001b[0;34m)\u001b[0m\u001b[0;34m}\u001b[0m\u001b[0;34m)\u001b[0m\u001b[0;34m\u001b[0m\u001b[0;34m\u001b[0m\u001b[0m\n\u001b[0;32m---> 72\u001b[0;31m         \u001b[0;32mreturn\u001b[0m \u001b[0mf\u001b[0m\u001b[0;34m(\u001b[0m\u001b[0;34m**\u001b[0m\u001b[0mkwargs\u001b[0m\u001b[0;34m)\u001b[0m\u001b[0;34m\u001b[0m\u001b[0;34m\u001b[0m\u001b[0m\n\u001b[0m\u001b[1;32m     73\u001b[0m     \u001b[0;32mreturn\u001b[0m \u001b[0minner_f\u001b[0m\u001b[0;34m\u001b[0m\u001b[0;34m\u001b[0m\u001b[0m\n\u001b[1;32m     74\u001b[0m \u001b[0;34m\u001b[0m\u001b[0m\n",
      "\u001b[0;32m~/miniconda/envs/datascience/lib/python3.8/site-packages/sklearn/utils/validation.py\u001b[0m in \u001b[0;36mcheck_array\u001b[0;34m(array, accept_sparse, accept_large_sparse, dtype, order, copy, force_all_finite, ensure_2d, allow_nd, ensure_min_samples, ensure_min_features, estimator)\u001b[0m\n\u001b[1;32m    642\u001b[0m \u001b[0;34m\u001b[0m\u001b[0m\n\u001b[1;32m    643\u001b[0m         \u001b[0;32mif\u001b[0m \u001b[0mforce_all_finite\u001b[0m\u001b[0;34m:\u001b[0m\u001b[0;34m\u001b[0m\u001b[0;34m\u001b[0m\u001b[0m\n\u001b[0;32m--> 644\u001b[0;31m             _assert_all_finite(array,\n\u001b[0m\u001b[1;32m    645\u001b[0m                                allow_nan=force_all_finite == 'allow-nan')\n\u001b[1;32m    646\u001b[0m \u001b[0;34m\u001b[0m\u001b[0m\n",
      "\u001b[0;32m~/miniconda/envs/datascience/lib/python3.8/site-packages/sklearn/utils/validation.py\u001b[0m in \u001b[0;36m_assert_all_finite\u001b[0;34m(X, allow_nan, msg_dtype)\u001b[0m\n\u001b[1;32m     94\u001b[0m                 not allow_nan and not np.isfinite(X).all()):\n\u001b[1;32m     95\u001b[0m             \u001b[0mtype_err\u001b[0m \u001b[0;34m=\u001b[0m \u001b[0;34m'infinity'\u001b[0m \u001b[0;32mif\u001b[0m \u001b[0mallow_nan\u001b[0m \u001b[0;32melse\u001b[0m \u001b[0;34m'NaN, infinity'\u001b[0m\u001b[0;34m\u001b[0m\u001b[0;34m\u001b[0m\u001b[0m\n\u001b[0;32m---> 96\u001b[0;31m             raise ValueError(\n\u001b[0m\u001b[1;32m     97\u001b[0m                     \u001b[0mmsg_err\u001b[0m\u001b[0;34m.\u001b[0m\u001b[0mformat\u001b[0m\u001b[0;34m\u001b[0m\u001b[0;34m\u001b[0m\u001b[0m\n\u001b[1;32m     98\u001b[0m                     (type_err,\n",
      "\u001b[0;31mValueError\u001b[0m: Input contains NaN, infinity or a value too large for dtype('float64')."
     ]
    }
   ],
   "source": [
    "#tmp = \"adjusted_interaction_score_epsilon_or_tau\"\n",
    "tmp = multiplicative\n",
    "\n",
    "subset = df_sig[tmp].notna()\n",
    "\n",
    "X = np.array(df_sig[tmp][subset]).reshape(-1,1)\n",
    "Y = df_sig.twoplus_physical_interactions[subset]\n",
    "print(len(X))\n",
    "\n",
    "res = LogisticRegression(random_state=0).fit(np.log(X), Y)\n",
    "print(res.coef_)\n",
    "print(res.intercept_)"
   ]
  },
  {
   "cell_type": "code",
   "execution_count": null,
   "metadata": {},
   "outputs": [
    {
     "name": "stderr",
     "output_type": "stream",
     "text": [
      "<ipython-input-55-1ce7a68dd2e6>:1: RuntimeWarning: invalid value encountered in log\n",
      "  np.log(X)\n"
     ]
    },
    {
     "data": {
      "text/plain": [
       "array([[-0.02488511],\n",
       "       [-0.05874193],\n",
       "       [ 0.15539719],\n",
       "       ...,\n",
       "       [ 0.15232418],\n",
       "       [-0.01888488],\n",
       "       [-0.43202115]])"
      ]
     },
     "execution_count": 55,
     "metadata": {},
     "output_type": "execute_result"
    }
   ],
   "source": [
    "np.log(X)"
   ]
  },
  {
   "cell_type": "code",
   "execution_count": null,
   "metadata": {},
   "outputs": [
    {
     "data": {
      "text/html": [
       "<div>\n",
       "<style scoped>\n",
       "    .dataframe tbody tr th:only-of-type {\n",
       "        vertical-align: middle;\n",
       "    }\n",
       "\n",
       "    .dataframe tbody tr th {\n",
       "        vertical-align: top;\n",
       "    }\n",
       "\n",
       "    .dataframe thead th {\n",
       "        text-align: right;\n",
       "    }\n",
       "</style>\n",
       "<table border=\"1\" class=\"dataframe\">\n",
       "  <thead>\n",
       "    <tr style=\"text-align: right;\">\n",
       "      <th></th>\n",
       "      <th>alleles</th>\n",
       "      <th>adjusted_interaction_score_epsilon_or_tau</th>\n",
       "      <th>tau_isserlis2</th>\n",
       "      <th>tau_multiplicative2</th>\n",
       "    </tr>\n",
       "  </thead>\n",
       "  <tbody>\n",
       "    <tr>\n",
       "      <th>5529</th>\n",
       "      <td>gpb2,gpb1,sse1</td>\n",
       "      <td>0.028460</td>\n",
       "      <td>0.021538</td>\n",
       "      <td>0.665096</td>\n",
       "    </tr>\n",
       "    <tr>\n",
       "      <th>4919</th>\n",
       "      <td>gpb2,gpb1,yor1</td>\n",
       "      <td>0.005877</td>\n",
       "      <td>-0.028110</td>\n",
       "      <td>0.836707</td>\n",
       "    </tr>\n",
       "    <tr>\n",
       "      <th>40512</th>\n",
       "      <td>kcc4,gin4,nbp2</td>\n",
       "      <td>0.089002</td>\n",
       "      <td>0.082251</td>\n",
       "      <td>0.904207</td>\n",
       "    </tr>\n",
       "    <tr>\n",
       "      <th>244756</th>\n",
       "      <td>kin4,frk1,sac1</td>\n",
       "      <td>0.000649</td>\n",
       "      <td>-0.009849</td>\n",
       "      <td>0.787189</td>\n",
       "    </tr>\n",
       "    <tr>\n",
       "      <th>202370</th>\n",
       "      <td>mlp1,mlp2,swr1</td>\n",
       "      <td>0.007475</td>\n",
       "      <td>0.011040</td>\n",
       "      <td>0.899984</td>\n",
       "    </tr>\n",
       "    <tr>\n",
       "      <th>232423</th>\n",
       "      <td>msg5,sdp1,pmr1</td>\n",
       "      <td>0.010977</td>\n",
       "      <td>0.008417</td>\n",
       "      <td>0.899355</td>\n",
       "    </tr>\n",
       "    <tr>\n",
       "      <th>48504</th>\n",
       "      <td>npp1,npp2,clg1</td>\n",
       "      <td>0.097607</td>\n",
       "      <td>0.073630</td>\n",
       "      <td>0.866068</td>\n",
       "    </tr>\n",
       "    <tr>\n",
       "      <th>48580</th>\n",
       "      <td>npp1,npp2,rpn1-821</td>\n",
       "      <td>0.009683</td>\n",
       "      <td>-0.001547</td>\n",
       "      <td>0.806872</td>\n",
       "    </tr>\n",
       "    <tr>\n",
       "      <th>223090</th>\n",
       "      <td>nup53,asm4,BET3-ph</td>\n",
       "      <td>0.000562</td>\n",
       "      <td>0.004658</td>\n",
       "      <td>0.726107</td>\n",
       "    </tr>\n",
       "    <tr>\n",
       "      <th>222628</th>\n",
       "      <td>nup53,asm4,TRS23-PH</td>\n",
       "      <td>0.059092</td>\n",
       "      <td>0.065270</td>\n",
       "      <td>0.563035</td>\n",
       "    </tr>\n",
       "    <tr>\n",
       "      <th>223175</th>\n",
       "      <td>nup53,asm4,gsp1-P162L</td>\n",
       "      <td>0.054710</td>\n",
       "      <td>0.063262</td>\n",
       "      <td>0.551966</td>\n",
       "    </tr>\n",
       "    <tr>\n",
       "      <th>222594</th>\n",
       "      <td>nup53,asm4,mtc5</td>\n",
       "      <td>0.021655</td>\n",
       "      <td>0.024467</td>\n",
       "      <td>0.806383</td>\n",
       "    </tr>\n",
       "    <tr>\n",
       "      <th>222773</th>\n",
       "      <td>nup53,asm4,nup145-R4</td>\n",
       "      <td>0.253145</td>\n",
       "      <td>0.259149</td>\n",
       "      <td>0.645768</td>\n",
       "    </tr>\n",
       "    <tr>\n",
       "      <th>222944</th>\n",
       "      <td>nup53,asm4,pri1-M4</td>\n",
       "      <td>0.083192</td>\n",
       "      <td>0.085438</td>\n",
       "      <td>0.801057</td>\n",
       "    </tr>\n",
       "    <tr>\n",
       "      <th>222603</th>\n",
       "      <td>nup53,asm4,sac3</td>\n",
       "      <td>0.013682</td>\n",
       "      <td>0.019505</td>\n",
       "      <td>0.043912</td>\n",
       "    </tr>\n",
       "    <tr>\n",
       "      <th>223113</th>\n",
       "      <td>nup53,asm4,ssl1-T242I</td>\n",
       "      <td>0.055696</td>\n",
       "      <td>0.056110</td>\n",
       "      <td>0.820877</td>\n",
       "    </tr>\n",
       "    <tr>\n",
       "      <th>125239</th>\n",
       "      <td>rps25a,rps25b,prp3-1</td>\n",
       "      <td>0.009349</td>\n",
       "      <td>0.000851</td>\n",
       "      <td>0.902843</td>\n",
       "    </tr>\n",
       "    <tr>\n",
       "      <th>125653</th>\n",
       "      <td>rps25a,rps25b,yml108w</td>\n",
       "      <td>0.007086</td>\n",
       "      <td>0.001061</td>\n",
       "      <td>0.900360</td>\n",
       "    </tr>\n",
       "    <tr>\n",
       "      <th>165996</th>\n",
       "      <td>rtt101,ybr259w,sup35-td</td>\n",
       "      <td>0.040066</td>\n",
       "      <td>0.026672</td>\n",
       "      <td>0.857322</td>\n",
       "    </tr>\n",
       "    <tr>\n",
       "      <th>194094</th>\n",
       "      <td>sap190,sap185,dbf2</td>\n",
       "      <td>0.007583</td>\n",
       "      <td>-0.008104</td>\n",
       "      <td>0.764805</td>\n",
       "    </tr>\n",
       "    <tr>\n",
       "      <th>150476</th>\n",
       "      <td>sbe22,sbe2,aim44</td>\n",
       "      <td>0.035104</td>\n",
       "      <td>0.039044</td>\n",
       "      <td>0.889140</td>\n",
       "    </tr>\n",
       "    <tr>\n",
       "      <th>169186</th>\n",
       "      <td>set4,set3,cct6-18</td>\n",
       "      <td>0.019506</td>\n",
       "      <td>0.008825</td>\n",
       "      <td>0.880698</td>\n",
       "    </tr>\n",
       "    <tr>\n",
       "      <th>241767</th>\n",
       "      <td>ski7,hbs1,rps16a</td>\n",
       "      <td>0.040963</td>\n",
       "      <td>0.031096</td>\n",
       "      <td>0.674212</td>\n",
       "    </tr>\n",
       "    <tr>\n",
       "      <th>241065</th>\n",
       "      <td>ski7,hbs1,rps16b</td>\n",
       "      <td>0.065148</td>\n",
       "      <td>0.058152</td>\n",
       "      <td>0.849332</td>\n",
       "    </tr>\n",
       "    <tr>\n",
       "      <th>241353</th>\n",
       "      <td>ski7,hbs1,rps23a</td>\n",
       "      <td>0.036037</td>\n",
       "      <td>0.027576</td>\n",
       "      <td>0.838386</td>\n",
       "    </tr>\n",
       "    <tr>\n",
       "      <th>240995</th>\n",
       "      <td>ski7,hbs1,rps6b</td>\n",
       "      <td>0.036243</td>\n",
       "      <td>0.028885</td>\n",
       "      <td>0.901879</td>\n",
       "    </tr>\n",
       "    <tr>\n",
       "      <th>30639</th>\n",
       "      <td>smp1,rlm1,gas1</td>\n",
       "      <td>0.065892</td>\n",
       "      <td>0.064641</td>\n",
       "      <td>0.654703</td>\n",
       "    </tr>\n",
       "    <tr>\n",
       "      <th>173349</th>\n",
       "      <td>tpk1,tpk3,nhp10</td>\n",
       "      <td>0.054012</td>\n",
       "      <td>0.047157</td>\n",
       "      <td>0.832876</td>\n",
       "    </tr>\n",
       "    <tr>\n",
       "      <th>213777</th>\n",
       "      <td>vid22,env11,cbc2</td>\n",
       "      <td>0.037221</td>\n",
       "      <td>0.021120</td>\n",
       "      <td>0.583938</td>\n",
       "    </tr>\n",
       "    <tr>\n",
       "      <th>204264</th>\n",
       "      <td>yeh1,yeh2,sur1</td>\n",
       "      <td>0.114065</td>\n",
       "      <td>0.109426</td>\n",
       "      <td>0.838860</td>\n",
       "    </tr>\n",
       "  </tbody>\n",
       "</table>\n",
       "</div>"
      ],
      "text/plain": [
       "                        alleles  adjusted_interaction_score_epsilon_or_tau  \\\n",
       "5529             gpb2,gpb1,sse1                                   0.028460   \n",
       "4919             gpb2,gpb1,yor1                                   0.005877   \n",
       "40512            kcc4,gin4,nbp2                                   0.089002   \n",
       "244756           kin4,frk1,sac1                                   0.000649   \n",
       "202370           mlp1,mlp2,swr1                                   0.007475   \n",
       "232423           msg5,sdp1,pmr1                                   0.010977   \n",
       "48504            npp1,npp2,clg1                                   0.097607   \n",
       "48580        npp1,npp2,rpn1-821                                   0.009683   \n",
       "223090       nup53,asm4,BET3-ph                                   0.000562   \n",
       "222628      nup53,asm4,TRS23-PH                                   0.059092   \n",
       "223175    nup53,asm4,gsp1-P162L                                   0.054710   \n",
       "222594          nup53,asm4,mtc5                                   0.021655   \n",
       "222773     nup53,asm4,nup145-R4                                   0.253145   \n",
       "222944       nup53,asm4,pri1-M4                                   0.083192   \n",
       "222603          nup53,asm4,sac3                                   0.013682   \n",
       "223113    nup53,asm4,ssl1-T242I                                   0.055696   \n",
       "125239     rps25a,rps25b,prp3-1                                   0.009349   \n",
       "125653    rps25a,rps25b,yml108w                                   0.007086   \n",
       "165996  rtt101,ybr259w,sup35-td                                   0.040066   \n",
       "194094       sap190,sap185,dbf2                                   0.007583   \n",
       "150476         sbe22,sbe2,aim44                                   0.035104   \n",
       "169186        set4,set3,cct6-18                                   0.019506   \n",
       "241767         ski7,hbs1,rps16a                                   0.040963   \n",
       "241065         ski7,hbs1,rps16b                                   0.065148   \n",
       "241353         ski7,hbs1,rps23a                                   0.036037   \n",
       "240995          ski7,hbs1,rps6b                                   0.036243   \n",
       "30639            smp1,rlm1,gas1                                   0.065892   \n",
       "173349          tpk1,tpk3,nhp10                                   0.054012   \n",
       "213777         vid22,env11,cbc2                                   0.037221   \n",
       "204264           yeh1,yeh2,sur1                                   0.114065   \n",
       "\n",
       "        tau_isserlis2  tau_multiplicative2  \n",
       "5529         0.021538             0.665096  \n",
       "4919        -0.028110             0.836707  \n",
       "40512        0.082251             0.904207  \n",
       "244756      -0.009849             0.787189  \n",
       "202370       0.011040             0.899984  \n",
       "232423       0.008417             0.899355  \n",
       "48504        0.073630             0.866068  \n",
       "48580       -0.001547             0.806872  \n",
       "223090       0.004658             0.726107  \n",
       "222628       0.065270             0.563035  \n",
       "223175       0.063262             0.551966  \n",
       "222594       0.024467             0.806383  \n",
       "222773       0.259149             0.645768  \n",
       "222944       0.085438             0.801057  \n",
       "222603       0.019505             0.043912  \n",
       "223113       0.056110             0.820877  \n",
       "125239       0.000851             0.902843  \n",
       "125653       0.001061             0.900360  \n",
       "165996       0.026672             0.857322  \n",
       "194094      -0.008104             0.764805  \n",
       "150476       0.039044             0.889140  \n",
       "169186       0.008825             0.880698  \n",
       "241767       0.031096             0.674212  \n",
       "241065       0.058152             0.849332  \n",
       "241353       0.027576             0.838386  \n",
       "240995       0.028885             0.901879  \n",
       "30639        0.064641             0.654703  \n",
       "173349       0.047157             0.832876  \n",
       "213777       0.021120             0.583938  \n",
       "204264       0.109426             0.838860  "
      ]
     },
     "execution_count": 23,
     "metadata": {},
     "output_type": "execute_result"
    }
   ],
   "source": [
    "neg_multiplicative_alleles = tmp_neg.alleles[(tmp_neg.array_allele_name_x.isna()) & (tmp_neg.array_allele_name_y.notna())]\n",
    "tmp = df.loc[df['alleles'].isin(neg_multiplicative_alleles)]\n",
    "\n",
    "x = tmp[(tmp.adjusted_interaction_score_epsilon_or_tau>0.00)][[\"alleles\", \"adjusted_interaction_score_epsilon_or_tau\", isserlis, multiplicative]].sort_values(by=\"alleles\")\n",
    "x.tail(30)\n"
   ]
  },
  {
   "cell_type": "code",
   "execution_count": null,
   "metadata": {},
   "outputs": [
    {
     "data": {
      "text/html": [
       "<div>\n",
       "<style scoped>\n",
       "    .dataframe tbody tr th:only-of-type {\n",
       "        vertical-align: middle;\n",
       "    }\n",
       "\n",
       "    .dataframe tbody tr th {\n",
       "        vertical-align: top;\n",
       "    }\n",
       "\n",
       "    .dataframe thead th {\n",
       "        text-align: right;\n",
       "    }\n",
       "</style>\n",
       "<table border=\"1\" class=\"dataframe\">\n",
       "  <thead>\n",
       "    <tr style=\"text-align: right;\">\n",
       "      <th></th>\n",
       "      <th>alleles</th>\n",
       "      <th>adjusted_interaction_score_epsilon_or_tau</th>\n",
       "      <th>tau_isserlis2</th>\n",
       "      <th>tau_multiplicative2</th>\n",
       "    </tr>\n",
       "  </thead>\n",
       "  <tbody>\n",
       "    <tr>\n",
       "      <th>49814</th>\n",
       "      <td>are1,are2,bck1</td>\n",
       "      <td>-0.014766</td>\n",
       "      <td>-0.013266</td>\n",
       "      <td>1.110828</td>\n",
       "    </tr>\n",
       "    <tr>\n",
       "      <th>50274</th>\n",
       "      <td>are1,are2,chl1</td>\n",
       "      <td>-0.017532</td>\n",
       "      <td>-0.015424</td>\n",
       "      <td>1.206408</td>\n",
       "    </tr>\n",
       "    <tr>\n",
       "      <th>50260</th>\n",
       "      <td>are1,are2,myo2-14</td>\n",
       "      <td>-0.021713</td>\n",
       "      <td>-0.020670</td>\n",
       "      <td>1.133033</td>\n",
       "    </tr>\n",
       "    <tr>\n",
       "      <th>49818</th>\n",
       "      <td>are1,are2,pam16-3</td>\n",
       "      <td>-0.002152</td>\n",
       "      <td>-0.001603</td>\n",
       "      <td>1.114013</td>\n",
       "    </tr>\n",
       "    <tr>\n",
       "      <th>49968</th>\n",
       "      <td>are1,are2,sed5-1</td>\n",
       "      <td>-0.049710</td>\n",
       "      <td>-0.050641</td>\n",
       "      <td>1.130057</td>\n",
       "    </tr>\n",
       "    <tr>\n",
       "      <th>227988</th>\n",
       "      <td>cik1,vik1,sup35-td</td>\n",
       "      <td>-0.025101</td>\n",
       "      <td>0.020738</td>\n",
       "      <td>75.337056</td>\n",
       "    </tr>\n",
       "    <tr>\n",
       "      <th>91961</th>\n",
       "      <td>heh2,src1,pom34</td>\n",
       "      <td>-0.015177</td>\n",
       "      <td>-0.019067</td>\n",
       "      <td>1.108816</td>\n",
       "    </tr>\n",
       "    <tr>\n",
       "      <th>91486</th>\n",
       "      <td>heh2,src1,sac3</td>\n",
       "      <td>-0.021025</td>\n",
       "      <td>-0.019787</td>\n",
       "      <td>1.246198</td>\n",
       "    </tr>\n",
       "    <tr>\n",
       "      <th>91355</th>\n",
       "      <td>heh2,src1,sec66</td>\n",
       "      <td>-0.028749</td>\n",
       "      <td>-0.031521</td>\n",
       "      <td>1.255338</td>\n",
       "    </tr>\n",
       "    <tr>\n",
       "      <th>130541</th>\n",
       "      <td>lsb1,pin3,cog3-1</td>\n",
       "      <td>-0.056894</td>\n",
       "      <td>-0.023561</td>\n",
       "      <td>1.173636</td>\n",
       "    </tr>\n",
       "    <tr>\n",
       "      <th>125169</th>\n",
       "      <td>rps25a,rps25b,sac3</td>\n",
       "      <td>-0.001294</td>\n",
       "      <td>0.003098</td>\n",
       "      <td>1.109380</td>\n",
       "    </tr>\n",
       "  </tbody>\n",
       "</table>\n",
       "</div>"
      ],
      "text/plain": [
       "                   alleles  adjusted_interaction_score_epsilon_or_tau  \\\n",
       "49814       are1,are2,bck1                                  -0.014766   \n",
       "50274       are1,are2,chl1                                  -0.017532   \n",
       "50260    are1,are2,myo2-14                                  -0.021713   \n",
       "49818    are1,are2,pam16-3                                  -0.002152   \n",
       "49968     are1,are2,sed5-1                                  -0.049710   \n",
       "227988  cik1,vik1,sup35-td                                  -0.025101   \n",
       "91961      heh2,src1,pom34                                  -0.015177   \n",
       "91486       heh2,src1,sac3                                  -0.021025   \n",
       "91355      heh2,src1,sec66                                  -0.028749   \n",
       "130541    lsb1,pin3,cog3-1                                  -0.056894   \n",
       "125169  rps25a,rps25b,sac3                                  -0.001294   \n",
       "\n",
       "        tau_isserlis2  tau_multiplicative2  \n",
       "49814       -0.013266             1.110828  \n",
       "50274       -0.015424             1.206408  \n",
       "50260       -0.020670             1.133033  \n",
       "49818       -0.001603             1.114013  \n",
       "49968       -0.050641             1.130057  \n",
       "227988       0.020738            75.337056  \n",
       "91961       -0.019067             1.108816  \n",
       "91486       -0.019787             1.246198  \n",
       "91355       -0.031521             1.255338  \n",
       "130541      -0.023561             1.173636  \n",
       "125169       0.003098             1.109380  "
      ]
     },
     "execution_count": 24,
     "metadata": {},
     "output_type": "execute_result"
    }
   ],
   "source": [
    "pos_multiplicative_alleles = tmp_pos.alleles[(tmp_pos.array_allele_name_x.isna()) & (tmp_pos.array_allele_name_y.notna())]\n",
    "tmp = df.loc[df['alleles'].isin(pos_multiplicative_alleles)]\n",
    "\n",
    "tmp[(tmp.adjusted_interaction_score_epsilon_or_tau<0.00)][[\"alleles\", \"adjusted_interaction_score_epsilon_or_tau\", isserlis, multiplicative]].sort_values(by=\"alleles\")\n"
   ]
  },
  {
   "cell_type": "code",
   "execution_count": null,
   "metadata": {},
   "outputs": [
    {
     "name": "stderr",
     "output_type": "stream",
     "text": [
      "/Users/bjarnold/miniconda/envs/datascience/lib/python3.8/site-packages/seaborn/_decorators.py:36: FutureWarning: Pass the following variables as keyword args: x, y. From version 0.12, the only valid positional argument will be `data`, and passing other arguments without an explicit keyword will result in an error or misinterpretation.\n",
      "  warnings.warn(\n"
     ]
    },
    {
     "name": "stdout",
     "output_type": "stream",
     "text": [
      "                       tau_isserlis2_x  tau_multiplicative2_y\n",
      "tau_isserlis2_x               1.000000               0.702297\n",
      "tau_multiplicative2_y         0.702297               1.000000\n",
      "                       tau_isserlis2_x  tau_multiplicative2_y\n",
      "tau_isserlis2_x               1.000000               0.156976\n",
      "tau_multiplicative2_y         0.156976               1.000000\n"
     ]
    },
    {
     "data": {
      "image/png": "[encoded data removed]",
      "text/plain": [
       "<Figure size 432x288 with 1 Axes>"
      ]
     },
     "metadata": {
      "needs_background": "light"
     },
     "output_type": "display_data"
    }
   ],
   "source": [
    "tmp = tmp_pos[(tmp_pos.array_allele_name_x.notna()) & (tmp_pos.array_allele_name_y.notna())] \n",
    "p = sns.regplot(tmp[f'{isserlis}_x'],\n",
    "            tmp[f'{multiplicative}_y'],\n",
    "            scatter_kws={'alpha':0.2},\n",
    "            line_kws={'color': 'red'})\n",
    "p.set(yscale=\"log\")\n",
    "print(tmp[[f'{isserlis}_x', f'{multiplicative}_y']].corr(method=\"spearman\"))\n",
    "print(tmp[[f'{isserlis}_x', f'{multiplicative}_y']].corr(method=\"pearson\"))\n"
   ]
  },
  {
   "cell_type": "code",
   "execution_count": null,
   "metadata": {},
   "outputs": [
    {
     "name": "stderr",
     "output_type": "stream",
     "text": [
      "/Users/bjarnold/miniconda/envs/datascience/lib/python3.8/site-packages/seaborn/_decorators.py:36: FutureWarning: Pass the following variables as keyword args: x, y. From version 0.12, the only valid positional argument will be `data`, and passing other arguments without an explicit keyword will result in an error or misinterpretation.\n",
      "  warnings.warn(\n"
     ]
    },
    {
     "name": "stdout",
     "output_type": "stream",
     "text": [
      "                       tau_isserlis2_x  tau_multiplicative2_y\n",
      "tau_isserlis2_x               1.000000               0.805207\n",
      "tau_multiplicative2_y         0.805207               1.000000\n",
      "                       tau_isserlis2_x  tau_multiplicative2_y\n",
      "tau_isserlis2_x               1.000000               0.810863\n",
      "tau_multiplicative2_y         0.810863               1.000000\n"
     ]
    },
    {
     "data": {
      "image/png": "[encoded data removed]",
      "text/plain": [
       "<Figure size 432x288 with 1 Axes>"
      ]
     },
     "metadata": {
      "needs_background": "light"
     },
     "output_type": "display_data"
    }
   ],
   "source": [
    "tmp = tmp_neg[(tmp_neg.array_allele_name_x.notna()) & (tmp_neg.array_allele_name_y.notna())] \n",
    "p = sns.regplot(tmp[f'{isserlis}_x'],\n",
    "            tmp[f'{multiplicative}_y'],\n",
    "            scatter_kws={'alpha':0.2},\n",
    "            line_kws={'color': 'red'})\n",
    "p.set(yscale=\"log\")\n",
    "print(tmp[[f'{isserlis}_x', f'{multiplicative}_y']].corr(method=\"spearman\"))\n",
    "print(tmp[[f'{isserlis}_x', f'{multiplicative}_y']].corr(method=\"pearson\"))\n"
   ]
  }
 ],
 "metadata": {
  "interpreter": {
   "hash": "74a539bb1a30b12322b0673657a3362ba97f8c77e4e9b57fd18ae9f35996046a"
  },
  "kernelspec": {
   "display_name": "Python 3.8.5 ('datascience')",
   "language": "python",
   "name": "python3"
  },
  "language_info": {
   "codemirror_mode": {
    "name": "ipython",
    "version": 3
   },
   "file_extension": ".py",
   "mimetype": "text/x-python",
   "name": "python",
   "nbconvert_exporter": "python",
   "pygments_lexer": "ipython3",
   "version": "3.8.5"
  },
  "orig_nbformat": 4
 },
 "nbformat": 4,
 "nbformat_minor": 2
}
